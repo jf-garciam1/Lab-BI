{
 "cells": [
  {
   "cell_type": "code",
   "execution_count": 244,
   "metadata": {},
   "outputs": [
    {
     "name": "stdout",
     "output_type": "stream",
     "text": [
      "Requirement already satisfied: nltk in c:\\users\\pc\\appdata\\local\\programs\\python\\python311\\lib\\site-packages (3.8.1)\n",
      "Requirement already satisfied: click in c:\\users\\pc\\appdata\\local\\programs\\python\\python311\\lib\\site-packages (from nltk) (8.1.7)\n",
      "Requirement already satisfied: joblib in c:\\users\\pc\\appdata\\local\\programs\\python\\python311\\lib\\site-packages (from nltk) (1.1.1)\n",
      "Requirement already satisfied: regex>=2021.8.3 in c:\\users\\pc\\appdata\\local\\programs\\python\\python311\\lib\\site-packages (from nltk) (2023.10.3)\n",
      "Requirement already satisfied: tqdm in c:\\users\\pc\\appdata\\local\\programs\\python\\python311\\lib\\site-packages (from nltk) (4.66.1)\n",
      "Requirement already satisfied: colorama in c:\\users\\pc\\appdata\\roaming\\python\\python311\\site-packages (from click->nltk) (0.4.6)\n",
      "Note: you may need to restart the kernel to use updated packages.\n"
     ]
    },
    {
     "name": "stderr",
     "output_type": "stream",
     "text": [
      "\n",
      "[notice] A new release of pip available: 22.3.1 -> 23.2.1\n",
      "[notice] To update, run: python.exe -m pip install --upgrade pip\n"
     ]
    },
    {
     "name": "stdout",
     "output_type": "stream",
     "text": [
      "Requirement already satisfied: openpyxl in c:\\users\\pc\\appdata\\local\\programs\\python\\python311\\lib\\site-packages (3.1.2)\n",
      "Requirement already satisfied: et-xmlfile in c:\\users\\pc\\appdata\\local\\programs\\python\\python311\\lib\\site-packages (from openpyxl) (1.1.0)\n",
      "Note: you may need to restart the kernel to use updated packages.\n"
     ]
    },
    {
     "name": "stderr",
     "output_type": "stream",
     "text": [
      "\n",
      "[notice] A new release of pip available: 22.3.1 -> 23.2.1\n",
      "[notice] To update, run: python.exe -m pip install --upgrade pip\n"
     ]
    },
    {
     "name": "stdout",
     "output_type": "stream",
     "text": [
      "Requirement already satisfied: contractions in c:\\users\\pc\\appdata\\local\\programs\\python\\python311\\lib\\site-packages (0.1.73)\n",
      "Requirement already satisfied: textsearch>=0.0.21 in c:\\users\\pc\\appdata\\local\\programs\\python\\python311\\lib\\site-packages (from contractions) (0.0.24)\n",
      "Requirement already satisfied: anyascii in c:\\users\\pc\\appdata\\local\\programs\\python\\python311\\lib\\site-packages (from textsearch>=0.0.21->contractions) (0.3.2)\n",
      "Requirement already satisfied: pyahocorasick in c:\\users\\pc\\appdata\\local\\programs\\python\\python311\\lib\\site-packages (from textsearch>=0.0.21->contractions) (2.0.0)\n",
      "Note: you may need to restart the kernel to use updated packages.\n"
     ]
    },
    {
     "name": "stderr",
     "output_type": "stream",
     "text": [
      "\n",
      "[notice] A new release of pip available: 22.3.1 -> 23.2.1\n",
      "[notice] To update, run: python.exe -m pip install --upgrade pip\n"
     ]
    },
    {
     "name": "stdout",
     "output_type": "stream",
     "text": [
      "Requirement already satisfied: inflect in c:\\users\\pc\\appdata\\local\\programs\\python\\python311\\lib\\site-packages (7.0.0)\n",
      "Requirement already satisfied: pydantic>=1.9.1 in c:\\users\\pc\\appdata\\local\\programs\\python\\python311\\lib\\site-packages (from inflect) (1.10.8)\n",
      "Requirement already satisfied: typing-extensions in c:\\users\\pc\\appdata\\local\\programs\\python\\python311\\lib\\site-packages (from inflect) (4.8.0)\n",
      "Note: you may need to restart the kernel to use updated packages.\n"
     ]
    },
    {
     "name": "stderr",
     "output_type": "stream",
     "text": [
      "\n",
      "[notice] A new release of pip available: 22.3.1 -> 23.2.1\n",
      "[notice] To update, run: python.exe -m pip install --upgrade pip\n"
     ]
    },
    {
     "name": "stdout",
     "output_type": "stream",
     "text": [
      "Requirement already satisfied: spacy in c:\\users\\pc\\appdata\\local\\programs\\python\\python311\\lib\\site-packages (3.7.1)Note: you may need to restart the kernel to use updated packages.\n",
      "\n",
      "Requirement already satisfied: spacy-legacy<3.1.0,>=3.0.11 in c:\\users\\pc\\appdata\\local\\programs\\python\\python311\\lib\\site-packages (from spacy) (3.0.12)\n",
      "Requirement already satisfied: spacy-loggers<2.0.0,>=1.0.0 in c:\\users\\pc\\appdata\\local\\programs\\python\\python311\\lib\\site-packages (from spacy) (1.0.5)\n",
      "Requirement already satisfied: murmurhash<1.1.0,>=0.28.0 in c:\\users\\pc\\appdata\\local\\programs\\python\\python311\\lib\\site-packages (from spacy) (1.0.10)\n",
      "Requirement already satisfied: cymem<2.1.0,>=2.0.2 in c:\\users\\pc\\appdata\\local\\programs\\python\\python311\\lib\\site-packages (from spacy) (2.0.8)\n",
      "Requirement already satisfied: preshed<3.1.0,>=3.0.2 in c:\\users\\pc\\appdata\\local\\programs\\python\\python311\\lib\\site-packages (from spacy) (3.0.9)\n",
      "Requirement already satisfied: thinc<8.3.0,>=8.1.8 in c:\\users\\pc\\appdata\\local\\programs\\python\\python311\\lib\\site-packages (from spacy) (8.2.1)\n",
      "Requirement already satisfied: wasabi<1.2.0,>=0.9.1 in c:\\users\\pc\\appdata\\local\\programs\\python\\python311\\lib\\site-packages (from spacy) (1.1.2)\n",
      "Requirement already satisfied: srsly<3.0.0,>=2.4.3 in c:\\users\\pc\\appdata\\local\\programs\\python\\python311\\lib\\site-packages (from spacy) (2.4.8)\n",
      "Requirement already satisfied: catalogue<2.1.0,>=2.0.6 in c:\\users\\pc\\appdata\\local\\programs\\python\\python311\\lib\\site-packages (from spacy) (2.0.10)\n",
      "Requirement already satisfied: weasel<0.4.0,>=0.1.0 in c:\\users\\pc\\appdata\\local\\programs\\python\\python311\\lib\\site-packages (from spacy) (0.3.2)\n",
      "Requirement already satisfied: typer<0.10.0,>=0.3.0 in c:\\users\\pc\\appdata\\local\\programs\\python\\python311\\lib\\site-packages (from spacy) (0.9.0)\n",
      "Requirement already satisfied: pathy>=0.10.0 in c:\\users\\pc\\appdata\\local\\programs\\python\\python311\\lib\\site-packages (from spacy) (0.10.2)\n",
      "Requirement already satisfied: smart-open<7.0.0,>=5.2.1 in c:\\users\\pc\\appdata\\local\\programs\\python\\python311\\lib\\site-packages (from spacy) (6.4.0)\n",
      "Requirement already satisfied: tqdm<5.0.0,>=4.38.0 in c:\\users\\pc\\appdata\\local\\programs\\python\\python311\\lib\\site-packages (from spacy) (4.66.1)\n",
      "Requirement already satisfied: requests<3.0.0,>=2.13.0 in c:\\users\\pc\\appdata\\local\\programs\\python\\python311\\lib\\site-packages (from spacy) (2.28.2)\n",
      "Requirement already satisfied: pydantic!=1.8,!=1.8.1,<3.0.0,>=1.7.4 in c:\\users\\pc\\appdata\\local\\programs\\python\\python311\\lib\\site-packages (from spacy) (1.10.8)\n",
      "Requirement already satisfied: jinja2 in c:\\users\\pc\\appdata\\local\\programs\\python\\python311\\lib\\site-packages (from spacy) (3.1.2)\n",
      "Requirement already satisfied: setuptools in c:\\users\\pc\\appdata\\local\\programs\\python\\python311\\lib\\site-packages (from spacy) (65.5.0)\n",
      "Requirement already satisfied: packaging>=20.0 in c:\\users\\pc\\appdata\\roaming\\python\\python311\\site-packages (from spacy) (23.1)\n",
      "Requirement already satisfied: langcodes<4.0.0,>=3.2.0 in c:\\users\\pc\\appdata\\local\\programs\\python\\python311\\lib\\site-packages (from spacy) (3.3.0)\n",
      "Requirement already satisfied: numpy>=1.19.0 in c:\\users\\pc\\appdata\\local\\programs\\python\\python311\\lib\\site-packages (from spacy) (1.25.2)\n",
      "Requirement already satisfied: typing-extensions>=4.2.0 in c:\\users\\pc\\appdata\\local\\programs\\python\\python311\\lib\\site-packages (from pydantic!=1.8,!=1.8.1,<3.0.0,>=1.7.4->spacy) (4.8.0)\n",
      "Requirement already satisfied: charset-normalizer<4,>=2 in c:\\users\\pc\\appdata\\local\\programs\\python\\python311\\lib\\site-packages (from requests<3.0.0,>=2.13.0->spacy) (3.0.1)\n",
      "Requirement already satisfied: idna<4,>=2.5 in c:\\users\\pc\\appdata\\local\\programs\\python\\python311\\lib\\site-packages (from requests<3.0.0,>=2.13.0->spacy) (3.4)\n",
      "Requirement already satisfied: urllib3<1.27,>=1.21.1 in c:\\users\\pc\\appdata\\local\\programs\\python\\python311\\lib\\site-packages (from requests<3.0.0,>=2.13.0->spacy) (1.26.14)\n",
      "Requirement already satisfied: certifi>=2017.4.17 in c:\\users\\pc\\appdata\\local\\programs\\python\\python311\\lib\\site-packages (from requests<3.0.0,>=2.13.0->spacy) (2022.12.7)\n",
      "Requirement already satisfied: blis<0.8.0,>=0.7.8 in c:\\users\\pc\\appdata\\local\\programs\\python\\python311\\lib\\site-packages (from thinc<8.3.0,>=8.1.8->spacy) (0.7.11)\n",
      "Requirement already satisfied: confection<1.0.0,>=0.0.1 in c:\\users\\pc\\appdata\\local\\programs\\python\\python311\\lib\\site-packages (from thinc<8.3.0,>=8.1.8->spacy) (0.1.3)\n",
      "Requirement already satisfied: colorama in c:\\users\\pc\\appdata\\roaming\\python\\python311\\site-packages (from tqdm<5.0.0,>=4.38.0->spacy) (0.4.6)\n",
      "Requirement already satisfied: click<9.0.0,>=7.1.1 in c:\\users\\pc\\appdata\\local\\programs\\python\\python311\\lib\\site-packages (from typer<0.10.0,>=0.3.0->spacy) (8.1.7)\n",
      "Requirement already satisfied: cloudpathlib<0.16.0,>=0.7.0 in c:\\users\\pc\\appdata\\local\\programs\\python\\python311\\lib\\site-packages (from weasel<0.4.0,>=0.1.0->spacy) (0.15.1)\n",
      "Requirement already satisfied: MarkupSafe>=2.0 in c:\\users\\pc\\appdata\\local\\programs\\python\\python311\\lib\\site-packages (from jinja2->spacy) (2.1.3)\n"
     ]
    },
    {
     "name": "stderr",
     "output_type": "stream",
     "text": [
      "\n",
      "[notice] A new release of pip available: 22.3.1 -> 23.2.1\n",
      "[notice] To update, run: python.exe -m pip install --upgrade pip\n"
     ]
    },
    {
     "name": "stdout",
     "output_type": "stream",
     "text": [
      "Requirement already satisfied: gensim in c:\\users\\pc\\appdata\\local\\programs\\python\\python311\\lib\\site-packages (4.3.2)Note: you may need to restart the kernel to use updated packages.\n",
      "\n",
      "Requirement already satisfied: numpy>=1.18.5 in c:\\users\\pc\\appdata\\local\\programs\\python\\python311\\lib\\site-packages (from gensim) (1.25.2)\n",
      "Requirement already satisfied: scipy>=1.7.0 in c:\\users\\pc\\appdata\\local\\programs\\python\\python311\\lib\\site-packages (from gensim) (1.11.2)\n",
      "Requirement already satisfied: smart-open>=1.8.1 in c:\\users\\pc\\appdata\\local\\programs\\python\\python311\\lib\\site-packages (from gensim) (6.4.0)\n"
     ]
    },
    {
     "name": "stderr",
     "output_type": "stream",
     "text": [
      "UsageError: Line magic function `%python` not found (But cell magic `%%python` exists, did you mean that instead?).\n",
      "\n",
      "[notice] A new release of pip available: 22.3.1 -> 23.2.1\n",
      "[notice] To update, run: python.exe -m pip install --upgrade pip\n"
     ]
    }
   ],
   "source": [
    "%pip install nltk\n",
    "%pip install openpyxl\n",
    "%pip install contractions\n",
    "%pip install inflect\n",
    "%pip install spacy\n",
    "%pip install gensim\n",
    "%python -m spacy download es_core_news_md"
   ]
  },
  {
   "cell_type": "code",
   "execution_count": 245,
   "metadata": {},
   "outputs": [],
   "source": [
    "import numpy as np\n",
    "import pandas as pd\n",
    "import nltk\n",
    "import openpyxl\n",
    "\n",
    "import re, string, unicodedata\n",
    "import contractions\n",
    "import inflect\n",
    "\n",
    "\n",
    "from nltk.corpus import stopwords\n",
    "from nltk.tokenize import word_tokenize\n",
    "from nltk.stem import LancasterStemmer, WordNetLemmatizer\n",
    "from gensim.models.doc2vec import Doc2Vec, TaggedDocument\n",
    "\n",
    "from sklearn.ensemble import RandomForestClassifier\n",
    "from sklearn.feature_extraction.text import CountVectorizer, TfidfVectorizer\n",
    "from sklearn.metrics import (\n",
    "    ConfusionMatrixDisplay, RocCurveDisplay,\n",
    "    roc_auc_score, precision_score, recall_score, f1_score\n",
    ")\n",
    "from sklearn.model_selection import train_test_split, RandomizedSearchCV\n",
    "from sklearn.pipeline import Pipeline\n",
    "\n",
    "from nltk import word_tokenize, sent_tokenize\n",
    "from nltk.corpus import stopwords\n",
    "from nltk.stem import LancasterStemmer, WordNetLemmatizer\n",
    "\n",
    "from sklearn.metrics import precision_recall_curve\n",
    "from sklearn.model_selection import train_test_split,GridSearchCV\n",
    "from sklearn.feature_extraction.text import TfidfVectorizer, CountVectorizer, HashingVectorizer\n",
    "from sklearn.pipeline import Pipeline, FeatureUnion\n",
    "from sklearn.svm import SVC\n",
    "from sklearn.ensemble import BaggingClassifier, RandomForestClassifier, AdaBoostClassifier\n",
    "from sklearn.naive_bayes import BernoulliNB\n",
    "from sklearn.metrics import classification_report, confusion_matrix\n",
    "from sklearn.base import BaseEstimator, ClassifierMixin"
   ]
  },
  {
   "cell_type": "code",
   "execution_count": 246,
   "metadata": {},
   "outputs": [],
   "source": [
    "import spacy\n",
    "nlp = spacy.load(\"es_core_news_md\")  # Cargar el modelo de spaCy en español"
   ]
  },
  {
   "cell_type": "code",
   "execution_count": 247,
   "metadata": {},
   "outputs": [],
   "source": [
    "import warnings\n",
    "warnings.filterwarnings(\"ignore\")"
   ]
  },
  {
   "cell_type": "code",
   "execution_count": 248,
   "metadata": {},
   "outputs": [],
   "source": [
    "# Configuring pandas to show all cell content\n",
    "pd.set_option(\"display.max_colwidth\", None)"
   ]
  },
  {
   "cell_type": "code",
   "execution_count": 249,
   "metadata": {},
   "outputs": [
    {
     "name": "stderr",
     "output_type": "stream",
     "text": [
      "[nltk_data] Downloading package punkt to\n",
      "[nltk_data]     C:\\Users\\PC\\AppData\\Roaming\\nltk_data...\n",
      "[nltk_data]   Package punkt is already up-to-date!\n",
      "[nltk_data] Downloading package stopwords to\n",
      "[nltk_data]     C:\\Users\\PC\\AppData\\Roaming\\nltk_data...\n",
      "[nltk_data]   Package stopwords is already up-to-date!\n",
      "[nltk_data] Downloading package averaged_perceptron_tagger to\n",
      "[nltk_data]     C:\\Users\\PC\\AppData\\Roaming\\nltk_data...\n",
      "[nltk_data]   Package averaged_perceptron_tagger is already up-to-\n",
      "[nltk_data]       date!\n"
     ]
    }
   ],
   "source": [
    "# Descarga los datos para el idioma español\n",
    "nltk.download(\"punkt\")\n",
    "nltk.download(\"stopwords\")\n",
    "nltk.download(\"averaged_perceptron_tagger\") \n",
    "\n",
    "stop_words = stopwords.words(\"spanish\")\n"
   ]
  },
  {
   "cell_type": "code",
   "execution_count": 250,
   "metadata": {},
   "outputs": [
    {
     "data": {
      "text/plain": [
       "['de',\n",
       " 'la',\n",
       " 'que',\n",
       " 'el',\n",
       " 'en',\n",
       " 'y',\n",
       " 'a',\n",
       " 'los',\n",
       " 'del',\n",
       " 'se',\n",
       " 'las',\n",
       " 'por',\n",
       " 'un',\n",
       " 'para',\n",
       " 'con',\n",
       " 'no',\n",
       " 'una',\n",
       " 'su',\n",
       " 'al',\n",
       " 'lo',\n",
       " 'como',\n",
       " 'más',\n",
       " 'pero',\n",
       " 'sus',\n",
       " 'le',\n",
       " 'ya',\n",
       " 'o',\n",
       " 'este',\n",
       " 'sí',\n",
       " 'porque',\n",
       " 'esta',\n",
       " 'entre',\n",
       " 'cuando',\n",
       " 'muy',\n",
       " 'sin',\n",
       " 'sobre',\n",
       " 'también',\n",
       " 'me',\n",
       " 'hasta',\n",
       " 'hay',\n",
       " 'donde',\n",
       " 'quien',\n",
       " 'desde',\n",
       " 'todo',\n",
       " 'nos',\n",
       " 'durante',\n",
       " 'todos',\n",
       " 'uno',\n",
       " 'les',\n",
       " 'ni',\n",
       " 'contra',\n",
       " 'otros',\n",
       " 'ese',\n",
       " 'eso',\n",
       " 'ante',\n",
       " 'ellos',\n",
       " 'e',\n",
       " 'esto',\n",
       " 'mí',\n",
       " 'antes',\n",
       " 'algunos',\n",
       " 'qué',\n",
       " 'unos',\n",
       " 'yo',\n",
       " 'otro',\n",
       " 'otras',\n",
       " 'otra',\n",
       " 'él',\n",
       " 'tanto',\n",
       " 'esa',\n",
       " 'estos',\n",
       " 'mucho',\n",
       " 'quienes',\n",
       " 'nada',\n",
       " 'muchos',\n",
       " 'cual',\n",
       " 'poco',\n",
       " 'ella',\n",
       " 'estar',\n",
       " 'estas',\n",
       " 'algunas',\n",
       " 'algo',\n",
       " 'nosotros',\n",
       " 'mi',\n",
       " 'mis',\n",
       " 'tú',\n",
       " 'te',\n",
       " 'ti',\n",
       " 'tu',\n",
       " 'tus',\n",
       " 'ellas',\n",
       " 'nosotras',\n",
       " 'vosotros',\n",
       " 'vosotras',\n",
       " 'os',\n",
       " 'mío',\n",
       " 'mía',\n",
       " 'míos',\n",
       " 'mías',\n",
       " 'tuyo',\n",
       " 'tuya',\n",
       " 'tuyos',\n",
       " 'tuyas',\n",
       " 'suyo',\n",
       " 'suya',\n",
       " 'suyos',\n",
       " 'suyas',\n",
       " 'nuestro',\n",
       " 'nuestra',\n",
       " 'nuestros',\n",
       " 'nuestras',\n",
       " 'vuestro',\n",
       " 'vuestra',\n",
       " 'vuestros',\n",
       " 'vuestras',\n",
       " 'esos',\n",
       " 'esas',\n",
       " 'estoy',\n",
       " 'estás',\n",
       " 'está',\n",
       " 'estamos',\n",
       " 'estáis',\n",
       " 'están',\n",
       " 'esté',\n",
       " 'estés',\n",
       " 'estemos',\n",
       " 'estéis',\n",
       " 'estén',\n",
       " 'estaré',\n",
       " 'estarás',\n",
       " 'estará',\n",
       " 'estaremos',\n",
       " 'estaréis',\n",
       " 'estarán',\n",
       " 'estaría',\n",
       " 'estarías',\n",
       " 'estaríamos',\n",
       " 'estaríais',\n",
       " 'estarían',\n",
       " 'estaba',\n",
       " 'estabas',\n",
       " 'estábamos',\n",
       " 'estabais',\n",
       " 'estaban',\n",
       " 'estuve',\n",
       " 'estuviste',\n",
       " 'estuvo',\n",
       " 'estuvimos',\n",
       " 'estuvisteis',\n",
       " 'estuvieron',\n",
       " 'estuviera',\n",
       " 'estuvieras',\n",
       " 'estuviéramos',\n",
       " 'estuvierais',\n",
       " 'estuvieran',\n",
       " 'estuviese',\n",
       " 'estuvieses',\n",
       " 'estuviésemos',\n",
       " 'estuvieseis',\n",
       " 'estuviesen',\n",
       " 'estando',\n",
       " 'estado',\n",
       " 'estada',\n",
       " 'estados',\n",
       " 'estadas',\n",
       " 'estad',\n",
       " 'he',\n",
       " 'has',\n",
       " 'ha',\n",
       " 'hemos',\n",
       " 'habéis',\n",
       " 'han',\n",
       " 'haya',\n",
       " 'hayas',\n",
       " 'hayamos',\n",
       " 'hayáis',\n",
       " 'hayan',\n",
       " 'habré',\n",
       " 'habrás',\n",
       " 'habrá',\n",
       " 'habremos',\n",
       " 'habréis',\n",
       " 'habrán',\n",
       " 'habría',\n",
       " 'habrías',\n",
       " 'habríamos',\n",
       " 'habríais',\n",
       " 'habrían',\n",
       " 'había',\n",
       " 'habías',\n",
       " 'habíamos',\n",
       " 'habíais',\n",
       " 'habían',\n",
       " 'hube',\n",
       " 'hubiste',\n",
       " 'hubo',\n",
       " 'hubimos',\n",
       " 'hubisteis',\n",
       " 'hubieron',\n",
       " 'hubiera',\n",
       " 'hubieras',\n",
       " 'hubiéramos',\n",
       " 'hubierais',\n",
       " 'hubieran',\n",
       " 'hubiese',\n",
       " 'hubieses',\n",
       " 'hubiésemos',\n",
       " 'hubieseis',\n",
       " 'hubiesen',\n",
       " 'habiendo',\n",
       " 'habido',\n",
       " 'habida',\n",
       " 'habidos',\n",
       " 'habidas',\n",
       " 'soy',\n",
       " 'eres',\n",
       " 'es',\n",
       " 'somos',\n",
       " 'sois',\n",
       " 'son',\n",
       " 'sea',\n",
       " 'seas',\n",
       " 'seamos',\n",
       " 'seáis',\n",
       " 'sean',\n",
       " 'seré',\n",
       " 'serás',\n",
       " 'será',\n",
       " 'seremos',\n",
       " 'seréis',\n",
       " 'serán',\n",
       " 'sería',\n",
       " 'serías',\n",
       " 'seríamos',\n",
       " 'seríais',\n",
       " 'serían',\n",
       " 'era',\n",
       " 'eras',\n",
       " 'éramos',\n",
       " 'erais',\n",
       " 'eran',\n",
       " 'fui',\n",
       " 'fuiste',\n",
       " 'fue',\n",
       " 'fuimos',\n",
       " 'fuisteis',\n",
       " 'fueron',\n",
       " 'fuera',\n",
       " 'fueras',\n",
       " 'fuéramos',\n",
       " 'fuerais',\n",
       " 'fueran',\n",
       " 'fuese',\n",
       " 'fueses',\n",
       " 'fuésemos',\n",
       " 'fueseis',\n",
       " 'fuesen',\n",
       " 'sintiendo',\n",
       " 'sentido',\n",
       " 'sentida',\n",
       " 'sentidos',\n",
       " 'sentidas',\n",
       " 'siente',\n",
       " 'sentid',\n",
       " 'tengo',\n",
       " 'tienes',\n",
       " 'tiene',\n",
       " 'tenemos',\n",
       " 'tenéis',\n",
       " 'tienen',\n",
       " 'tenga',\n",
       " 'tengas',\n",
       " 'tengamos',\n",
       " 'tengáis',\n",
       " 'tengan',\n",
       " 'tendré',\n",
       " 'tendrás',\n",
       " 'tendrá',\n",
       " 'tendremos',\n",
       " 'tendréis',\n",
       " 'tendrán',\n",
       " 'tendría',\n",
       " 'tendrías',\n",
       " 'tendríamos',\n",
       " 'tendríais',\n",
       " 'tendrían',\n",
       " 'tenía',\n",
       " 'tenías',\n",
       " 'teníamos',\n",
       " 'teníais',\n",
       " 'tenían',\n",
       " 'tuve',\n",
       " 'tuviste',\n",
       " 'tuvo',\n",
       " 'tuvimos',\n",
       " 'tuvisteis',\n",
       " 'tuvieron',\n",
       " 'tuviera',\n",
       " 'tuvieras',\n",
       " 'tuviéramos',\n",
       " 'tuvierais',\n",
       " 'tuvieran',\n",
       " 'tuviese',\n",
       " 'tuvieses',\n",
       " 'tuviésemos',\n",
       " 'tuvieseis',\n",
       " 'tuviesen',\n",
       " 'teniendo',\n",
       " 'tenido',\n",
       " 'tenida',\n",
       " 'tenidos',\n",
       " 'tenidas',\n",
       " 'tened']"
      ]
     },
     "execution_count": 250,
     "metadata": {},
     "output_type": "execute_result"
    }
   ],
   "source": [
    "stop_words"
   ]
  },
  {
   "cell_type": "code",
   "execution_count": 251,
   "metadata": {},
   "outputs": [],
   "source": [
    "# Uso de la libreria pandas para la lectura de archivos\n",
    "data = pd.read_excel('./data/cat_345.xlsx')\n",
    "# Asignación a una nueva variable de los datos leidos\n",
    "df_obj=data\n"
   ]
  },
  {
   "cell_type": "code",
   "execution_count": 252,
   "metadata": {},
   "outputs": [
    {
     "data": {
      "text/html": [
       "<div>\n",
       "<style scoped>\n",
       "    .dataframe tbody tr th:only-of-type {\n",
       "        vertical-align: middle;\n",
       "    }\n",
       "\n",
       "    .dataframe tbody tr th {\n",
       "        vertical-align: top;\n",
       "    }\n",
       "\n",
       "    .dataframe thead th {\n",
       "        text-align: right;\n",
       "    }\n",
       "</style>\n",
       "<table border=\"1\" class=\"dataframe\">\n",
       "  <thead>\n",
       "    <tr style=\"text-align: right;\">\n",
       "      <th></th>\n",
       "      <th>Textos_espanol</th>\n",
       "      <th>sdg</th>\n",
       "    </tr>\n",
       "  </thead>\n",
       "  <tbody>\n",
       "    <tr>\n",
       "      <th>0</th>\n",
       "      <td>Por ejemplo, el nÃºmero de consultas externas de especialistas es de 319 por cada mil derechohabientes en el SP, en comparaciÃ³n con 338 y 620 por cada mil derechohabientes en el IMSS y el ISSSTE, respectivamente. Si bien algunas de estas diferencias pueden reflejar una necesidad desigual (como la poblaciÃ³n ligeramente mayor del ISSSTE), otras no pueden justificarse de esta manera. El nÃºmero de recetas que no pudieron ser surtidas en su totalidad por un farmacÃ©utico debido a la falta de existencias es de 33% dentro del SP en comparaciÃ³n con 14% dentro del IMSS segÃºn los datos de la encuesta (aunque las propias cifras de los institutos de la SS sugieren tasas mÃ¡s altas de recetas surtidas). Ambas cifras se encuentran entre las mÃ¡s altas de la OCDE. El gasto de bolsillo no se ha reducido significativamente en la última década, a pesar de los esfuerzos para lograr la cobertura sanitaria universal a través de la reforma del SP.</td>\n",
       "      <td>3</td>\n",
       "    </tr>\n",
       "    <tr>\n",
       "      <th>1</th>\n",
       "      <td>En 2007, el gobierno central financió directamente solo el 0,3% del gasto total en salud, pero realizó transferencias específicas para el gasto en salud que ascendieron a otro 5,6% del gasto total. La mayor parte del gasto presupuestario en salud lo realizan los gobiernos de los condados. Por lo tanto, los condados pobres solo pueden ofrecer un bajo nivel de atención a la población local. El gobierno provincial proporciona subsidios del lado de la oferta a los hospitales.</td>\n",
       "      <td>3</td>\n",
       "    </tr>\n",
       "    <tr>\n",
       "      <th>2</th>\n",
       "      <td>Claramente, hay muchos otros factores en juego, en particular, una variedad de barreras y determinantes sociales. Estos pueden estar relacionados con el género, la clase, la etnia, la casta, el idioma y la religión, y surgen de estructuras, normas y procesos sociales arraigados que aceptan e incluso fomentan distribuciones injustas de la riqueza y los recursos sociales. Por ejemplo, las personas que viven con el VIH y algunas otras enfermedades crónicas enfrentan altos niveles de estigma y discriminación que dificultan su acceso a pruebas médicas, tratamiento, atención y apoyo. Por lo tanto, los gobiernos que buscan mejorar los estándares de salud querrán mejorar la condición de la mujer, brindar servicios de salud reproductiva efectivos, implementar programas integrales de lactancia materna en línea con las recomendaciones actuales y aumentar las presiones comunitarias contra el aborto selectivo por sexo. Las personas pobres, que carecen de educación e información, o de fondos para opciones más saludables, son más vulnerables al impacto de las ENT que los ricos y es probable que mueran antes. Directa e indirectamente, las ENT tendrán impactos de gran alcance en el progreso hacia los ODM.</td>\n",
       "      <td>3</td>\n",
       "    </tr>\n",
       "    <tr>\n",
       "      <th>3</th>\n",
       "      <td>Por ejemplo, el estado australiano de Victoria creó una agencia de promoción de la salud financiada con los impuestos sobre el tabaco, y varios estados de EE.UU. (California, Massachusetts, Arizona y Oregón) han destinado parte de los ingresos procedentes de los impuestos especiales sobre el tabaco a actividades de educación y control del tabaco, mientras que en Nueva Jersey, Ohio y Texas los ingresos procedentes del alcohol se utilizan para programas de educación y prevención relacionados con el alcohol (Sassi et al., 2004), Los impuestos locales pueden ser una fuente importante de ingresos, sobre todo en los sistemas sanitarios descentralizados (por ejemplo, Dinamarca, Finlandia, Italia y Suecia)17 . Además, el nivel de los impuestos locales puede fijarse en función de las preferencias locales sobre el nivel y la calidad de los servicios médicos. Sin embargo, en ausencia de un mecanismo de transferencia ajustado al riesgo y gestionado centralmente, la descentralización reduce la mancomunación de riesgos y podría dar lugar a mayores disparidades sanitarias interregionales.</td>\n",
       "      <td>3</td>\n",
       "    </tr>\n",
       "    <tr>\n",
       "      <th>4</th>\n",
       "      <td>El consumo anual de alcohol se estima en 15,7 litros al año para los hombres, más de un 50% por encima de la media de la OCDE (10,4) (Sistema mundial de información sobre alcohol y salud de la OMS), lo que puede ayudar a explicar la alta mortalidad por enfermedad hepática relacionada con el alcohol. Si bien la prevalencia de la obesidad en adultos es relativamente baja en comparación con muchos países de la OCDE, más del 30 % de las mujeres en Kazajstán son obesas, en comparación con el 16 % de los hombres (World Obesity, 2016), lo que coloca la tasa entre las mujeres a la par con algunos de los países más obesos de la OCDE. De hecho, una gran proporción de la brecha en la esperanza de vida se explica por una mayor mortalidad entre los jóvenes kazajos de 15 a 29 años, un grupo de edad en el que las tasas generales de mortalidad son más de tres veces más altas que en la UE de los 15.</td>\n",
       "      <td>3</td>\n",
       "    </tr>\n",
       "  </tbody>\n",
       "</table>\n",
       "</div>"
      ],
      "text/plain": [
       "                                                                                                                                                                                                                                                                                                                                                                                                                                                                                                                                                                                                                                                                                                                                                                                                                                                                                                                                                                                                                                                                                                                                                                                                                                            Textos_espanol  \\\n",
       "0                                                                                                                                                                                                                                                                         Por ejemplo, el nÃºmero de consultas externas de especialistas es de 319 por cada mil derechohabientes en el SP, en comparaciÃ³n con 338 y 620 por cada mil derechohabientes en el IMSS y el ISSSTE, respectivamente. Si bien algunas de estas diferencias pueden reflejar una necesidad desigual (como la poblaciÃ³n ligeramente mayor del ISSSTE), otras no pueden justificarse de esta manera. El nÃºmero de recetas que no pudieron ser surtidas en su totalidad por un farmacÃ©utico debido a la falta de existencias es de 33% dentro del SP en comparaciÃ³n con 14% dentro del IMSS segÃºn los datos de la encuesta (aunque las propias cifras de los institutos de la SS sugieren tasas mÃ¡s altas de recetas surtidas). Ambas cifras se encuentran entre las mÃ¡s altas de la OCDE. El gasto de bolsillo no se ha reducido significativamente en la última década, a pesar de los esfuerzos para lograr la cobertura sanitaria universal a través de la reforma del SP.   \n",
       "1                                                                                                                                                                                                                                                                                                                                                                                                                                                                                                                                                                                                                                                                                                                                                             En 2007, el gobierno central financió directamente solo el 0,3% del gasto total en salud, pero realizó transferencias específicas para el gasto en salud que ascendieron a otro 5,6% del gasto total. La mayor parte del gasto presupuestario en salud lo realizan los gobiernos de los condados. Por lo tanto, los condados pobres solo pueden ofrecer un bajo nivel de atención a la población local. El gobierno provincial proporciona subsidios del lado de la oferta a los hospitales.   \n",
       "2  Claramente, hay muchos otros factores en juego, en particular, una variedad de barreras y determinantes sociales. Estos pueden estar relacionados con el género, la clase, la etnia, la casta, el idioma y la religión, y surgen de estructuras, normas y procesos sociales arraigados que aceptan e incluso fomentan distribuciones injustas de la riqueza y los recursos sociales. Por ejemplo, las personas que viven con el VIH y algunas otras enfermedades crónicas enfrentan altos niveles de estigma y discriminación que dificultan su acceso a pruebas médicas, tratamiento, atención y apoyo. Por lo tanto, los gobiernos que buscan mejorar los estándares de salud querrán mejorar la condición de la mujer, brindar servicios de salud reproductiva efectivos, implementar programas integrales de lactancia materna en línea con las recomendaciones actuales y aumentar las presiones comunitarias contra el aborto selectivo por sexo. Las personas pobres, que carecen de educación e información, o de fondos para opciones más saludables, son más vulnerables al impacto de las ENT que los ricos y es probable que mueran antes. Directa e indirectamente, las ENT tendrán impactos de gran alcance en el progreso hacia los ODM.   \n",
       "3                                                                                                                       Por ejemplo, el estado australiano de Victoria creó una agencia de promoción de la salud financiada con los impuestos sobre el tabaco, y varios estados de EE.UU. (California, Massachusetts, Arizona y Oregón) han destinado parte de los ingresos procedentes de los impuestos especiales sobre el tabaco a actividades de educación y control del tabaco, mientras que en Nueva Jersey, Ohio y Texas los ingresos procedentes del alcohol se utilizan para programas de educación y prevención relacionados con el alcohol (Sassi et al., 2004), Los impuestos locales pueden ser una fuente importante de ingresos, sobre todo en los sistemas sanitarios descentralizados (por ejemplo, Dinamarca, Finlandia, Italia y Suecia)17 . Además, el nivel de los impuestos locales puede fijarse en función de las preferencias locales sobre el nivel y la calidad de los servicios médicos. Sin embargo, en ausencia de un mecanismo de transferencia ajustado al riesgo y gestionado centralmente, la descentralización reduce la mancomunación de riesgos y podría dar lugar a mayores disparidades sanitarias interregionales.   \n",
       "4                                                                                                                                                                                                                                                                                                                          El consumo anual de alcohol se estima en 15,7 litros al año para los hombres, más de un 50% por encima de la media de la OCDE (10,4) (Sistema mundial de información sobre alcohol y salud de la OMS), lo que puede ayudar a explicar la alta mortalidad por enfermedad hepática relacionada con el alcohol. Si bien la prevalencia de la obesidad en adultos es relativamente baja en comparación con muchos países de la OCDE, más del 30 % de las mujeres en Kazajstán son obesas, en comparación con el 16 % de los hombres (World Obesity, 2016), lo que coloca la tasa entre las mujeres a la par con algunos de los países más obesos de la OCDE. De hecho, una gran proporción de la brecha en la esperanza de vida se explica por una mayor mortalidad entre los jóvenes kazajos de 15 a 29 años, un grupo de edad en el que las tasas generales de mortalidad son más de tres veces más altas que en la UE de los 15.   \n",
       "\n",
       "   sdg  \n",
       "0    3  \n",
       "1    3  \n",
       "2    3  \n",
       "3    3  \n",
       "4    3  "
      ]
     },
     "execution_count": 252,
     "metadata": {},
     "output_type": "execute_result"
    }
   ],
   "source": [
    "df_obj.head()"
   ]
  },
  {
   "cell_type": "code",
   "execution_count": 253,
   "metadata": {},
   "outputs": [
    {
     "data": {
      "text/plain": [
       "sdg\n",
       "3    0.333333\n",
       "4    0.333333\n",
       "5    0.333333\n",
       "Name: proportion, dtype: float64"
      ]
     },
     "execution_count": 253,
     "metadata": {},
     "output_type": "execute_result"
    }
   ],
   "source": [
    "df_obj[\"sdg\"].value_counts(dropna=False, normalize=True)"
   ]
  },
  {
   "cell_type": "code",
   "execution_count": 254,
   "metadata": {},
   "outputs": [],
   "source": [
    "# The param 'stratify' is useful to guarantee label proportions on train and test sets\n",
    "X_train, X_test, y_train, y_test = train_test_split(df_obj[[\"Textos_espanol\"]], df_obj[\"sdg\"], test_size=0.3, stratify=df_obj[\"sdg\"], random_state=1)"
   ]
  },
  {
   "cell_type": "code",
   "execution_count": 255,
   "metadata": {},
   "outputs": [
    {
     "data": {
      "text/plain": [
       "((2100, 1), (900, 1))"
      ]
     },
     "execution_count": 255,
     "metadata": {},
     "output_type": "execute_result"
    }
   ],
   "source": [
    "X_train.shape, X_test.shape"
   ]
  },
  {
   "cell_type": "code",
   "execution_count": 256,
   "metadata": {},
   "outputs": [
    {
     "data": {
      "text/plain": [
       "sdg\n",
       "4    0.333333\n",
       "3    0.333333\n",
       "5    0.333333\n",
       "Name: proportion, dtype: float64"
      ]
     },
     "execution_count": 256,
     "metadata": {},
     "output_type": "execute_result"
    }
   ],
   "source": [
    "pd.Series(y_train).value_counts(normalize=True)"
   ]
  },
  {
   "cell_type": "code",
   "execution_count": 257,
   "metadata": {},
   "outputs": [
    {
     "data": {
      "text/plain": [
       "sdg\n",
       "3    0.333333\n",
       "4    0.333333\n",
       "5    0.333333\n",
       "Name: proportion, dtype: float64"
      ]
     },
     "execution_count": 257,
     "metadata": {},
     "output_type": "execute_result"
    }
   ],
   "source": [
    "pd.Series(y_test).value_counts(normalize=True)"
   ]
  },
  {
   "cell_type": "markdown",
   "metadata": {},
   "source": [
    "### Vectorizacion de textos"
   ]
  },
  {
   "cell_type": "code",
   "execution_count": 258,
   "metadata": {},
   "outputs": [],
   "source": [
    "bow = CountVectorizer(tokenizer=word_tokenize, stop_words=stop_words, lowercase=True)"
   ]
  },
  {
   "cell_type": "code",
   "execution_count": 259,
   "metadata": {},
   "outputs": [],
   "source": [
    "X_bow = bow.fit_transform(X_train[\"Textos_espanol\"])"
   ]
  },
  {
   "cell_type": "code",
   "execution_count": 260,
   "metadata": {},
   "outputs": [
    {
     "name": "stdout",
     "output_type": "stream",
     "text": [
      "Vocabulary size: 15550\n"
     ]
    }
   ],
   "source": [
    "print(\"Vocabulary size:\", len(bow.vocabulary_))"
   ]
  },
  {
   "cell_type": "code",
   "execution_count": 261,
   "metadata": {},
   "outputs": [],
   "source": [
    "tfidf = TfidfVectorizer(tokenizer=word_tokenize, stop_words=stop_words, lowercase=True)"
   ]
  },
  {
   "cell_type": "code",
   "execution_count": 262,
   "metadata": {},
   "outputs": [],
   "source": [
    "X_tfidf = tfidf.fit_transform(X_train[\"Textos_espanol\"])"
   ]
  },
  {
   "cell_type": "code",
   "execution_count": 263,
   "metadata": {},
   "outputs": [
    {
     "name": "stdout",
     "output_type": "stream",
     "text": [
      "Vocabulary size: 15550\n"
     ]
    }
   ],
   "source": [
    "print(\"Vocabulary size:\", len(tfidf.vocabulary_))"
   ]
  },
  {
   "cell_type": "markdown",
   "metadata": {},
   "source": [
    "# BoW:"
   ]
  },
  {
   "cell_type": "code",
   "execution_count": 264,
   "metadata": {},
   "outputs": [],
   "source": [
    "bow_model = RandomForestClassifier(random_state=2)"
   ]
  },
  {
   "cell_type": "code",
   "execution_count": 265,
   "metadata": {},
   "outputs": [
    {
     "data": {
      "text/html": [
       "<style>#sk-container-id-12 {color: black;}#sk-container-id-12 pre{padding: 0;}#sk-container-id-12 div.sk-toggleable {background-color: white;}#sk-container-id-12 label.sk-toggleable__label {cursor: pointer;display: block;width: 100%;margin-bottom: 0;padding: 0.3em;box-sizing: border-box;text-align: center;}#sk-container-id-12 label.sk-toggleable__label-arrow:before {content: \"▸\";float: left;margin-right: 0.25em;color: #696969;}#sk-container-id-12 label.sk-toggleable__label-arrow:hover:before {color: black;}#sk-container-id-12 div.sk-estimator:hover label.sk-toggleable__label-arrow:before {color: black;}#sk-container-id-12 div.sk-toggleable__content {max-height: 0;max-width: 0;overflow: hidden;text-align: left;background-color: #f0f8ff;}#sk-container-id-12 div.sk-toggleable__content pre {margin: 0.2em;color: black;border-radius: 0.25em;background-color: #f0f8ff;}#sk-container-id-12 input.sk-toggleable__control:checked~div.sk-toggleable__content {max-height: 200px;max-width: 100%;overflow: auto;}#sk-container-id-12 input.sk-toggleable__control:checked~label.sk-toggleable__label-arrow:before {content: \"▾\";}#sk-container-id-12 div.sk-estimator input.sk-toggleable__control:checked~label.sk-toggleable__label {background-color: #d4ebff;}#sk-container-id-12 div.sk-label input.sk-toggleable__control:checked~label.sk-toggleable__label {background-color: #d4ebff;}#sk-container-id-12 input.sk-hidden--visually {border: 0;clip: rect(1px 1px 1px 1px);clip: rect(1px, 1px, 1px, 1px);height: 1px;margin: -1px;overflow: hidden;padding: 0;position: absolute;width: 1px;}#sk-container-id-12 div.sk-estimator {font-family: monospace;background-color: #f0f8ff;border: 1px dotted black;border-radius: 0.25em;box-sizing: border-box;margin-bottom: 0.5em;}#sk-container-id-12 div.sk-estimator:hover {background-color: #d4ebff;}#sk-container-id-12 div.sk-parallel-item::after {content: \"\";width: 100%;border-bottom: 1px solid gray;flex-grow: 1;}#sk-container-id-12 div.sk-label:hover label.sk-toggleable__label {background-color: #d4ebff;}#sk-container-id-12 div.sk-serial::before {content: \"\";position: absolute;border-left: 1px solid gray;box-sizing: border-box;top: 0;bottom: 0;left: 50%;z-index: 0;}#sk-container-id-12 div.sk-serial {display: flex;flex-direction: column;align-items: center;background-color: white;padding-right: 0.2em;padding-left: 0.2em;position: relative;}#sk-container-id-12 div.sk-item {position: relative;z-index: 1;}#sk-container-id-12 div.sk-parallel {display: flex;align-items: stretch;justify-content: center;background-color: white;position: relative;}#sk-container-id-12 div.sk-item::before, #sk-container-id-12 div.sk-parallel-item::before {content: \"\";position: absolute;border-left: 1px solid gray;box-sizing: border-box;top: 0;bottom: 0;left: 50%;z-index: -1;}#sk-container-id-12 div.sk-parallel-item {display: flex;flex-direction: column;z-index: 1;position: relative;background-color: white;}#sk-container-id-12 div.sk-parallel-item:first-child::after {align-self: flex-end;width: 50%;}#sk-container-id-12 div.sk-parallel-item:last-child::after {align-self: flex-start;width: 50%;}#sk-container-id-12 div.sk-parallel-item:only-child::after {width: 0;}#sk-container-id-12 div.sk-dashed-wrapped {border: 1px dashed gray;margin: 0 0.4em 0.5em 0.4em;box-sizing: border-box;padding-bottom: 0.4em;background-color: white;}#sk-container-id-12 div.sk-label label {font-family: monospace;font-weight: bold;display: inline-block;line-height: 1.2em;}#sk-container-id-12 div.sk-label-container {text-align: center;}#sk-container-id-12 div.sk-container {/* jupyter's `normalize.less` sets `[hidden] { display: none; }` but bootstrap.min.css set `[hidden] { display: none !important; }` so we also need the `!important` here to be able to override the default hidden behavior on the sphinx rendered scikit-learn.org. See: https://github.com/scikit-learn/scikit-learn/issues/21755 */display: inline-block !important;position: relative;}#sk-container-id-12 div.sk-text-repr-fallback {display: none;}</style><div id=\"sk-container-id-12\" class=\"sk-top-container\"><div class=\"sk-text-repr-fallback\"><pre>RandomForestClassifier(random_state=2)</pre><b>In a Jupyter environment, please rerun this cell to show the HTML representation or trust the notebook. <br />On GitHub, the HTML representation is unable to render, please try loading this page with nbviewer.org.</b></div><div class=\"sk-container\" hidden><div class=\"sk-item\"><div class=\"sk-estimator sk-toggleable\"><input class=\"sk-toggleable__control sk-hidden--visually\" id=\"sk-estimator-id-12\" type=\"checkbox\" checked><label for=\"sk-estimator-id-12\" class=\"sk-toggleable__label sk-toggleable__label-arrow\">RandomForestClassifier</label><div class=\"sk-toggleable__content\"><pre>RandomForestClassifier(random_state=2)</pre></div></div></div></div></div>"
      ],
      "text/plain": [
       "RandomForestClassifier(random_state=2)"
      ]
     },
     "execution_count": 265,
     "metadata": {},
     "output_type": "execute_result"
    }
   ],
   "source": [
    "bow_model.fit(X_bow, y_train)"
   ]
  },
  {
   "cell_type": "code",
   "execution_count": 266,
   "metadata": {},
   "outputs": [
    {
     "data": {
      "text/plain": [
       "<Axes: >"
      ]
     },
     "execution_count": 266,
     "metadata": {},
     "output_type": "execute_result"
    },
    {
     "data": {
      "image/png": "[encoded data removed]",
      "text/plain": [
       "<Figure size 1500x1000 with 1 Axes>"
      ]
     },
     "metadata": {},
     "output_type": "display_data"
    }
   ],
   "source": [
    "# Feature importance in tree models is an indicator on how relevant is a feature for taking the decision by the model\n",
    "pd.Series(bow_model.feature_importances_, index=bow.vocabulary_).sort_values().tail(20).plot.barh(figsize=(15, 10))"
   ]
  },
  {
   "cell_type": "code",
   "execution_count": 267,
   "metadata": {},
   "outputs": [
    {
     "name": "stdout",
     "output_type": "stream",
     "text": [
      "Number of trees: 100\n",
      "Trees depth (mean): 100.39\n"
     ]
    }
   ],
   "source": [
    "bow_estimators = bow_model.estimators_\n",
    "print(\"Number of trees:\", len(bow_estimators))\n",
    "print(\"Trees depth (mean):\", np.mean([tree.get_depth() for tree in bow_estimators]))"
   ]
  },
  {
   "cell_type": "code",
   "execution_count": 268,
   "metadata": {},
   "outputs": [],
   "source": [
    "y_train_bow_predict = bow_model.predict(X_bow)\n",
    "y_test_bow_predict = bow_model.predict(bow.transform(X_test[\"Textos_espanol\"]))"
   ]
  },
  {
   "cell_type": "code",
   "execution_count": 269,
   "metadata": {},
   "outputs": [
    {
     "data": {
      "text/plain": [
       "<sklearn.metrics._plot.confusion_matrix.ConfusionMatrixDisplay at 0x1cfbdbf3f10>"
      ]
     },
     "execution_count": 269,
     "metadata": {},
     "output_type": "execute_result"
    },
    {
     "data": {
      "image/png": "[encoded data removed]",
      "text/plain": [
       "<Figure size 640x480 with 2 Axes>"
      ]
     },
     "metadata": {},
     "output_type": "display_data"
    }
   ],
   "source": [
    "ConfusionMatrixDisplay.from_predictions(y_train, y_train_bow_predict)"
   ]
  },
  {
   "cell_type": "code",
   "execution_count": 270,
   "metadata": {},
   "outputs": [
    {
     "data": {
      "text/plain": [
       "<sklearn.metrics._plot.confusion_matrix.ConfusionMatrixDisplay at 0x1cfabc46c90>"
      ]
     },
     "execution_count": 270,
     "metadata": {},
     "output_type": "execute_result"
    },
    {
     "data": {
      "image/png": "[encoded data removed]",
      "text/plain": [
       "<Figure size 640x480 with 2 Axes>"
      ]
     },
     "metadata": {},
     "output_type": "display_data"
    }
   ],
   "source": [
    "ConfusionMatrixDisplay.from_predictions(y_test, y_test_bow_predict)"
   ]
  },
  {
   "cell_type": "code",
   "execution_count": 271,
   "metadata": {},
   "outputs": [
    {
     "name": "stdout",
     "output_type": "stream",
     "text": [
      "Precision: 1.0\n",
      "Recall: 1.0\n",
      "F1: 1.0\n"
     ]
    }
   ],
   "source": [
    "print(\"Precision:\", precision_score(y_train, y_train_bow_predict, average='weighted'))\n",
    "print(\"Recall:\", recall_score(y_train, y_train_bow_predict, average='weighted'))\n",
    "print(\"F1:\", f1_score(y_train, y_train_bow_predict, average='weighted'))"
   ]
  },
  {
   "cell_type": "code",
   "execution_count": 272,
   "metadata": {},
   "outputs": [
    {
     "name": "stdout",
     "output_type": "stream",
     "text": [
      "Precision: 0.9733368271993146\n",
      "Recall: 0.9733333333333334\n",
      "F1: 0.9733332808640519\n"
     ]
    }
   ],
   "source": [
    "print(\"Precision:\", precision_score(y_test, y_test_bow_predict,average='weighted'))\n",
    "print(\"Recall:\", recall_score(y_test, y_test_bow_predict,average='weighted'))\n",
    "print(\"F1:\", f1_score(y_test, y_test_bow_predict,average='weighted'))"
   ]
  },
  {
   "cell_type": "markdown",
   "metadata": {},
   "source": [
    "### Doc2Vec"
   ]
  },
  {
   "cell_type": "code",
   "execution_count": 273,
   "metadata": {},
   "outputs": [],
   "source": [
    "def tokenize_and_tag(texts):\n",
    "    tagged_data = []\n",
    "    for i, text in enumerate(texts):\n",
    "        words = word_tokenize(text)\n",
    "        tags = [i]\n",
    "        tagged_data.append(TaggedDocument(words=words, tags=tags))\n",
    "    return tagged_data\n",
    "\n",
    "# Tokeniza y etiqueta los textos de entrenamiento y prueba\n",
    "tagged_data_train = tokenize_and_tag(X_train[\"Textos_espanol\"])\n",
    "tagged_data_test = tokenize_and_tag(X_test[\"Textos_espanol\"])\n",
    "\n",
    "\n"
   ]
  },
  {
   "cell_type": "code",
   "execution_count": 274,
   "metadata": {},
   "outputs": [],
   "source": [
    "# Crea un modelo Doc2Vec\n",
    "doc2vec_model = Doc2Vec(vector_size=100, window=5, min_count=1, workers=4, epochs=20)\n",
    "\n",
    "# Construye el vocabulario\n",
    "doc2vec_model.build_vocab(tagged_data_train)\n",
    "\n",
    "# Entrena el modelo Doc2Vec\n",
    "doc2vec_model.train(tagged_data_train, total_examples=doc2vec_model.corpus_count, epochs=doc2vec_model.epochs)\n",
    "\n",
    "\n"
   ]
  },
  {
   "cell_type": "code",
   "execution_count": 275,
   "metadata": {},
   "outputs": [],
   "source": [
    "# Vectoriza los textos de entrenamiento y prueba\n",
    "X_train['doc2vec_features'] = [doc2vec_model.infer_vector(doc.words) for doc in tagged_data_train]\n",
    "X_test['doc2vec_features'] = [doc2vec_model.infer_vector(doc.words) for doc in tagged_data_test]\n"
   ]
  },
  {
   "cell_type": "code",
   "execution_count": 276,
   "metadata": {},
   "outputs": [],
   "source": [
    "\n",
    "# Modelo con Doc2Vec\n",
    "doc2vec_model = RandomForestClassifier(random_state=5)\n",
    "doc2vec_model.fit(list(X_train['doc2vec_features']), y_train)\n",
    "y_train_doc2vec_predict = doc2vec_model.predict(list(X_train['doc2vec_features']))\n",
    "y_test_doc2vec_predict = doc2vec_model.predict(list(X_test['doc2vec_features']))\n"
   ]
  },
  {
   "cell_type": "code",
   "execution_count": 277,
   "metadata": {},
   "outputs": [
    {
     "name": "stdout",
     "output_type": "stream",
     "text": [
      "Precision: 0.8924137311690353\n",
      "Recall: 0.8922222222222222\n",
      "F1: 0.8922726435164245\n"
     ]
    }
   ],
   "source": [
    "precision_doc2vec = precision_score(y_test, y_test_doc2vec_predict, average='weighted')\n",
    "recall_doc2vec = recall_score(y_test, y_test_doc2vec_predict, average='weighted')\n",
    "f1_doc2vec = f1_score(y_test, y_test_doc2vec_predict, average='weighted')\n",
    "\n",
    "print(\"Precision:\", precision_doc2vec)\n",
    "print(\"Recall:\", recall_doc2vec)\n",
    "print(\"F1:\", f1_doc2vec)"
   ]
  },
  {
   "cell_type": "markdown",
   "metadata": {},
   "source": [
    "## GloVe"
   ]
  },
  {
   "cell_type": "code",
   "execution_count": 278,
   "metadata": {},
   "outputs": [],
   "source": [
    "def glove_vectorize(text):\n",
    "    doc = nlp(text)\n",
    "    return doc.vector"
   ]
  },
  {
   "cell_type": "code",
   "execution_count": 279,
   "metadata": {},
   "outputs": [],
   "source": [
    "# Agrega una nueva columna de características a tus datos\n",
    "X_train['glove_features'] = X_train[\"Textos_espanol\"].apply(glove_vectorize)\n",
    "X_test['glove_features'] = X_test[\"Textos_espanol\"].apply(glove_vectorize)"
   ]
  },
  {
   "cell_type": "code",
   "execution_count": 280,
   "metadata": {},
   "outputs": [
    {
     "data": {
      "text/html": [
       "<style>#sk-container-id-13 {color: black;}#sk-container-id-13 pre{padding: 0;}#sk-container-id-13 div.sk-toggleable {background-color: white;}#sk-container-id-13 label.sk-toggleable__label {cursor: pointer;display: block;width: 100%;margin-bottom: 0;padding: 0.3em;box-sizing: border-box;text-align: center;}#sk-container-id-13 label.sk-toggleable__label-arrow:before {content: \"▸\";float: left;margin-right: 0.25em;color: #696969;}#sk-container-id-13 label.sk-toggleable__label-arrow:hover:before {color: black;}#sk-container-id-13 div.sk-estimator:hover label.sk-toggleable__label-arrow:before {color: black;}#sk-container-id-13 div.sk-toggleable__content {max-height: 0;max-width: 0;overflow: hidden;text-align: left;background-color: #f0f8ff;}#sk-container-id-13 div.sk-toggleable__content pre {margin: 0.2em;color: black;border-radius: 0.25em;background-color: #f0f8ff;}#sk-container-id-13 input.sk-toggleable__control:checked~div.sk-toggleable__content {max-height: 200px;max-width: 100%;overflow: auto;}#sk-container-id-13 input.sk-toggleable__control:checked~label.sk-toggleable__label-arrow:before {content: \"▾\";}#sk-container-id-13 div.sk-estimator input.sk-toggleable__control:checked~label.sk-toggleable__label {background-color: #d4ebff;}#sk-container-id-13 div.sk-label input.sk-toggleable__control:checked~label.sk-toggleable__label {background-color: #d4ebff;}#sk-container-id-13 input.sk-hidden--visually {border: 0;clip: rect(1px 1px 1px 1px);clip: rect(1px, 1px, 1px, 1px);height: 1px;margin: -1px;overflow: hidden;padding: 0;position: absolute;width: 1px;}#sk-container-id-13 div.sk-estimator {font-family: monospace;background-color: #f0f8ff;border: 1px dotted black;border-radius: 0.25em;box-sizing: border-box;margin-bottom: 0.5em;}#sk-container-id-13 div.sk-estimator:hover {background-color: #d4ebff;}#sk-container-id-13 div.sk-parallel-item::after {content: \"\";width: 100%;border-bottom: 1px solid gray;flex-grow: 1;}#sk-container-id-13 div.sk-label:hover label.sk-toggleable__label {background-color: #d4ebff;}#sk-container-id-13 div.sk-serial::before {content: \"\";position: absolute;border-left: 1px solid gray;box-sizing: border-box;top: 0;bottom: 0;left: 50%;z-index: 0;}#sk-container-id-13 div.sk-serial {display: flex;flex-direction: column;align-items: center;background-color: white;padding-right: 0.2em;padding-left: 0.2em;position: relative;}#sk-container-id-13 div.sk-item {position: relative;z-index: 1;}#sk-container-id-13 div.sk-parallel {display: flex;align-items: stretch;justify-content: center;background-color: white;position: relative;}#sk-container-id-13 div.sk-item::before, #sk-container-id-13 div.sk-parallel-item::before {content: \"\";position: absolute;border-left: 1px solid gray;box-sizing: border-box;top: 0;bottom: 0;left: 50%;z-index: -1;}#sk-container-id-13 div.sk-parallel-item {display: flex;flex-direction: column;z-index: 1;position: relative;background-color: white;}#sk-container-id-13 div.sk-parallel-item:first-child::after {align-self: flex-end;width: 50%;}#sk-container-id-13 div.sk-parallel-item:last-child::after {align-self: flex-start;width: 50%;}#sk-container-id-13 div.sk-parallel-item:only-child::after {width: 0;}#sk-container-id-13 div.sk-dashed-wrapped {border: 1px dashed gray;margin: 0 0.4em 0.5em 0.4em;box-sizing: border-box;padding-bottom: 0.4em;background-color: white;}#sk-container-id-13 div.sk-label label {font-family: monospace;font-weight: bold;display: inline-block;line-height: 1.2em;}#sk-container-id-13 div.sk-label-container {text-align: center;}#sk-container-id-13 div.sk-container {/* jupyter's `normalize.less` sets `[hidden] { display: none; }` but bootstrap.min.css set `[hidden] { display: none !important; }` so we also need the `!important` here to be able to override the default hidden behavior on the sphinx rendered scikit-learn.org. See: https://github.com/scikit-learn/scikit-learn/issues/21755 */display: inline-block !important;position: relative;}#sk-container-id-13 div.sk-text-repr-fallback {display: none;}</style><div id=\"sk-container-id-13\" class=\"sk-top-container\"><div class=\"sk-text-repr-fallback\"><pre>RandomForestClassifier(random_state=4)</pre><b>In a Jupyter environment, please rerun this cell to show the HTML representation or trust the notebook. <br />On GitHub, the HTML representation is unable to render, please try loading this page with nbviewer.org.</b></div><div class=\"sk-container\" hidden><div class=\"sk-item\"><div class=\"sk-estimator sk-toggleable\"><input class=\"sk-toggleable__control sk-hidden--visually\" id=\"sk-estimator-id-13\" type=\"checkbox\" checked><label for=\"sk-estimator-id-13\" class=\"sk-toggleable__label sk-toggleable__label-arrow\">RandomForestClassifier</label><div class=\"sk-toggleable__content\"><pre>RandomForestClassifier(random_state=4)</pre></div></div></div></div></div>"
      ],
      "text/plain": [
       "RandomForestClassifier(random_state=4)"
      ]
     },
     "execution_count": 280,
     "metadata": {},
     "output_type": "execute_result"
    }
   ],
   "source": [
    "# Crear un modelo RandomForestClassifier para GloVe\n",
    "glove_model = RandomForestClassifier(random_state=4)\n",
    "glove_model.fit(list(X_train['glove_features']), y_train)"
   ]
  },
  {
   "cell_type": "code",
   "execution_count": 281,
   "metadata": {},
   "outputs": [],
   "source": [
    "# Predecir con el modelo de GloVe\n",
    "y_train_glove_predict = glove_model.predict(list(X_train['glove_features']))\n",
    "y_test_glove_predict = glove_model.predict(list(X_test['glove_features']))"
   ]
  },
  {
   "cell_type": "code",
   "execution_count": 282,
   "metadata": {},
   "outputs": [
    {
     "name": "stdout",
     "output_type": "stream",
     "text": [
      "Precision: 0.8278492977291264\n",
      "Recall: 0.8266666666666667\n",
      "F1: 0.8266073313241903\n"
     ]
    }
   ],
   "source": [
    "# Calcula métricas para el modelo de GloVe\n",
    "precision_glove = precision_score(y_test, y_test_glove_predict, average='weighted')\n",
    "recall_glove = recall_score(y_test, y_test_glove_predict, average='weighted')\n",
    "f1_glove = f1_score(y_test, y_test_glove_predict, average='weighted')\n",
    "\n",
    "print(\"Precision:\", precision_glove)\n",
    "print(\"Recall:\", recall_glove)\n",
    "print(\"F1:\", f1_glove)"
   ]
  },
  {
   "cell_type": "markdown",
   "metadata": {},
   "source": [
    "##  Modelo con TF-IDF"
   ]
  },
  {
   "cell_type": "code",
   "execution_count": 283,
   "metadata": {},
   "outputs": [],
   "source": [
    "tfidf_model = RandomForestClassifier(random_state=3)"
   ]
  },
  {
   "cell_type": "code",
   "execution_count": 284,
   "metadata": {},
   "outputs": [
    {
     "data": {
      "text/html": [
       "<style>#sk-container-id-14 {color: black;}#sk-container-id-14 pre{padding: 0;}#sk-container-id-14 div.sk-toggleable {background-color: white;}#sk-container-id-14 label.sk-toggleable__label {cursor: pointer;display: block;width: 100%;margin-bottom: 0;padding: 0.3em;box-sizing: border-box;text-align: center;}#sk-container-id-14 label.sk-toggleable__label-arrow:before {content: \"▸\";float: left;margin-right: 0.25em;color: #696969;}#sk-container-id-14 label.sk-toggleable__label-arrow:hover:before {color: black;}#sk-container-id-14 div.sk-estimator:hover label.sk-toggleable__label-arrow:before {color: black;}#sk-container-id-14 div.sk-toggleable__content {max-height: 0;max-width: 0;overflow: hidden;text-align: left;background-color: #f0f8ff;}#sk-container-id-14 div.sk-toggleable__content pre {margin: 0.2em;color: black;border-radius: 0.25em;background-color: #f0f8ff;}#sk-container-id-14 input.sk-toggleable__control:checked~div.sk-toggleable__content {max-height: 200px;max-width: 100%;overflow: auto;}#sk-container-id-14 input.sk-toggleable__control:checked~label.sk-toggleable__label-arrow:before {content: \"▾\";}#sk-container-id-14 div.sk-estimator input.sk-toggleable__control:checked~label.sk-toggleable__label {background-color: #d4ebff;}#sk-container-id-14 div.sk-label input.sk-toggleable__control:checked~label.sk-toggleable__label {background-color: #d4ebff;}#sk-container-id-14 input.sk-hidden--visually {border: 0;clip: rect(1px 1px 1px 1px);clip: rect(1px, 1px, 1px, 1px);height: 1px;margin: -1px;overflow: hidden;padding: 0;position: absolute;width: 1px;}#sk-container-id-14 div.sk-estimator {font-family: monospace;background-color: #f0f8ff;border: 1px dotted black;border-radius: 0.25em;box-sizing: border-box;margin-bottom: 0.5em;}#sk-container-id-14 div.sk-estimator:hover {background-color: #d4ebff;}#sk-container-id-14 div.sk-parallel-item::after {content: \"\";width: 100%;border-bottom: 1px solid gray;flex-grow: 1;}#sk-container-id-14 div.sk-label:hover label.sk-toggleable__label {background-color: #d4ebff;}#sk-container-id-14 div.sk-serial::before {content: \"\";position: absolute;border-left: 1px solid gray;box-sizing: border-box;top: 0;bottom: 0;left: 50%;z-index: 0;}#sk-container-id-14 div.sk-serial {display: flex;flex-direction: column;align-items: center;background-color: white;padding-right: 0.2em;padding-left: 0.2em;position: relative;}#sk-container-id-14 div.sk-item {position: relative;z-index: 1;}#sk-container-id-14 div.sk-parallel {display: flex;align-items: stretch;justify-content: center;background-color: white;position: relative;}#sk-container-id-14 div.sk-item::before, #sk-container-id-14 div.sk-parallel-item::before {content: \"\";position: absolute;border-left: 1px solid gray;box-sizing: border-box;top: 0;bottom: 0;left: 50%;z-index: -1;}#sk-container-id-14 div.sk-parallel-item {display: flex;flex-direction: column;z-index: 1;position: relative;background-color: white;}#sk-container-id-14 div.sk-parallel-item:first-child::after {align-self: flex-end;width: 50%;}#sk-container-id-14 div.sk-parallel-item:last-child::after {align-self: flex-start;width: 50%;}#sk-container-id-14 div.sk-parallel-item:only-child::after {width: 0;}#sk-container-id-14 div.sk-dashed-wrapped {border: 1px dashed gray;margin: 0 0.4em 0.5em 0.4em;box-sizing: border-box;padding-bottom: 0.4em;background-color: white;}#sk-container-id-14 div.sk-label label {font-family: monospace;font-weight: bold;display: inline-block;line-height: 1.2em;}#sk-container-id-14 div.sk-label-container {text-align: center;}#sk-container-id-14 div.sk-container {/* jupyter's `normalize.less` sets `[hidden] { display: none; }` but bootstrap.min.css set `[hidden] { display: none !important; }` so we also need the `!important` here to be able to override the default hidden behavior on the sphinx rendered scikit-learn.org. See: https://github.com/scikit-learn/scikit-learn/issues/21755 */display: inline-block !important;position: relative;}#sk-container-id-14 div.sk-text-repr-fallback {display: none;}</style><div id=\"sk-container-id-14\" class=\"sk-top-container\"><div class=\"sk-text-repr-fallback\"><pre>RandomForestClassifier(random_state=3)</pre><b>In a Jupyter environment, please rerun this cell to show the HTML representation or trust the notebook. <br />On GitHub, the HTML representation is unable to render, please try loading this page with nbviewer.org.</b></div><div class=\"sk-container\" hidden><div class=\"sk-item\"><div class=\"sk-estimator sk-toggleable\"><input class=\"sk-toggleable__control sk-hidden--visually\" id=\"sk-estimator-id-14\" type=\"checkbox\" checked><label for=\"sk-estimator-id-14\" class=\"sk-toggleable__label sk-toggleable__label-arrow\">RandomForestClassifier</label><div class=\"sk-toggleable__content\"><pre>RandomForestClassifier(random_state=3)</pre></div></div></div></div></div>"
      ],
      "text/plain": [
       "RandomForestClassifier(random_state=3)"
      ]
     },
     "execution_count": 284,
     "metadata": {},
     "output_type": "execute_result"
    }
   ],
   "source": [
    "tfidf_model.fit(X_tfidf, y_train)"
   ]
  },
  {
   "cell_type": "code",
   "execution_count": 285,
   "metadata": {},
   "outputs": [
    {
     "data": {
      "text/plain": [
       "<Axes: >"
      ]
     },
     "execution_count": 285,
     "metadata": {},
     "output_type": "execute_result"
    },
    {
     "data": {
      "image/png": "[encoded data removed]",
      "text/plain": [
       "<Figure size 1500x1000 with 1 Axes>"
      ]
     },
     "metadata": {},
     "output_type": "display_data"
    }
   ],
   "source": [
    "pd.Series(tfidf_model.feature_importances_, index=tfidf.vocabulary_).sort_values().tail(20).plot.barh(figsize=(15, 10))"
   ]
  },
  {
   "cell_type": "code",
   "execution_count": 286,
   "metadata": {},
   "outputs": [
    {
     "name": "stdout",
     "output_type": "stream",
     "text": [
      "Number of trees: 100\n",
      "Trees depth (mean): 96.69\n"
     ]
    }
   ],
   "source": [
    "tfidf_estimators = tfidf_model.estimators_\n",
    "print(\"Number of trees:\", len(tfidf_estimators))\n",
    "print(\"Trees depth (mean):\", np.mean([tree.get_depth() for tree in tfidf_estimators]))"
   ]
  },
  {
   "cell_type": "code",
   "execution_count": 287,
   "metadata": {},
   "outputs": [],
   "source": [
    "y_train_tfidf_predict = tfidf_model.predict(X_tfidf)\n",
    "y_test_tfidf_predict = tfidf_model.predict(tfidf.transform(X_test[\"Textos_espanol\"]))"
   ]
  },
  {
   "cell_type": "code",
   "execution_count": 288,
   "metadata": {},
   "outputs": [
    {
     "data": {
      "text/plain": [
       "<sklearn.metrics._plot.confusion_matrix.ConfusionMatrixDisplay at 0x1cfb109f890>"
      ]
     },
     "execution_count": 288,
     "metadata": {},
     "output_type": "execute_result"
    },
    {
     "data": {
      "image/png": "[encoded data removed]",
      "text/plain": [
       "<Figure size 640x480 with 2 Axes>"
      ]
     },
     "metadata": {},
     "output_type": "display_data"
    }
   ],
   "source": [
    "ConfusionMatrixDisplay.from_predictions(y_train, y_train_tfidf_predict)"
   ]
  },
  {
   "cell_type": "code",
   "execution_count": 289,
   "metadata": {},
   "outputs": [
    {
     "data": {
      "text/plain": [
       "<sklearn.metrics._plot.confusion_matrix.ConfusionMatrixDisplay at 0x1cfb3df9910>"
      ]
     },
     "execution_count": 289,
     "metadata": {},
     "output_type": "execute_result"
    },
    {
     "data": {
      "image/png": "[encoded data removed]",
      "text/plain": [
       "<Figure size 640x480 with 2 Axes>"
      ]
     },
     "metadata": {},
     "output_type": "display_data"
    }
   ],
   "source": [
    "ConfusionMatrixDisplay.from_predictions(y_test, y_test_tfidf_predict)"
   ]
  },
  {
   "cell_type": "code",
   "execution_count": 290,
   "metadata": {},
   "outputs": [
    {
     "name": "stdout",
     "output_type": "stream",
     "text": [
      "Precision: 1.0\n",
      "Recall: 1.0\n",
      "F1: 1.0\n"
     ]
    }
   ],
   "source": [
    "print(\"Precision:\", precision_score(y_train, y_train_tfidf_predict,average='weighted'))\n",
    "print(\"Recall:\", recall_score(y_train, y_train_tfidf_predict,average='weighted'))\n",
    "print(\"F1:\", f1_score(y_train, y_train_tfidf_predict,average='weighted'))"
   ]
  },
  {
   "cell_type": "code",
   "execution_count": 291,
   "metadata": {},
   "outputs": [
    {
     "name": "stdout",
     "output_type": "stream",
     "text": [
      "Precision: 0.9755770379918121\n",
      "Recall: 0.9755555555555555\n",
      "F1: 0.9755590741131692\n"
     ]
    }
   ],
   "source": [
    "print(\"Precision:\", precision_score(y_test, y_test_tfidf_predict,average='weighted'))\n",
    "print(\"Recall:\", recall_score(y_test, y_test_tfidf_predict,average='weighted'))\n",
    "print(\"F1:\", f1_score(y_test, y_test_tfidf_predict,average='weighted'))"
   ]
  },
  {
   "cell_type": "markdown",
   "metadata": {},
   "source": [
    "## Model Selection"
   ]
  },
  {
   "cell_type": "code",
   "execution_count": 292,
   "metadata": {},
   "outputs": [],
   "source": [
    "pipeline = Pipeline(steps = [\n",
    "    (\"vectorizer\", CountVectorizer(tokenizer=word_tokenize, stop_words=stop_words, lowercase=True)),\n",
    "    (\"classifier\", RandomForestClassifier(random_state=4))\n",
    "])"
   ]
  },
  {
   "cell_type": "code",
   "execution_count": 293,
   "metadata": {},
   "outputs": [],
   "source": [
    "param_grid = {\n",
    "    \"vectorizer\": [CountVectorizer(tokenizer=word_tokenize, stop_words=stop_words), TfidfVectorizer(tokenizer=word_tokenize, stop_words=stop_words)],\n",
    "    \"vectorizer__lowercase\": [True, False],\n",
    "    \"classifier__n_estimators\": [50, 100],\n",
    "    \"classifier__criterion\": ['gini', 'entropy'],\n",
    "    \"classifier__max_depth\": [25, 50, 75, 100]\n",
    "}"
   ]
  },
  {
   "cell_type": "code",
   "execution_count": 294,
   "metadata": {},
   "outputs": [],
   "source": [
    "search = RandomizedSearchCV(pipeline, param_grid, n_iter=7, scoring=[\"precision\", \"recall\", \"f1\"], refit=\"f1\", cv=10, return_train_score=True, verbose=1, random_state=5)"
   ]
  },
  {
   "cell_type": "code",
   "execution_count": 295,
   "metadata": {},
   "outputs": [
    {
     "name": "stdout",
     "output_type": "stream",
     "text": [
      "Fitting 10 folds for each of 7 candidates, totalling 70 fits\n"
     ]
    },
    {
     "data": {
      "text/html": [
       "<style>#sk-container-id-15 {color: black;}#sk-container-id-15 pre{padding: 0;}#sk-container-id-15 div.sk-toggleable {background-color: white;}#sk-container-id-15 label.sk-toggleable__label {cursor: pointer;display: block;width: 100%;margin-bottom: 0;padding: 0.3em;box-sizing: border-box;text-align: center;}#sk-container-id-15 label.sk-toggleable__label-arrow:before {content: \"▸\";float: left;margin-right: 0.25em;color: #696969;}#sk-container-id-15 label.sk-toggleable__label-arrow:hover:before {color: black;}#sk-container-id-15 div.sk-estimator:hover label.sk-toggleable__label-arrow:before {color: black;}#sk-container-id-15 div.sk-toggleable__content {max-height: 0;max-width: 0;overflow: hidden;text-align: left;background-color: #f0f8ff;}#sk-container-id-15 div.sk-toggleable__content pre {margin: 0.2em;color: black;border-radius: 0.25em;background-color: #f0f8ff;}#sk-container-id-15 input.sk-toggleable__control:checked~div.sk-toggleable__content {max-height: 200px;max-width: 100%;overflow: auto;}#sk-container-id-15 input.sk-toggleable__control:checked~label.sk-toggleable__label-arrow:before {content: \"▾\";}#sk-container-id-15 div.sk-estimator input.sk-toggleable__control:checked~label.sk-toggleable__label {background-color: #d4ebff;}#sk-container-id-15 div.sk-label input.sk-toggleable__control:checked~label.sk-toggleable__label {background-color: #d4ebff;}#sk-container-id-15 input.sk-hidden--visually {border: 0;clip: rect(1px 1px 1px 1px);clip: rect(1px, 1px, 1px, 1px);height: 1px;margin: -1px;overflow: hidden;padding: 0;position: absolute;width: 1px;}#sk-container-id-15 div.sk-estimator {font-family: monospace;background-color: #f0f8ff;border: 1px dotted black;border-radius: 0.25em;box-sizing: border-box;margin-bottom: 0.5em;}#sk-container-id-15 div.sk-estimator:hover {background-color: #d4ebff;}#sk-container-id-15 div.sk-parallel-item::after {content: \"\";width: 100%;border-bottom: 1px solid gray;flex-grow: 1;}#sk-container-id-15 div.sk-label:hover label.sk-toggleable__label {background-color: #d4ebff;}#sk-container-id-15 div.sk-serial::before {content: \"\";position: absolute;border-left: 1px solid gray;box-sizing: border-box;top: 0;bottom: 0;left: 50%;z-index: 0;}#sk-container-id-15 div.sk-serial {display: flex;flex-direction: column;align-items: center;background-color: white;padding-right: 0.2em;padding-left: 0.2em;position: relative;}#sk-container-id-15 div.sk-item {position: relative;z-index: 1;}#sk-container-id-15 div.sk-parallel {display: flex;align-items: stretch;justify-content: center;background-color: white;position: relative;}#sk-container-id-15 div.sk-item::before, #sk-container-id-15 div.sk-parallel-item::before {content: \"\";position: absolute;border-left: 1px solid gray;box-sizing: border-box;top: 0;bottom: 0;left: 50%;z-index: -1;}#sk-container-id-15 div.sk-parallel-item {display: flex;flex-direction: column;z-index: 1;position: relative;background-color: white;}#sk-container-id-15 div.sk-parallel-item:first-child::after {align-self: flex-end;width: 50%;}#sk-container-id-15 div.sk-parallel-item:last-child::after {align-self: flex-start;width: 50%;}#sk-container-id-15 div.sk-parallel-item:only-child::after {width: 0;}#sk-container-id-15 div.sk-dashed-wrapped {border: 1px dashed gray;margin: 0 0.4em 0.5em 0.4em;box-sizing: border-box;padding-bottom: 0.4em;background-color: white;}#sk-container-id-15 div.sk-label label {font-family: monospace;font-weight: bold;display: inline-block;line-height: 1.2em;}#sk-container-id-15 div.sk-label-container {text-align: center;}#sk-container-id-15 div.sk-container {/* jupyter's `normalize.less` sets `[hidden] { display: none; }` but bootstrap.min.css set `[hidden] { display: none !important; }` so we also need the `!important` here to be able to override the default hidden behavior on the sphinx rendered scikit-learn.org. See: https://github.com/scikit-learn/scikit-learn/issues/21755 */display: inline-block !important;position: relative;}#sk-container-id-15 div.sk-text-repr-fallback {display: none;}</style><div id=\"sk-container-id-15\" class=\"sk-top-container\"><div class=\"sk-text-repr-fallback\"><pre>RandomizedSearchCV(cv=10,\n",
       "                   estimator=Pipeline(steps=[(&#x27;vectorizer&#x27;,\n",
       "                                              CountVectorizer(stop_words=[&#x27;de&#x27;,\n",
       "                                                                          &#x27;la&#x27;,\n",
       "                                                                          &#x27;que&#x27;,\n",
       "                                                                          &#x27;el&#x27;,\n",
       "                                                                          &#x27;en&#x27;,\n",
       "                                                                          &#x27;y&#x27;,\n",
       "                                                                          &#x27;a&#x27;,\n",
       "                                                                          &#x27;los&#x27;,\n",
       "                                                                          &#x27;del&#x27;,\n",
       "                                                                          &#x27;se&#x27;,\n",
       "                                                                          &#x27;las&#x27;,\n",
       "                                                                          &#x27;por&#x27;,\n",
       "                                                                          &#x27;un&#x27;,\n",
       "                                                                          &#x27;para&#x27;,\n",
       "                                                                          &#x27;con&#x27;,\n",
       "                                                                          &#x27;no&#x27;,\n",
       "                                                                          &#x27;una&#x27;,\n",
       "                                                                          &#x27;su&#x27;,\n",
       "                                                                          &#x27;al&#x27;,\n",
       "                                                                          &#x27;lo&#x27;,\n",
       "                                                                          &#x27;como&#x27;,\n",
       "                                                                          &#x27;más&#x27;,\n",
       "                                                                          &#x27;pero&#x27;,\n",
       "                                                                          &#x27;sus&#x27;,\n",
       "                                                                          &#x27;le&#x27;,\n",
       "                                                                          &#x27;ya&#x27;,\n",
       "                                                                          &#x27;o&#x27;,\n",
       "                                                                          &#x27;este&#x27;,\n",
       "                                                                          &#x27;sí&#x27;,\n",
       "                                                                          &#x27;porque&#x27;, ...],\n",
       "                                                              tokenizer=&lt;function word_tokenize at 0x000001CF9C4D3F60&gt;)),\n",
       "                                             (&#x27;classifier&#x27;,\n",
       "                                              RandomForestCl...\n",
       "                                                                                   &#x27;que&#x27;,\n",
       "                                                                                   &#x27;el&#x27;,\n",
       "                                                                                   &#x27;en&#x27;,\n",
       "                                                                                   &#x27;y&#x27;,\n",
       "                                                                                   &#x27;a&#x27;,\n",
       "                                                                                   &#x27;los&#x27;,\n",
       "                                                                                   &#x27;del&#x27;,\n",
       "                                                                                   &#x27;se&#x27;,\n",
       "                                                                                   &#x27;las&#x27;,\n",
       "                                                                                   &#x27;por&#x27;,\n",
       "                                                                                   &#x27;un&#x27;,\n",
       "                                                                                   &#x27;para&#x27;,\n",
       "                                                                                   &#x27;con&#x27;,\n",
       "                                                                                   &#x27;no&#x27;,\n",
       "                                                                                   &#x27;una&#x27;,\n",
       "                                                                                   &#x27;su&#x27;,\n",
       "                                                                                   &#x27;al&#x27;,\n",
       "                                                                                   &#x27;lo&#x27;,\n",
       "                                                                                   &#x27;como&#x27;,\n",
       "                                                                                   &#x27;más&#x27;,\n",
       "                                                                                   &#x27;pero&#x27;,\n",
       "                                                                                   &#x27;sus&#x27;,\n",
       "                                                                                   &#x27;le&#x27;,\n",
       "                                                                                   &#x27;ya&#x27;,\n",
       "                                                                                   &#x27;o&#x27;,\n",
       "                                                                                   &#x27;este&#x27;,\n",
       "                                                                                   &#x27;sí&#x27;,\n",
       "                                                                                   &#x27;porque&#x27;, ...],\n",
       "                                                                       tokenizer=&lt;function word_tokenize at 0x000001CF9C4D3F60&gt;)],\n",
       "                                        &#x27;vectorizer__lowercase&#x27;: [True, False]},\n",
       "                   random_state=5, refit=&#x27;f1&#x27;, return_train_score=True,\n",
       "                   scoring=[&#x27;precision&#x27;, &#x27;recall&#x27;, &#x27;f1&#x27;], verbose=1)</pre><b>In a Jupyter environment, please rerun this cell to show the HTML representation or trust the notebook. <br />On GitHub, the HTML representation is unable to render, please try loading this page with nbviewer.org.</b></div><div class=\"sk-container\" hidden><div class=\"sk-item sk-dashed-wrapped\"><div class=\"sk-label-container\"><div class=\"sk-label sk-toggleable\"><input class=\"sk-toggleable__control sk-hidden--visually\" id=\"sk-estimator-id-15\" type=\"checkbox\" ><label for=\"sk-estimator-id-15\" class=\"sk-toggleable__label sk-toggleable__label-arrow\">RandomizedSearchCV</label><div class=\"sk-toggleable__content\"><pre>RandomizedSearchCV(cv=10,\n",
       "                   estimator=Pipeline(steps=[(&#x27;vectorizer&#x27;,\n",
       "                                              CountVectorizer(stop_words=[&#x27;de&#x27;,\n",
       "                                                                          &#x27;la&#x27;,\n",
       "                                                                          &#x27;que&#x27;,\n",
       "                                                                          &#x27;el&#x27;,\n",
       "                                                                          &#x27;en&#x27;,\n",
       "                                                                          &#x27;y&#x27;,\n",
       "                                                                          &#x27;a&#x27;,\n",
       "                                                                          &#x27;los&#x27;,\n",
       "                                                                          &#x27;del&#x27;,\n",
       "                                                                          &#x27;se&#x27;,\n",
       "                                                                          &#x27;las&#x27;,\n",
       "                                                                          &#x27;por&#x27;,\n",
       "                                                                          &#x27;un&#x27;,\n",
       "                                                                          &#x27;para&#x27;,\n",
       "                                                                          &#x27;con&#x27;,\n",
       "                                                                          &#x27;no&#x27;,\n",
       "                                                                          &#x27;una&#x27;,\n",
       "                                                                          &#x27;su&#x27;,\n",
       "                                                                          &#x27;al&#x27;,\n",
       "                                                                          &#x27;lo&#x27;,\n",
       "                                                                          &#x27;como&#x27;,\n",
       "                                                                          &#x27;más&#x27;,\n",
       "                                                                          &#x27;pero&#x27;,\n",
       "                                                                          &#x27;sus&#x27;,\n",
       "                                                                          &#x27;le&#x27;,\n",
       "                                                                          &#x27;ya&#x27;,\n",
       "                                                                          &#x27;o&#x27;,\n",
       "                                                                          &#x27;este&#x27;,\n",
       "                                                                          &#x27;sí&#x27;,\n",
       "                                                                          &#x27;porque&#x27;, ...],\n",
       "                                                              tokenizer=&lt;function word_tokenize at 0x000001CF9C4D3F60&gt;)),\n",
       "                                             (&#x27;classifier&#x27;,\n",
       "                                              RandomForestCl...\n",
       "                                                                                   &#x27;que&#x27;,\n",
       "                                                                                   &#x27;el&#x27;,\n",
       "                                                                                   &#x27;en&#x27;,\n",
       "                                                                                   &#x27;y&#x27;,\n",
       "                                                                                   &#x27;a&#x27;,\n",
       "                                                                                   &#x27;los&#x27;,\n",
       "                                                                                   &#x27;del&#x27;,\n",
       "                                                                                   &#x27;se&#x27;,\n",
       "                                                                                   &#x27;las&#x27;,\n",
       "                                                                                   &#x27;por&#x27;,\n",
       "                                                                                   &#x27;un&#x27;,\n",
       "                                                                                   &#x27;para&#x27;,\n",
       "                                                                                   &#x27;con&#x27;,\n",
       "                                                                                   &#x27;no&#x27;,\n",
       "                                                                                   &#x27;una&#x27;,\n",
       "                                                                                   &#x27;su&#x27;,\n",
       "                                                                                   &#x27;al&#x27;,\n",
       "                                                                                   &#x27;lo&#x27;,\n",
       "                                                                                   &#x27;como&#x27;,\n",
       "                                                                                   &#x27;más&#x27;,\n",
       "                                                                                   &#x27;pero&#x27;,\n",
       "                                                                                   &#x27;sus&#x27;,\n",
       "                                                                                   &#x27;le&#x27;,\n",
       "                                                                                   &#x27;ya&#x27;,\n",
       "                                                                                   &#x27;o&#x27;,\n",
       "                                                                                   &#x27;este&#x27;,\n",
       "                                                                                   &#x27;sí&#x27;,\n",
       "                                                                                   &#x27;porque&#x27;, ...],\n",
       "                                                                       tokenizer=&lt;function word_tokenize at 0x000001CF9C4D3F60&gt;)],\n",
       "                                        &#x27;vectorizer__lowercase&#x27;: [True, False]},\n",
       "                   random_state=5, refit=&#x27;f1&#x27;, return_train_score=True,\n",
       "                   scoring=[&#x27;precision&#x27;, &#x27;recall&#x27;, &#x27;f1&#x27;], verbose=1)</pre></div></div></div><div class=\"sk-parallel\"><div class=\"sk-parallel-item\"><div class=\"sk-item\"><div class=\"sk-label-container\"><div class=\"sk-label sk-toggleable\"><input class=\"sk-toggleable__control sk-hidden--visually\" id=\"sk-estimator-id-16\" type=\"checkbox\" ><label for=\"sk-estimator-id-16\" class=\"sk-toggleable__label sk-toggleable__label-arrow\">estimator: Pipeline</label><div class=\"sk-toggleable__content\"><pre>Pipeline(steps=[(&#x27;vectorizer&#x27;,\n",
       "                 CountVectorizer(stop_words=[&#x27;de&#x27;, &#x27;la&#x27;, &#x27;que&#x27;, &#x27;el&#x27;, &#x27;en&#x27;, &#x27;y&#x27;,\n",
       "                                             &#x27;a&#x27;, &#x27;los&#x27;, &#x27;del&#x27;, &#x27;se&#x27;, &#x27;las&#x27;,\n",
       "                                             &#x27;por&#x27;, &#x27;un&#x27;, &#x27;para&#x27;, &#x27;con&#x27;, &#x27;no&#x27;,\n",
       "                                             &#x27;una&#x27;, &#x27;su&#x27;, &#x27;al&#x27;, &#x27;lo&#x27;, &#x27;como&#x27;,\n",
       "                                             &#x27;más&#x27;, &#x27;pero&#x27;, &#x27;sus&#x27;, &#x27;le&#x27;, &#x27;ya&#x27;,\n",
       "                                             &#x27;o&#x27;, &#x27;este&#x27;, &#x27;sí&#x27;, &#x27;porque&#x27;, ...],\n",
       "                                 tokenizer=&lt;function word_tokenize at 0x000001CF9C4D3F60&gt;)),\n",
       "                (&#x27;classifier&#x27;, RandomForestClassifier(random_state=4))])</pre></div></div></div><div class=\"sk-serial\"><div class=\"sk-item\"><div class=\"sk-serial\"><div class=\"sk-item\"><div class=\"sk-estimator sk-toggleable\"><input class=\"sk-toggleable__control sk-hidden--visually\" id=\"sk-estimator-id-17\" type=\"checkbox\" ><label for=\"sk-estimator-id-17\" class=\"sk-toggleable__label sk-toggleable__label-arrow\">CountVectorizer</label><div class=\"sk-toggleable__content\"><pre>CountVectorizer(stop_words=[&#x27;de&#x27;, &#x27;la&#x27;, &#x27;que&#x27;, &#x27;el&#x27;, &#x27;en&#x27;, &#x27;y&#x27;, &#x27;a&#x27;, &#x27;los&#x27;,\n",
       "                            &#x27;del&#x27;, &#x27;se&#x27;, &#x27;las&#x27;, &#x27;por&#x27;, &#x27;un&#x27;, &#x27;para&#x27;, &#x27;con&#x27;,\n",
       "                            &#x27;no&#x27;, &#x27;una&#x27;, &#x27;su&#x27;, &#x27;al&#x27;, &#x27;lo&#x27;, &#x27;como&#x27;, &#x27;más&#x27;,\n",
       "                            &#x27;pero&#x27;, &#x27;sus&#x27;, &#x27;le&#x27;, &#x27;ya&#x27;, &#x27;o&#x27;, &#x27;este&#x27;, &#x27;sí&#x27;,\n",
       "                            &#x27;porque&#x27;, ...],\n",
       "                tokenizer=&lt;function word_tokenize at 0x000001CF9C4D3F60&gt;)</pre></div></div></div><div class=\"sk-item\"><div class=\"sk-estimator sk-toggleable\"><input class=\"sk-toggleable__control sk-hidden--visually\" id=\"sk-estimator-id-18\" type=\"checkbox\" ><label for=\"sk-estimator-id-18\" class=\"sk-toggleable__label sk-toggleable__label-arrow\">RandomForestClassifier</label><div class=\"sk-toggleable__content\"><pre>RandomForestClassifier(random_state=4)</pre></div></div></div></div></div></div></div></div></div></div></div></div>"
      ],
      "text/plain": [
       "RandomizedSearchCV(cv=10,\n",
       "                   estimator=Pipeline(steps=[('vectorizer',\n",
       "                                              CountVectorizer(stop_words=['de',\n",
       "                                                                          'la',\n",
       "                                                                          'que',\n",
       "                                                                          'el',\n",
       "                                                                          'en',\n",
       "                                                                          'y',\n",
       "                                                                          'a',\n",
       "                                                                          'los',\n",
       "                                                                          'del',\n",
       "                                                                          'se',\n",
       "                                                                          'las',\n",
       "                                                                          'por',\n",
       "                                                                          'un',\n",
       "                                                                          'para',\n",
       "                                                                          'con',\n",
       "                                                                          'no',\n",
       "                                                                          'una',\n",
       "                                                                          'su',\n",
       "                                                                          'al',\n",
       "                                                                          'lo',\n",
       "                                                                          'como',\n",
       "                                                                          'más',\n",
       "                                                                          'pero',\n",
       "                                                                          'sus',\n",
       "                                                                          'le',\n",
       "                                                                          'ya',\n",
       "                                                                          'o',\n",
       "                                                                          'este',\n",
       "                                                                          'sí',\n",
       "                                                                          'porque', ...],\n",
       "                                                              tokenizer=<function word_tokenize at 0x000001CF9C4D3F60>)),\n",
       "                                             ('classifier',\n",
       "                                              RandomForestCl...\n",
       "                                                                                   'que',\n",
       "                                                                                   'el',\n",
       "                                                                                   'en',\n",
       "                                                                                   'y',\n",
       "                                                                                   'a',\n",
       "                                                                                   'los',\n",
       "                                                                                   'del',\n",
       "                                                                                   'se',\n",
       "                                                                                   'las',\n",
       "                                                                                   'por',\n",
       "                                                                                   'un',\n",
       "                                                                                   'para',\n",
       "                                                                                   'con',\n",
       "                                                                                   'no',\n",
       "                                                                                   'una',\n",
       "                                                                                   'su',\n",
       "                                                                                   'al',\n",
       "                                                                                   'lo',\n",
       "                                                                                   'como',\n",
       "                                                                                   'más',\n",
       "                                                                                   'pero',\n",
       "                                                                                   'sus',\n",
       "                                                                                   'le',\n",
       "                                                                                   'ya',\n",
       "                                                                                   'o',\n",
       "                                                                                   'este',\n",
       "                                                                                   'sí',\n",
       "                                                                                   'porque', ...],\n",
       "                                                                       tokenizer=<function word_tokenize at 0x000001CF9C4D3F60>)],\n",
       "                                        'vectorizer__lowercase': [True, False]},\n",
       "                   random_state=5, refit='f1', return_train_score=True,\n",
       "                   scoring=['precision', 'recall', 'f1'], verbose=1)"
      ]
     },
     "execution_count": 295,
     "metadata": {},
     "output_type": "execute_result"
    }
   ],
   "source": [
    "search.fit(X_train[\"Textos_espanol\"], y_train)"
   ]
  },
  {
   "cell_type": "code",
   "execution_count": 296,
   "metadata": {},
   "outputs": [
    {
     "data": {
      "text/plain": [
       "{'vectorizer__lowercase': False,\n",
       " 'vectorizer': CountVectorizer(lowercase=False,\n",
       "                 stop_words=['de', 'la', 'que', 'el', 'en', 'y', 'a', 'los',\n",
       "                             'del', 'se', 'las', 'por', 'un', 'para', 'con',\n",
       "                             'no', 'una', 'su', 'al', 'lo', 'como', 'más',\n",
       "                             'pero', 'sus', 'le', 'ya', 'o', 'este', 'sí',\n",
       "                             'porque', ...],\n",
       "                 tokenizer=<function word_tokenize at 0x000001CF9C4D3F60>),\n",
       " 'classifier__n_estimators': 100,\n",
       " 'classifier__max_depth': 100,\n",
       " 'classifier__criterion': 'gini'}"
      ]
     },
     "execution_count": 296,
     "metadata": {},
     "output_type": "execute_result"
    }
   ],
   "source": [
    "search.best_params_"
   ]
  },
  {
   "cell_type": "code",
   "execution_count": 297,
   "metadata": {},
   "outputs": [
    {
     "data": {
      "text/plain": [
       "nan"
      ]
     },
     "execution_count": 297,
     "metadata": {},
     "output_type": "execute_result"
    }
   ],
   "source": [
    "search.best_score_"
   ]
  },
  {
   "cell_type": "code",
   "execution_count": 298,
   "metadata": {},
   "outputs": [],
   "source": [
    "y_train_search_predict = search.best_estimator_.predict(X_train[\"Textos_espanol\"])\n",
    "y_test_search_predict = search.best_estimator_.predict(X_test[\"Textos_espanol\"])"
   ]
  },
  {
   "cell_type": "code",
   "execution_count": 299,
   "metadata": {},
   "outputs": [
    {
     "name": "stdout",
     "output_type": "stream",
     "text": [
      "Precision: 1.0\n",
      "Recall: 1.0\n",
      "F1: 1.0\n"
     ]
    }
   ],
   "source": [
    "print(\"Precision:\", precision_score(y_train, y_train_search_predict,average='weighted'))\n",
    "print(\"Recall:\", recall_score(y_train, y_train_search_predict,average='weighted'))\n",
    "print(\"F1:\", f1_score(y_train, y_train_search_predict,average='weighted'))"
   ]
  },
  {
   "cell_type": "code",
   "execution_count": 300,
   "metadata": {},
   "outputs": [
    {
     "name": "stdout",
     "output_type": "stream",
     "text": [
      "Precision: 0.9778273283880844\n",
      "Recall: 0.9777777777777777\n",
      "F1: 0.9777809770611384\n"
     ]
    }
   ],
   "source": [
    "print(\"Precision:\", precision_score(y_test, y_test_search_predict,average='weighted'))\n",
    "print(\"Recall:\", recall_score(y_test, y_test_search_predict,average='weighted'))\n",
    "print(\"F1:\", f1_score(y_test, y_test_search_predict,average='weighted'))"
   ]
  },
  {
   "cell_type": "markdown",
   "metadata": {},
   "source": [
    "### Limpieza de datos\n"
   ]
  },
  {
   "cell_type": "code",
   "execution_count": 301,
   "metadata": {},
   "outputs": [],
   "source": [
    "def remove_non_ascii(words):\n",
    "    \"\"\"Remove non-ASCII characters from list of tokenized words\"\"\"\n",
    "    new_words = []\n",
    "    for word in words:\n",
    "        new_word = unicodedata.normalize('NFKD', word).encode('ascii', 'ignore').decode('utf-8', 'ignore')\n",
    "        new_words.append(new_word)\n",
    "    return new_words\n",
    "\n",
    "def to_lowercase(words):\n",
    "    new_words = []\n",
    "    for word in words:\n",
    "        new_words.append(word.lower())\n",
    "    return new_words\n",
    "    \"\"\"Convert all characters to lowercase from list of tokenized words\"\"\"\n",
    "\n",
    "def remove_punctuation(words):\n",
    "    \"\"\"Remove punctuation from list of tokenized words\"\"\"\n",
    "    new_words = []\n",
    "    for word in words:\n",
    "        new_word = re.sub(r'[^\\w\\s]', '', word)\n",
    "        if new_word != '':\n",
    "            new_words.append(new_word)\n",
    "    return new_words\n",
    "\n",
    "def replace_numbers(words):\n",
    "    \"\"\"Replace all interger occurrences in list of tokenized words with textual representation\"\"\"\n",
    "    p = inflect.engine()\n",
    "    new_words = []\n",
    "    for word in words:\n",
    "        if word.isdigit():\n",
    "            new_word = p.number_to_words(word)\n",
    "            new_words.append(new_word)\n",
    "        else:\n",
    "            new_words.append(word)\n",
    "    return new_words\n",
    "\n",
    "def remove_stopwords(words):\n",
    "    stop_words = set(stopwords.words(\"spanish\"))\n",
    "    new_words = [word for word in words if word not in stop_words]\n",
    "    return new_words\n",
    "\n",
    "def preprocessing(words):\n",
    "    words = to_lowercase(words)\n",
    "    words = replace_numbers(words)\n",
    "    words = remove_punctuation(words)\n",
    "    words = remove_non_ascii(words)\n",
    "    words = remove_stopwords(words)\n",
    "    return words"
   ]
  },
  {
   "cell_type": "code",
   "execution_count": 302,
   "metadata": {},
   "outputs": [
    {
     "data": {
      "text/html": [
       "<div>\n",
       "<style scoped>\n",
       "    .dataframe tbody tr th:only-of-type {\n",
       "        vertical-align: middle;\n",
       "    }\n",
       "\n",
       "    .dataframe tbody tr th {\n",
       "        vertical-align: top;\n",
       "    }\n",
       "\n",
       "    .dataframe thead th {\n",
       "        text-align: right;\n",
       "    }\n",
       "</style>\n",
       "<table border=\"1\" class=\"dataframe\">\n",
       "  <thead>\n",
       "    <tr style=\"text-align: right;\">\n",
       "      <th></th>\n",
       "      <th>Textos_espanol</th>\n",
       "      <th>sdg</th>\n",
       "    </tr>\n",
       "  </thead>\n",
       "  <tbody>\n",
       "    <tr>\n",
       "      <th>0</th>\n",
       "      <td>Por ejemplo, el nÃºmero de consultas externas de especialistas es de 319 por cada mil derechohabientes en el SP, en comparaciÃ³n con 338 y 620 por cada mil derechohabientes en el IMSS y el ISSSTE, respectivamente. Si bien algunas de estas diferencias pueden reflejar una necesidad desigual (como la poblaciÃ³n ligeramente mayor del ISSSTE), otras no pueden justificarse de esta manera. El nÃºmero de recetas que no pudieron ser surtidas en su totalidad por un farmacÃ©utico debido a la falta de existencias es de 33% dentro del SP en comparaciÃ³n con 14% dentro del IMSS segÃºn los datos de la encuesta (aunque las propias cifras de los institutos de la SS sugieren tasas mÃ¡s altas de recetas surtidas). Ambas cifras se encuentran entre las mÃ¡s altas de la OCDE. El gasto de bolsillo no se ha reducido significativamente en la última década, a pesar de los esfuerzos para lograr la cobertura sanitaria universal a través de la reforma del SP.</td>\n",
       "      <td>3</td>\n",
       "    </tr>\n",
       "    <tr>\n",
       "      <th>1</th>\n",
       "      <td>En 2007, el gobierno central financió directamente solo el 0,3% del gasto total en salud, pero realizó transferencias específicas para el gasto en salud que ascendieron a otro 5,6% del gasto total. La mayor parte del gasto presupuestario en salud lo realizan los gobiernos de los condados. Por lo tanto, los condados pobres solo pueden ofrecer un bajo nivel de atención a la población local. El gobierno provincial proporciona subsidios del lado de la oferta a los hospitales.</td>\n",
       "      <td>3</td>\n",
       "    </tr>\n",
       "    <tr>\n",
       "      <th>2</th>\n",
       "      <td>Claramente, hay muchos otros factores en juego, en particular, una variedad de barreras y determinantes sociales. Estos pueden estar relacionados con el género, la clase, la etnia, la casta, el idioma y la religión, y surgen de estructuras, normas y procesos sociales arraigados que aceptan e incluso fomentan distribuciones injustas de la riqueza y los recursos sociales. Por ejemplo, las personas que viven con el VIH y algunas otras enfermedades crónicas enfrentan altos niveles de estigma y discriminación que dificultan su acceso a pruebas médicas, tratamiento, atención y apoyo. Por lo tanto, los gobiernos que buscan mejorar los estándares de salud querrán mejorar la condición de la mujer, brindar servicios de salud reproductiva efectivos, implementar programas integrales de lactancia materna en línea con las recomendaciones actuales y aumentar las presiones comunitarias contra el aborto selectivo por sexo. Las personas pobres, que carecen de educación e información, o de fondos para opciones más saludables, son más vulnerables al impacto de las ENT que los ricos y es probable que mueran antes. Directa e indirectamente, las ENT tendrán impactos de gran alcance en el progreso hacia los ODM.</td>\n",
       "      <td>3</td>\n",
       "    </tr>\n",
       "    <tr>\n",
       "      <th>3</th>\n",
       "      <td>Por ejemplo, el estado australiano de Victoria creó una agencia de promoción de la salud financiada con los impuestos sobre el tabaco, y varios estados de EE.UU. (California, Massachusetts, Arizona y Oregón) han destinado parte de los ingresos procedentes de los impuestos especiales sobre el tabaco a actividades de educación y control del tabaco, mientras que en Nueva Jersey, Ohio y Texas los ingresos procedentes del alcohol se utilizan para programas de educación y prevención relacionados con el alcohol (Sassi et al., 2004), Los impuestos locales pueden ser una fuente importante de ingresos, sobre todo en los sistemas sanitarios descentralizados (por ejemplo, Dinamarca, Finlandia, Italia y Suecia)17 . Además, el nivel de los impuestos locales puede fijarse en función de las preferencias locales sobre el nivel y la calidad de los servicios médicos. Sin embargo, en ausencia de un mecanismo de transferencia ajustado al riesgo y gestionado centralmente, la descentralización reduce la mancomunación de riesgos y podría dar lugar a mayores disparidades sanitarias interregionales.</td>\n",
       "      <td>3</td>\n",
       "    </tr>\n",
       "    <tr>\n",
       "      <th>4</th>\n",
       "      <td>El consumo anual de alcohol se estima en 15,7 litros al año para los hombres, más de un 50% por encima de la media de la OCDE (10,4) (Sistema mundial de información sobre alcohol y salud de la OMS), lo que puede ayudar a explicar la alta mortalidad por enfermedad hepática relacionada con el alcohol. Si bien la prevalencia de la obesidad en adultos es relativamente baja en comparación con muchos países de la OCDE, más del 30 % de las mujeres en Kazajstán son obesas, en comparación con el 16 % de los hombres (World Obesity, 2016), lo que coloca la tasa entre las mujeres a la par con algunos de los países más obesos de la OCDE. De hecho, una gran proporción de la brecha en la esperanza de vida se explica por una mayor mortalidad entre los jóvenes kazajos de 15 a 29 años, un grupo de edad en el que las tasas generales de mortalidad son más de tres veces más altas que en la UE de los 15.</td>\n",
       "      <td>3</td>\n",
       "    </tr>\n",
       "  </tbody>\n",
       "</table>\n",
       "</div>"
      ],
      "text/plain": [
       "                                                                                                                                                                                                                                                                                                                                                                                                                                                                                                                                                                                                                                                                                                                                                                                                                                                                                                                                                                                                                                                                                                                                                                                                                                            Textos_espanol  \\\n",
       "0                                                                                                                                                                                                                                                                         Por ejemplo, el nÃºmero de consultas externas de especialistas es de 319 por cada mil derechohabientes en el SP, en comparaciÃ³n con 338 y 620 por cada mil derechohabientes en el IMSS y el ISSSTE, respectivamente. Si bien algunas de estas diferencias pueden reflejar una necesidad desigual (como la poblaciÃ³n ligeramente mayor del ISSSTE), otras no pueden justificarse de esta manera. El nÃºmero de recetas que no pudieron ser surtidas en su totalidad por un farmacÃ©utico debido a la falta de existencias es de 33% dentro del SP en comparaciÃ³n con 14% dentro del IMSS segÃºn los datos de la encuesta (aunque las propias cifras de los institutos de la SS sugieren tasas mÃ¡s altas de recetas surtidas). Ambas cifras se encuentran entre las mÃ¡s altas de la OCDE. El gasto de bolsillo no se ha reducido significativamente en la última década, a pesar de los esfuerzos para lograr la cobertura sanitaria universal a través de la reforma del SP.   \n",
       "1                                                                                                                                                                                                                                                                                                                                                                                                                                                                                                                                                                                                                                                                                                                                                             En 2007, el gobierno central financió directamente solo el 0,3% del gasto total en salud, pero realizó transferencias específicas para el gasto en salud que ascendieron a otro 5,6% del gasto total. La mayor parte del gasto presupuestario en salud lo realizan los gobiernos de los condados. Por lo tanto, los condados pobres solo pueden ofrecer un bajo nivel de atención a la población local. El gobierno provincial proporciona subsidios del lado de la oferta a los hospitales.   \n",
       "2  Claramente, hay muchos otros factores en juego, en particular, una variedad de barreras y determinantes sociales. Estos pueden estar relacionados con el género, la clase, la etnia, la casta, el idioma y la religión, y surgen de estructuras, normas y procesos sociales arraigados que aceptan e incluso fomentan distribuciones injustas de la riqueza y los recursos sociales. Por ejemplo, las personas que viven con el VIH y algunas otras enfermedades crónicas enfrentan altos niveles de estigma y discriminación que dificultan su acceso a pruebas médicas, tratamiento, atención y apoyo. Por lo tanto, los gobiernos que buscan mejorar los estándares de salud querrán mejorar la condición de la mujer, brindar servicios de salud reproductiva efectivos, implementar programas integrales de lactancia materna en línea con las recomendaciones actuales y aumentar las presiones comunitarias contra el aborto selectivo por sexo. Las personas pobres, que carecen de educación e información, o de fondos para opciones más saludables, son más vulnerables al impacto de las ENT que los ricos y es probable que mueran antes. Directa e indirectamente, las ENT tendrán impactos de gran alcance en el progreso hacia los ODM.   \n",
       "3                                                                                                                       Por ejemplo, el estado australiano de Victoria creó una agencia de promoción de la salud financiada con los impuestos sobre el tabaco, y varios estados de EE.UU. (California, Massachusetts, Arizona y Oregón) han destinado parte de los ingresos procedentes de los impuestos especiales sobre el tabaco a actividades de educación y control del tabaco, mientras que en Nueva Jersey, Ohio y Texas los ingresos procedentes del alcohol se utilizan para programas de educación y prevención relacionados con el alcohol (Sassi et al., 2004), Los impuestos locales pueden ser una fuente importante de ingresos, sobre todo en los sistemas sanitarios descentralizados (por ejemplo, Dinamarca, Finlandia, Italia y Suecia)17 . Además, el nivel de los impuestos locales puede fijarse en función de las preferencias locales sobre el nivel y la calidad de los servicios médicos. Sin embargo, en ausencia de un mecanismo de transferencia ajustado al riesgo y gestionado centralmente, la descentralización reduce la mancomunación de riesgos y podría dar lugar a mayores disparidades sanitarias interregionales.   \n",
       "4                                                                                                                                                                                                                                                                                                                          El consumo anual de alcohol se estima en 15,7 litros al año para los hombres, más de un 50% por encima de la media de la OCDE (10,4) (Sistema mundial de información sobre alcohol y salud de la OMS), lo que puede ayudar a explicar la alta mortalidad por enfermedad hepática relacionada con el alcohol. Si bien la prevalencia de la obesidad en adultos es relativamente baja en comparación con muchos países de la OCDE, más del 30 % de las mujeres en Kazajstán son obesas, en comparación con el 16 % de los hombres (World Obesity, 2016), lo que coloca la tasa entre las mujeres a la par con algunos de los países más obesos de la OCDE. De hecho, una gran proporción de la brecha en la esperanza de vida se explica por una mayor mortalidad entre los jóvenes kazajos de 15 a 29 años, un grupo de edad en el que las tasas generales de mortalidad son más de tres veces más altas que en la UE de los 15.   \n",
       "\n",
       "   sdg  \n",
       "0    3  \n",
       "1    3  \n",
       "2    3  \n",
       "3    3  \n",
       "4    3  "
      ]
     },
     "execution_count": 302,
     "metadata": {},
     "output_type": "execute_result"
    }
   ],
   "source": [
    "df_obj['Textos_espanol'] = df_obj['Textos_espanol'].apply(contractions.fix) #Aplica la corrección de las contracciones\n",
    "df_obj.head()"
   ]
  },
  {
   "cell_type": "code",
   "execution_count": 303,
   "metadata": {},
   "outputs": [],
   "source": [
    "df_obj['Textos_Tokenizados'] = df_obj['Textos_espanol'].apply(contractions.fix)  # Aplica la corrección de las contracciones\n",
    "df_obj['Textos_Tokenizados'] = df_obj['Textos_espanol'].apply(preprocessing)  # Aplica la eliminación del ruido\n",
    "df_obj['Textos_Tokenizados'] = df_obj['Textos_espanol'].apply(word_tokenize)  # Tokeniza las palabras\n",
    "\n"
   ]
  },
  {
   "cell_type": "code",
   "execution_count": 304,
   "metadata": {},
   "outputs": [
    {
     "data": {
      "text/html": [
       "<div>\n",
       "<style scoped>\n",
       "    .dataframe tbody tr th:only-of-type {\n",
       "        vertical-align: middle;\n",
       "    }\n",
       "\n",
       "    .dataframe tbody tr th {\n",
       "        vertical-align: top;\n",
       "    }\n",
       "\n",
       "    .dataframe thead th {\n",
       "        text-align: right;\n",
       "    }\n",
       "</style>\n",
       "<table border=\"1\" class=\"dataframe\">\n",
       "  <thead>\n",
       "    <tr style=\"text-align: right;\">\n",
       "      <th></th>\n",
       "      <th>Textos_espanol</th>\n",
       "      <th>sdg</th>\n",
       "      <th>Textos_Tokenizados</th>\n",
       "    </tr>\n",
       "  </thead>\n",
       "  <tbody>\n",
       "    <tr>\n",
       "      <th>0</th>\n",
       "      <td>Por ejemplo, el nÃºmero de consultas externas de especialistas es de 319 por cada mil derechohabientes en el SP, en comparaciÃ³n con 338 y 620 por cada mil derechohabientes en el IMSS y el ISSSTE, respectivamente. Si bien algunas de estas diferencias pueden reflejar una necesidad desigual (como la poblaciÃ³n ligeramente mayor del ISSSTE), otras no pueden justificarse de esta manera. El nÃºmero de recetas que no pudieron ser surtidas en su totalidad por un farmacÃ©utico debido a la falta de existencias es de 33% dentro del SP en comparaciÃ³n con 14% dentro del IMSS segÃºn los datos de la encuesta (aunque las propias cifras de los institutos de la SS sugieren tasas mÃ¡s altas de recetas surtidas). Ambas cifras se encuentran entre las mÃ¡s altas de la OCDE. El gasto de bolsillo no se ha reducido significativamente en la última década, a pesar de los esfuerzos para lograr la cobertura sanitaria universal a través de la reforma del SP.</td>\n",
       "      <td>3</td>\n",
       "      <td>[Por, ejemplo, ,, el, nÃºmero, de, consultas, externas, de, especialistas, es, de, 319, por, cada, mil, derechohabientes, en, el, SP, ,, en, comparaciÃ³n, con, 338, y, 620, por, cada, mil, derechohabientes, en, el, IMSS, y, el, ISSSTE, ,, respectivamente, ., Si, bien, algunas, de, estas, diferencias, pueden, reflejar, una, necesidad, desigual, (, como, la, poblaciÃ³n, ligeramente, mayor, del, ISSSTE, ), ,, otras, no, pueden, justificarse, de, esta, manera, ., El, nÃºmero, de, recetas, que, no, pudieron, ser, surtidas, en, su, totalidad, por, un, farmacÃ©utico, debido, a, la, falta, de, existencias, es, de, 33, %, dentro, del, SP, en, comparaciÃ³n, con, ...]</td>\n",
       "    </tr>\n",
       "    <tr>\n",
       "      <th>1</th>\n",
       "      <td>En 2007, el gobierno central financió directamente solo el 0,3% del gasto total en salud, pero realizó transferencias específicas para el gasto en salud que ascendieron a otro 5,6% del gasto total. La mayor parte del gasto presupuestario en salud lo realizan los gobiernos de los condados. Por lo tanto, los condados pobres solo pueden ofrecer un bajo nivel de atención a la población local. El gobierno provincial proporciona subsidios del lado de la oferta a los hospitales.</td>\n",
       "      <td>3</td>\n",
       "      <td>[En, 2007, ,, el, gobierno, central, financió, directamente, solo, el, 0,3, %, del, gasto, total, en, salud, ,, pero, realizó, transferencias, específicas, para, el, gasto, en, salud, que, ascendieron, a, otro, 5,6, %, del, gasto, total, ., La, mayor, parte, del, gasto, presupuestario, en, salud, lo, realizan, los, gobiernos, de, los, condados, ., Por, lo, tanto, ,, los, condados, pobres, solo, pueden, ofrecer, un, bajo, nivel, de, atención, a, la, población, local, ., El, gobierno, provincial, proporciona, subsidios, del, lado, de, la, oferta, a, los, hospitales, .]</td>\n",
       "    </tr>\n",
       "    <tr>\n",
       "      <th>2</th>\n",
       "      <td>Claramente, hay muchos otros factores en juego, en particular, una variedad de barreras y determinantes sociales. Estos pueden estar relacionados con el género, la clase, la etnia, la casta, el idioma y la religión, y surgen de estructuras, normas y procesos sociales arraigados que aceptan e incluso fomentan distribuciones injustas de la riqueza y los recursos sociales. Por ejemplo, las personas que viven con el VIH y algunas otras enfermedades crónicas enfrentan altos niveles de estigma y discriminación que dificultan su acceso a pruebas médicas, tratamiento, atención y apoyo. Por lo tanto, los gobiernos que buscan mejorar los estándares de salud querrán mejorar la condición de la mujer, brindar servicios de salud reproductiva efectivos, implementar programas integrales de lactancia materna en línea con las recomendaciones actuales y aumentar las presiones comunitarias contra el aborto selectivo por sexo. Las personas pobres, que carecen de educación e información, o de fondos para opciones más saludables, son más vulnerables al impacto de las ENT que los ricos y es probable que mueran antes. Directa e indirectamente, las ENT tendrán impactos de gran alcance en el progreso hacia los ODM.</td>\n",
       "      <td>3</td>\n",
       "      <td>[Claramente, ,, hay, muchos, otros, factores, en, juego, ,, en, particular, ,, una, variedad, de, barreras, y, determinantes, sociales, ., Estos, pueden, estar, relacionados, con, el, género, ,, la, clase, ,, la, etnia, ,, la, casta, ,, el, idioma, y, la, religión, ,, y, surgen, de, estructuras, ,, normas, y, procesos, sociales, arraigados, que, aceptan, e, incluso, fomentan, distribuciones, injustas, de, la, riqueza, y, los, recursos, sociales, ., Por, ejemplo, ,, las, personas, que, viven, con, el, VIH, y, algunas, otras, enfermedades, crónicas, enfrentan, altos, niveles, de, estigma, y, discriminación, que, dificultan, su, acceso, a, pruebas, médicas, ,, tratamiento, ,, ...]</td>\n",
       "    </tr>\n",
       "    <tr>\n",
       "      <th>3</th>\n",
       "      <td>Por ejemplo, el estado australiano de Victoria creó una agencia de promoción de la salud financiada con los impuestos sobre el tabaco, y varios estados de EE.UU. (California, Massachusetts, Arizona y Oregón) han destinado parte de los ingresos procedentes de los impuestos especiales sobre el tabaco a actividades de educación y control del tabaco, mientras que en Nueva Jersey, Ohio y Texas los ingresos procedentes del alcohol se utilizan para programas de educación y prevención relacionados con el alcohol (Sassi et al., 2004), Los impuestos locales pueden ser una fuente importante de ingresos, sobre todo en los sistemas sanitarios descentralizados (por ejemplo, Dinamarca, Finlandia, Italia y Suecia)17 . Además, el nivel de los impuestos locales puede fijarse en función de las preferencias locales sobre el nivel y la calidad de los servicios médicos. Sin embargo, en ausencia de un mecanismo de transferencia ajustado al riesgo y gestionado centralmente, la descentralización reduce la mancomunación de riesgos y podría dar lugar a mayores disparidades sanitarias interregionales.</td>\n",
       "      <td>3</td>\n",
       "      <td>[Por, ejemplo, ,, el, estado, australiano, de, Victoria, creó, una, agencia, de, promoción, de, la, salud, financiada, con, los, impuestos, sobre, el, tabaco, ,, y, varios, estados, de, EE.UU, ., (, California, ,, Massachusetts, ,, Arizona, y, Oregón, ), han, destinado, parte, de, los, ingresos, procedentes, de, los, impuestos, especiales, sobre, el, tabaco, a, actividades, de, educación, y, control, del, tabaco, ,, mientras, que, en, Nueva, Jersey, ,, Ohio, y, Texas, los, ingresos, procedentes, del, alcohol, se, utilizan, para, programas, de, educación, y, prevención, relacionados, con, el, alcohol, (, Sassi, et, al., ,, 2004, ), ,, Los, impuestos, locales, pueden, ...]</td>\n",
       "    </tr>\n",
       "    <tr>\n",
       "      <th>4</th>\n",
       "      <td>El consumo anual de alcohol se estima en 15,7 litros al año para los hombres, más de un 50% por encima de la media de la OCDE (10,4) (Sistema mundial de información sobre alcohol y salud de la OMS), lo que puede ayudar a explicar la alta mortalidad por enfermedad hepática relacionada con el alcohol. Si bien la prevalencia de la obesidad en adultos es relativamente baja en comparación con muchos países de la OCDE, más del 30 % de las mujeres en Kazajstán son obesas, en comparación con el 16 % de los hombres (World Obesity, 2016), lo que coloca la tasa entre las mujeres a la par con algunos de los países más obesos de la OCDE. De hecho, una gran proporción de la brecha en la esperanza de vida se explica por una mayor mortalidad entre los jóvenes kazajos de 15 a 29 años, un grupo de edad en el que las tasas generales de mortalidad son más de tres veces más altas que en la UE de los 15.</td>\n",
       "      <td>3</td>\n",
       "      <td>[El, consumo, anual, de, alcohol, se, estima, en, 15,7, litros, al, año, para, los, hombres, ,, más, de, un, 50, %, por, encima, de, la, media, de, la, OCDE, (, 10,4, ), (, Sistema, mundial, de, información, sobre, alcohol, y, salud, de, la, OMS, ), ,, lo, que, puede, ayudar, a, explicar, la, alta, mortalidad, por, enfermedad, hepática, relacionada, con, el, alcohol, ., Si, bien, la, prevalencia, de, la, obesidad, en, adultos, es, relativamente, baja, en, comparación, con, muchos, países, de, la, OCDE, ,, más, del, 30, %, de, las, mujeres, en, Kazajstán, son, obesas, ,, en, comparación, con, el, ...]</td>\n",
       "    </tr>\n",
       "  </tbody>\n",
       "</table>\n",
       "</div>"
      ],
      "text/plain": [
       "                                                                                                                                                                                                                                                                                                                                                                                                                                                                                                                                                                                                                                                                                                                                                                                                                                                                                                                                                                                                                                                                                                                                                                                                                                            Textos_espanol  \\\n",
       "0                                                                                                                                                                                                                                                                         Por ejemplo, el nÃºmero de consultas externas de especialistas es de 319 por cada mil derechohabientes en el SP, en comparaciÃ³n con 338 y 620 por cada mil derechohabientes en el IMSS y el ISSSTE, respectivamente. Si bien algunas de estas diferencias pueden reflejar una necesidad desigual (como la poblaciÃ³n ligeramente mayor del ISSSTE), otras no pueden justificarse de esta manera. El nÃºmero de recetas que no pudieron ser surtidas en su totalidad por un farmacÃ©utico debido a la falta de existencias es de 33% dentro del SP en comparaciÃ³n con 14% dentro del IMSS segÃºn los datos de la encuesta (aunque las propias cifras de los institutos de la SS sugieren tasas mÃ¡s altas de recetas surtidas). Ambas cifras se encuentran entre las mÃ¡s altas de la OCDE. El gasto de bolsillo no se ha reducido significativamente en la última década, a pesar de los esfuerzos para lograr la cobertura sanitaria universal a través de la reforma del SP.   \n",
       "1                                                                                                                                                                                                                                                                                                                                                                                                                                                                                                                                                                                                                                                                                                                                                             En 2007, el gobierno central financió directamente solo el 0,3% del gasto total en salud, pero realizó transferencias específicas para el gasto en salud que ascendieron a otro 5,6% del gasto total. La mayor parte del gasto presupuestario en salud lo realizan los gobiernos de los condados. Por lo tanto, los condados pobres solo pueden ofrecer un bajo nivel de atención a la población local. El gobierno provincial proporciona subsidios del lado de la oferta a los hospitales.   \n",
       "2  Claramente, hay muchos otros factores en juego, en particular, una variedad de barreras y determinantes sociales. Estos pueden estar relacionados con el género, la clase, la etnia, la casta, el idioma y la religión, y surgen de estructuras, normas y procesos sociales arraigados que aceptan e incluso fomentan distribuciones injustas de la riqueza y los recursos sociales. Por ejemplo, las personas que viven con el VIH y algunas otras enfermedades crónicas enfrentan altos niveles de estigma y discriminación que dificultan su acceso a pruebas médicas, tratamiento, atención y apoyo. Por lo tanto, los gobiernos que buscan mejorar los estándares de salud querrán mejorar la condición de la mujer, brindar servicios de salud reproductiva efectivos, implementar programas integrales de lactancia materna en línea con las recomendaciones actuales y aumentar las presiones comunitarias contra el aborto selectivo por sexo. Las personas pobres, que carecen de educación e información, o de fondos para opciones más saludables, son más vulnerables al impacto de las ENT que los ricos y es probable que mueran antes. Directa e indirectamente, las ENT tendrán impactos de gran alcance en el progreso hacia los ODM.   \n",
       "3                                                                                                                       Por ejemplo, el estado australiano de Victoria creó una agencia de promoción de la salud financiada con los impuestos sobre el tabaco, y varios estados de EE.UU. (California, Massachusetts, Arizona y Oregón) han destinado parte de los ingresos procedentes de los impuestos especiales sobre el tabaco a actividades de educación y control del tabaco, mientras que en Nueva Jersey, Ohio y Texas los ingresos procedentes del alcohol se utilizan para programas de educación y prevención relacionados con el alcohol (Sassi et al., 2004), Los impuestos locales pueden ser una fuente importante de ingresos, sobre todo en los sistemas sanitarios descentralizados (por ejemplo, Dinamarca, Finlandia, Italia y Suecia)17 . Además, el nivel de los impuestos locales puede fijarse en función de las preferencias locales sobre el nivel y la calidad de los servicios médicos. Sin embargo, en ausencia de un mecanismo de transferencia ajustado al riesgo y gestionado centralmente, la descentralización reduce la mancomunación de riesgos y podría dar lugar a mayores disparidades sanitarias interregionales.   \n",
       "4                                                                                                                                                                                                                                                                                                                          El consumo anual de alcohol se estima en 15,7 litros al año para los hombres, más de un 50% por encima de la media de la OCDE (10,4) (Sistema mundial de información sobre alcohol y salud de la OMS), lo que puede ayudar a explicar la alta mortalidad por enfermedad hepática relacionada con el alcohol. Si bien la prevalencia de la obesidad en adultos es relativamente baja en comparación con muchos países de la OCDE, más del 30 % de las mujeres en Kazajstán son obesas, en comparación con el 16 % de los hombres (World Obesity, 2016), lo que coloca la tasa entre las mujeres a la par con algunos de los países más obesos de la OCDE. De hecho, una gran proporción de la brecha en la esperanza de vida se explica por una mayor mortalidad entre los jóvenes kazajos de 15 a 29 años, un grupo de edad en el que las tasas generales de mortalidad son más de tres veces más altas que en la UE de los 15.   \n",
       "\n",
       "   sdg  \\\n",
       "0    3   \n",
       "1    3   \n",
       "2    3   \n",
       "3    3   \n",
       "4    3   \n",
       "\n",
       "                                                                                                                                                                                                                                                                                                                                                                                                                                                                                                                                                                                                                                                                                               Textos_Tokenizados  \n",
       "0                       [Por, ejemplo, ,, el, nÃºmero, de, consultas, externas, de, especialistas, es, de, 319, por, cada, mil, derechohabientes, en, el, SP, ,, en, comparaciÃ³n, con, 338, y, 620, por, cada, mil, derechohabientes, en, el, IMSS, y, el, ISSSTE, ,, respectivamente, ., Si, bien, algunas, de, estas, diferencias, pueden, reflejar, una, necesidad, desigual, (, como, la, poblaciÃ³n, ligeramente, mayor, del, ISSSTE, ), ,, otras, no, pueden, justificarse, de, esta, manera, ., El, nÃºmero, de, recetas, que, no, pudieron, ser, surtidas, en, su, totalidad, por, un, farmacÃ©utico, debido, a, la, falta, de, existencias, es, de, 33, %, dentro, del, SP, en, comparaciÃ³n, con, ...]  \n",
       "1                                                                                                                   [En, 2007, ,, el, gobierno, central, financió, directamente, solo, el, 0,3, %, del, gasto, total, en, salud, ,, pero, realizó, transferencias, específicas, para, el, gasto, en, salud, que, ascendieron, a, otro, 5,6, %, del, gasto, total, ., La, mayor, parte, del, gasto, presupuestario, en, salud, lo, realizan, los, gobiernos, de, los, condados, ., Por, lo, tanto, ,, los, condados, pobres, solo, pueden, ofrecer, un, bajo, nivel, de, atención, a, la, población, local, ., El, gobierno, provincial, proporciona, subsidios, del, lado, de, la, oferta, a, los, hospitales, .]  \n",
       "2  [Claramente, ,, hay, muchos, otros, factores, en, juego, ,, en, particular, ,, una, variedad, de, barreras, y, determinantes, sociales, ., Estos, pueden, estar, relacionados, con, el, género, ,, la, clase, ,, la, etnia, ,, la, casta, ,, el, idioma, y, la, religión, ,, y, surgen, de, estructuras, ,, normas, y, procesos, sociales, arraigados, que, aceptan, e, incluso, fomentan, distribuciones, injustas, de, la, riqueza, y, los, recursos, sociales, ., Por, ejemplo, ,, las, personas, que, viven, con, el, VIH, y, algunas, otras, enfermedades, crónicas, enfrentan, altos, niveles, de, estigma, y, discriminación, que, dificultan, su, acceso, a, pruebas, médicas, ,, tratamiento, ,, ...]  \n",
       "3         [Por, ejemplo, ,, el, estado, australiano, de, Victoria, creó, una, agencia, de, promoción, de, la, salud, financiada, con, los, impuestos, sobre, el, tabaco, ,, y, varios, estados, de, EE.UU, ., (, California, ,, Massachusetts, ,, Arizona, y, Oregón, ), han, destinado, parte, de, los, ingresos, procedentes, de, los, impuestos, especiales, sobre, el, tabaco, a, actividades, de, educación, y, control, del, tabaco, ,, mientras, que, en, Nueva, Jersey, ,, Ohio, y, Texas, los, ingresos, procedentes, del, alcohol, se, utilizan, para, programas, de, educación, y, prevención, relacionados, con, el, alcohol, (, Sassi, et, al., ,, 2004, ), ,, Los, impuestos, locales, pueden, ...]  \n",
       "4                                                                                 [El, consumo, anual, de, alcohol, se, estima, en, 15,7, litros, al, año, para, los, hombres, ,, más, de, un, 50, %, por, encima, de, la, media, de, la, OCDE, (, 10,4, ), (, Sistema, mundial, de, información, sobre, alcohol, y, salud, de, la, OMS, ), ,, lo, que, puede, ayudar, a, explicar, la, alta, mortalidad, por, enfermedad, hepática, relacionada, con, el, alcohol, ., Si, bien, la, prevalencia, de, la, obesidad, en, adultos, es, relativamente, baja, en, comparación, con, muchos, países, de, la, OCDE, ,, más, del, 30, %, de, las, mujeres, en, Kazajstán, son, obesas, ,, en, comparación, con, el, ...]  "
      ]
     },
     "execution_count": 304,
     "metadata": {},
     "output_type": "execute_result"
    }
   ],
   "source": [
    "df_obj.head()"
   ]
  },
  {
   "cell_type": "code",
   "execution_count": 305,
   "metadata": {},
   "outputs": [
    {
     "data": {
      "text/plain": [
       "2768                                                                                                   [Es, cierto, que, muchos, de, los, temas, relacionados, con, el, género, son, de, naturaleza, cultural, ,, cualitativa, y, sociológica, ,, sin, embargo, ,, su, impacto, se, puede, ver, y, observar, espacialmente, ,, y, hasta, cierto, punto, se, puede, medir, cuantitativamente, ., Para, poder, identificar, los, problemas, asociados, con, el, sesgo, de, género, ,, es, fundamental, desarrollar, estadísticas, integrales, ., La, auditoría, de, género, se, puede, definir, como, el, proceso, mediante, el, cual, se, logra, la, incorporación, de, la, perspectiva, de, género, ,, lo, que, implica, establecer, indicadores, y, estándares, ,, y, verificar, productos, ,, políticas, y, prioridades, (, Greed, ,, ...]\n",
       "2648                                                                                                                                                                                                                                                                                                                            [En, muchos, casos, ,, el, principio, de, igualdad, entre, hombres, y, mujeres, está, consagrado, en, la, Constitución, nacional, y, prevalece, sobre, cualquier, práctica, consuetudinaria, contraria, ., Una, explotación, agrícola, es, una, unidad, económica, de, producción, agrícola, bajo, gestión, única, ., Los, porcentajes, de, mujeres, y, hombres, titulares, por, país, no, siempre, suman, 100, en, caso, ,, por, ejemplo, ,, de, explotaciones, conjuntas, o, de, género, no, declarado, .]\n",
       "1663                                                                                                                                                                                                                                                                                         [Sin, embargo, ,, también, han, surgido, una, serie, de, ineficiencias, a, partir, de, esta, reforma, ,, en, términos, del, financiamiento, del, sistema, y, la, distribución, de, sus, docentes, ., Esta, comprensión, está, respaldada, por, evidencia, que, indica, que, no, hay, un, determinante, empírico, más, importante, de, los, resultados, de, los, estudiantes, que, una, buena, enseñanza, ., La, calidad, de, un, sistema, educativo, no, puede, exceder, la, calidad, de, sus, docentes, (, Barber, y, Mourshed, ,, 2007, ), .]\n",
       "2523                                                                                                                   [Para, proseguir, sus, estudios, ,, muchas, mujeres, jóvenes, educadas, están, eligiendo, retrasar, el, matrimonio, hasta, después, de, graduarse, ., Incluso, en, los, países, ricos, en, petróleo, conocidos, por, sus, normas, de, género, conservadoras, ,, el, aumento, en, la, proporción, de, mujeres, jóvenes, solteras, es, evidente, ,, la, edad, promedio, de, matrimonio, de, las, mujeres, en, Qatar, y, los, Emiratos, Árabes, Unidos, es, de, 25, años, ,, pero, 20, en, Arabia, Saudita, ., (, anexo, 2, tabla, A.10, ), ., La, tendencia, general, hacia, la, postergación, del, matrimonio, también, está, estrechamente, relacionada, con, la, crisis, económica, y, los, altos, niveles, de, ...]\n",
       "1559                                                                                                                                                                                                                                                                                                                                             [La, evidencia, muestra, una, baja, estima, pública, por, la, profesión, docente, en, Chile, ., Un, estudio, de, 2010, (, Avalos, y, Sevilla, ,, 2010, ), encontró, que, el, 80, %, de, los, docentes, informaron, que, el, reconocimiento, social, de, su, profesión, era, de, medio, a, bajo, ., Solo, el, 33,6, %, de, los, docentes, chilenos, reportaron, sentir, que, su, profesión, era, valorada, por, la, sociedad, ,, según, TALIS, (, MINEDUC, ,, 2017a, ,, OCDE, ,, 2014, ), .]\n",
       "1031                                                                                               [Todas, las, solicitudes, de, uso, público, o, comercial, y, derechos, de, traducción, deben, enviarse, a, rights, @, oecd.org, ., El, autor, agradece, a, Harry, de, Boer, ,, Elise, Miller, y, Akiyoshi, Yonezawa, por, los, estudios, de, casos, de, países, que, ayudaron, a, informar, este, trabajo, ., Las, colaboraciones, ,, alianzas, y, fusiones, entre, instituciones, de, educación, superior, pueden, buscar, mejorar, el, desempeño, académico, ,, lograr, eficiencias, económicas, o, alinear, mejor, la, red, y, el, desempeño, de, las, instituciones, con, las, necesidades, públicas, ., La, colaboración, institucional, se, produce, con, menos, frecuencia, y, éxito, en, el, diseño, y, la, impartición, de, ...]\n",
       "752                                                                                                                                                                                                                  [Una, posible, explicación, de, esto, es, que, a, medida, que, las, naciones, se, vuelven, más, ricas, ,, las, personas, otorgan, mayor, valor, a, la, salud, y, quieren, gastar, una, mayor, parte, de, sus, ingresos, en, mejorar, su, salud, (, Fogel, 2008, ), ., La, “, elasticidad, del, ingreso, ”, varía, mucho, en, los, resultados, empíricos, y, si, la, atención, médica, es, un, bien, de, lujo, o, una, necesidad, es, todavía, un, tema, sin, resolver, ., Los, resultados, de, las, provincias, de, EE, ., UU, ., y, Canadá, ,, así, como, los, datos, a, nivel, nacional, de, 16, países, de, la, ...]\n",
       "547                                                                                                                                     [Noruega, ya, ha, comenzado, a, trabajar, en, este, ámbito, ,, y, en, la, actualidad, cuenta, con, 17, equipos, de, TCA, ,, dos, de, los, cuales, son, equipos, de, Tratamiento, Asertivo, Comunitario, Flexible, (, F-ACT, ), ., De, hecho, ,, se, espera, para, 2014, un, informe, de, evaluación, sobre, el, impacto, de, la, implantación, de, los, equipos, ACT, en, Noruega, ,, que, debería, proporcionar, una, valiosa, visión, de, los, puntos, fuertes, y, débiles, de, este, importante, servicio, ., Esto, supone, alrededor, de, 138, personas, ingresadas, involuntariamente, por, cada, 100, 000, habitantes, adultos, ,, y, unos, 198, ingresos, involuntarios, por, cada, 100, ...]\n",
       "2229                                                                                                                            [Este, aspecto, es, muy, importante, ,, porque, las, políticas, tienden, a, ser, más, efectivas, cuando, se, enfocan, en, las, causas, de, la, desigualdad, de, género, y, las, estructuras, y, prácticas, que, perpetúan, las, desigualdades, ,, y, no, solo, en, el, resultado, de, la, desigualdad, de, género, en, un, proceso, de, desarrollo, injusto, e, insostenible, (, Naciones, Unidas, ,, 2002, ), ., Las, estadísticas, de, género, tienen, un, papel, crucial, en, la, incorporación, de, la, perspectiva, de, género, en, las, políticas, de, desarrollo, y, reducción, de, la, pobreza, ., Las, políticas, y, medidas, tienden, a, perpetuar, y, exacerbar, las, desigualdades, cuando, ...]\n",
       "1350    [Las, iniciativas, podrían, enfocarse, en, mejorar, las, rutas, de, los, estudiantes, entre, las, instituciones, ,, aumentando, el, porcentaje, de, estudiantes, de, poblaciones, minoritarias, y, de, bajos, ingresos, que, obtienen, una, certificación/título, de, educación, terciaria, o, aumentando, las, oportunidades, para, que, los, estudiantes, adultos/maduros, busquen, y, completen, la, educación, terciaria, ., Dentro, de, este, contexto, ,, Malasia, está, encontrando, dificultades, para, traducir, el, conocimiento, científico, en, capacidades, tecnológicas, ., Si, bien, son, un, actor, importante, en, la, difusión, del, conocimiento, y, las, actividades, de, ciencia, y, tecnología, ,, las, universidades, aún, no, han, ampliado, el, potencial, de, investigación, nacional, ni, alcanzado, ...]\n",
       "2248                                                                                                                                              [Esta, falta, de, opciones, genuinas, puede, ,, a, su, vez, ,, hacer, que, las, mujeres, y, las, niñas, sean, más, vulnerables, a, la, trata, que, los, hombres, ,, particularmente, en, ciertas, circunstancias, y, para, mujeres, y, niñas, de, ciertas, nacionalidades, y, etnias, ., Por, ejemplo, ,, las, mujeres, y, niñas, pertenecientes, a, minorías, ,, las, mujeres, y, niñas, que, viven, en, la, pobreza, ,, o, las, mujeres, y, niñas, que, viven, en, entornos, de, conflicto, o, posconflicto, pueden, enfrentar, un, mayor, riesgo, de, ser, objeto, de, trata, ., Por, ejemplo, ,, las, mujeres, pueden, aceptar, arreglos, migratorios, peligrosos, para, escapar, ...]\n",
       "838                                                                                                                     [Estas, cifras, plantean, preguntas, importantes, sobre, por, qué, el, éxito, ha, variado, tanto, entre, países, y, en, qué, medida, los, sistemas, y, políticas, de, atención, de, la, salud, ayudan, a, explicar, esta, variación, ., Numerosos, estudios, han, demostrado, que, los, niveles, crecientes, de, obesidad, y, diabetes, están, reduciendo, nuestra, capacidad, para, avanzar, más, en, la, reducción, de, la, carga, de, ECV, ., Algunos, estudios, muestran, que, el, patrón, de, disminución, de, la, mortalidad, está, llegando, a, su, fin, o, incluso, revirtiéndose, entre, algunos, grupos, de, población, ,, en, particular, los, grupos, de, edad, más, jóvenes, (, Wilson, y, Siskind., ,]\n",
       "2912                                                                                                        [Fue, lanzado, en, febrero, de, 2009, en, una, reunión, mundial, en, Kuala, Lumpur, ,, Malasia, ,, y, fue, iniciado, por, el, grupo, feminista, musulmán, de, Malasia, Sisters, in, Islam, ., El, movimiento, fue, una, respuesta, transnacional, al, problema, igualmente, transnacional, del, uso, del, Islam, para, resistir, las, demandas, de, igualdad, de, las, mujeres, ., Musawah, está, formado, por, ONG, ,, activistas, ,, académicos, ,, profesionales, del, derecho, y, legisladores, de, todo, el, mundo, y, aborda, la, igualdad, de, género, en, la, familia, musulmana, en, tres, ejes, :, desarrollo, de, conocimientos, ,, desarrollo, de, capacidades, y, promoción, internacional, ., Musawah, parte, ...]\n",
       "666                                                                                             [La, legislación, ,, que, modifica, la, Ley, de, Drogas, y, Sustancias, Controladas, ,, establece, criterios, específicos, que, deben, cumplir, los, solicitantes, de, una, exención, por, actividades, que, involucren, sustancias, ilícitas, en, un, “, sitio, de, consumo, supervisado, ”, para, que, la, solicitud, de, exención, sea, considerada, por, el, Ministerio, ., de, salud, ., Actualmente, ,, Canadá, tiene, un, sitio, de, consumo, supervisado, ,, pero, Health, Canada, ha, recibido, solicitudes, adicionales, para, el, establecimiento, de, salas, de, consumo, de, drogas, y, actualmente, están, bajo, consideración, ., En, junio, de, 2015, ,, la, Corte, Suprema, de, Canadá, emitió, su, sentencia, en, el, ...]\n",
       "1103                                                                                                        [También, analiza, el, uso, de, otro, personal, para, apoyar, el, aprendizaje, de, los, estudiantes, ,, así, como, el, uso, de, datos, ,, evaluación, y, evaluación, en, las, escuelas, para, apoyar, las, mejoras, en, el, rendimiento, y, los, niveles, de, logro, de, los, estudiantes, ., Destaca, los, cambios, positivos, que, ha, implementado, Dinamarca, para, fortalecer, la, formación, inicial, de, docentes, y, la, disponibilidad, de, financiación, central, para, el, desarrollo, de, competencias, de, los, docentes, en, servicio, ., Identifica, un, deseo, e, instancias, de, trabajo, colaborativo, en, todos, los, niveles, del, sistema, ,, así, como, un, enfoque, creciente, en, la, pedagogía, y, ...]\n",
       "Name: Textos_Tokenizados, dtype: object"
      ]
     },
     "execution_count": 305,
     "metadata": {},
     "output_type": "execute_result"
    }
   ],
   "source": [
    "df_obj[\"Textos_Tokenizados\"].sample(15)"
   ]
  },
  {
   "cell_type": "code",
   "execution_count": 306,
   "metadata": {},
   "outputs": [],
   "source": [
    "# Cargar el lematizador de palabras en inglés\n",
    "wordnet_lemmatizer = WordNetLemmatizer()\n",
    "\n",
    "# Cargar el extractor de raíces (stemmer) de Lancaster para el inglés\n",
    "lancaster_stemmer = LancasterStemmer()"
   ]
  },
  {
   "cell_type": "code",
   "execution_count": 307,
   "metadata": {},
   "outputs": [
    {
     "data": {
      "text/html": [
       "<div>\n",
       "<style scoped>\n",
       "    .dataframe tbody tr th:only-of-type {\n",
       "        vertical-align: middle;\n",
       "    }\n",
       "\n",
       "    .dataframe tbody tr th {\n",
       "        vertical-align: top;\n",
       "    }\n",
       "\n",
       "    .dataframe thead th {\n",
       "        text-align: right;\n",
       "    }\n",
       "</style>\n",
       "<table border=\"1\" class=\"dataframe\">\n",
       "  <thead>\n",
       "    <tr style=\"text-align: right;\">\n",
       "      <th></th>\n",
       "      <th>Textos_espanol</th>\n",
       "      <th>sdg</th>\n",
       "      <th>Textos_Tokenizados</th>\n",
       "    </tr>\n",
       "  </thead>\n",
       "  <tbody>\n",
       "    <tr>\n",
       "      <th>0</th>\n",
       "      <td>Por ejemplo, el nÃºmero de consultas externas de especialistas es de 319 por cada mil derechohabientes en el SP, en comparaciÃ³n con 338 y 620 por cada mil derechohabientes en el IMSS y el ISSSTE, respectivamente. Si bien algunas de estas diferencias pueden reflejar una necesidad desigual (como la poblaciÃ³n ligeramente mayor del ISSSTE), otras no pueden justificarse de esta manera. El nÃºmero de recetas que no pudieron ser surtidas en su totalidad por un farmacÃ©utico debido a la falta de existencias es de 33% dentro del SP en comparaciÃ³n con 14% dentro del IMSS segÃºn los datos de la encuesta (aunque las propias cifras de los institutos de la SS sugieren tasas mÃ¡s altas de recetas surtidas). Ambas cifras se encuentran entre las mÃ¡s altas de la OCDE. El gasto de bolsillo no se ha reducido significativamente en la última década, a pesar de los esfuerzos para lograr la cobertura sanitaria universal a través de la reforma del SP.</td>\n",
       "      <td>3</td>\n",
       "      <td>[por, ejemplo, ,, el, nãºmero, de, consulta, externa, de, especialista, es, de, 319, por, cad, mil, derechohaby, en, el, sp, ,, en, comparaciã³n, con, 338, y, 620, por, cad, mil, derechohaby, en, el, imss, y, el, issst, ,, respectiva, ., si, bien, alguna, de, esta, diferencia, pued, reflej, un, necesidad, desig, (, como, la, poblaciã³n, ligera, may, del, issst, ), ,, otra, no, pued, justificars, de, est, maner, ., el, nãºmero, de, receta, que, no, pudieron, ser, surtida, en, su, totalidad, por, un, farmacã©utico, debido, a, la, falt, de, existencia, es, de, 33, %, dentro, del, sp, en, comparaciã³n, con, ...]</td>\n",
       "    </tr>\n",
       "    <tr>\n",
       "      <th>1</th>\n",
       "      <td>En 2007, el gobierno central financió directamente solo el 0,3% del gasto total en salud, pero realizó transferencias específicas para el gasto en salud que ascendieron a otro 5,6% del gasto total. La mayor parte del gasto presupuestario en salud lo realizan los gobiernos de los condados. Por lo tanto, los condados pobres solo pueden ofrecer un bajo nivel de atención a la población local. El gobierno provincial proporciona subsidios del lado de la oferta a los hospitales.</td>\n",
       "      <td>3</td>\n",
       "      <td>[en, 2007, ,, el, gobierno, cent, financió, directa, solo, el, 0,3, %, del, gasto, tot, en, salud, ,, pero, realizó, transferencia, específica, par, el, gasto, en, salud, que, ascendieron, a, otro, 5,6, %, del, gasto, tot, ., la, may, part, del, gasto, presupuestario, en, salud, lo, real, los, gobierno, de, los, condado, ., por, lo, tanto, ,, los, condado, pobr, solo, pued, ofrec, un, bajo, nivel, de, atención, a, la, población, loc, ., el, gobierno, provint, proporcion, subsidio, del, lado, de, la, ofert, a, los, hospit, ., En, 2007, ,, el, gobierno, central, financió, directamente, solo, el, 0,3, %, del, ...]</td>\n",
       "    </tr>\n",
       "    <tr>\n",
       "      <th>2</th>\n",
       "      <td>Claramente, hay muchos otros factores en juego, en particular, una variedad de barreras y determinantes sociales. Estos pueden estar relacionados con el género, la clase, la etnia, la casta, el idioma y la religión, y surgen de estructuras, normas y procesos sociales arraigados que aceptan e incluso fomentan distribuciones injustas de la riqueza y los recursos sociales. Por ejemplo, las personas que viven con el VIH y algunas otras enfermedades crónicas enfrentan altos niveles de estigma y discriminación que dificultan su acceso a pruebas médicas, tratamiento, atención y apoyo. Por lo tanto, los gobiernos que buscan mejorar los estándares de salud querrán mejorar la condición de la mujer, brindar servicios de salud reproductiva efectivos, implementar programas integrales de lactancia materna en línea con las recomendaciones actuales y aumentar las presiones comunitarias contra el aborto selectivo por sexo. Las personas pobres, que carecen de educación e información, o de fondos para opciones más saludables, son más vulnerables al impacto de las ENT que los ricos y es probable que mueran antes. Directa e indirectamente, las ENT tendrán impactos de gran alcance en el progreso hacia los ODM.</td>\n",
       "      <td>3</td>\n",
       "      <td>[clara, ,, hay, mucho, otro, fact, en, juego, ,, en, particul, ,, un, variedad, de, barrera, y, determin, soc, ., esto, pued, est, relacionado, con, el, género, ,, la, clas, ,, la, etn, ,, la, cast, ,, el, idiom, y, la, religión, ,, y, surg, de, estructura, ,, norma, y, proceso, soc, arraigado, que, aceiv, e, incluso, fom, distribuc, injusta, de, la, riquez, y, los, recurso, soc, ., por, ejemplo, ,, las, persona, que, viv, con, el, vih, y, alguna, otra, enfermedad, crónicas, enfr, alto, nivel, de, estigm, y, discriminación, que, dificult, su, acceso, a, prueba, médicas, ,, tratamiento, ,, ...]</td>\n",
       "    </tr>\n",
       "    <tr>\n",
       "      <th>3</th>\n",
       "      <td>Por ejemplo, el estado australiano de Victoria creó una agencia de promoción de la salud financiada con los impuestos sobre el tabaco, y varios estados de EE.UU. (California, Massachusetts, Arizona y Oregón) han destinado parte de los ingresos procedentes de los impuestos especiales sobre el tabaco a actividades de educación y control del tabaco, mientras que en Nueva Jersey, Ohio y Texas los ingresos procedentes del alcohol se utilizan para programas de educación y prevención relacionados con el alcohol (Sassi et al., 2004), Los impuestos locales pueden ser una fuente importante de ingresos, sobre todo en los sistemas sanitarios descentralizados (por ejemplo, Dinamarca, Finlandia, Italia y Suecia)17 . Además, el nivel de los impuestos locales puede fijarse en función de las preferencias locales sobre el nivel y la calidad de los servicios médicos. Sin embargo, en ausencia de un mecanismo de transferencia ajustado al riesgo y gestionado centralmente, la descentralización reduce la mancomunación de riesgos y podría dar lugar a mayores disparidades sanitarias interregionales.</td>\n",
       "      <td>3</td>\n",
       "      <td>[por, ejemplo, ,, el, estado, australiano, de, victor, creó, un, agenc, de, promoción, de, la, salud, financiad, con, los, impuesto, sobr, el, tabaco, ,, y, vario, estado, de, ee.uu, ., (, californ, ,, massachuset, ,, arizon, y, oregón, ), han, destinado, part, de, los, ingreso, proc, de, los, impuesto, espec, sobr, el, tabaco, a, actividad, de, educación, y, control, del, tabaco, ,, mientra, que, en, nuev, jersey, ,, ohio, y, texa, los, ingreso, proc, del, alcohol, se, util, par, programa, de, educación, y, prevención, relacionado, con, el, alcohol, (, sass, et, al., ,, 2004, ), ,, los, impuesto, loc, pued, ...]</td>\n",
       "    </tr>\n",
       "    <tr>\n",
       "      <th>4</th>\n",
       "      <td>El consumo anual de alcohol se estima en 15,7 litros al año para los hombres, más de un 50% por encima de la media de la OCDE (10,4) (Sistema mundial de información sobre alcohol y salud de la OMS), lo que puede ayudar a explicar la alta mortalidad por enfermedad hepática relacionada con el alcohol. Si bien la prevalencia de la obesidad en adultos es relativamente baja en comparación con muchos países de la OCDE, más del 30 % de las mujeres en Kazajstán son obesas, en comparación con el 16 % de los hombres (World Obesity, 2016), lo que coloca la tasa entre las mujeres a la par con algunos de los países más obesos de la OCDE. De hecho, una gran proporción de la brecha en la esperanza de vida se explica por una mayor mortalidad entre los jóvenes kazajos de 15 a 29 años, un grupo de edad en el que las tasas generales de mortalidad son más de tres veces más altas que en la UE de los 15.</td>\n",
       "      <td>3</td>\n",
       "      <td>[el, consumo, an, de, alcohol, se, estim, en, 15,7, litro, al, año, par, los, hombr, ,, más, de, un, 50, %, por, encim, de, la, med, de, la, ocd, (, 10,4, ), (, sistem, mund, de, información, sobr, alcohol, y, salud, de, la, om, ), ,, lo, que, pued, ayud, a, explic, la, alt, mortalidad, por, enfermedad, hepátic, relacionad, con, el, alcohol, ., si, bien, la, prevalenc, de, la, obesidad, en, adulto, es, relativa, baj, en, comparación, con, mucho, país, de, la, ocd, ,, más, del, 30, %, de, las, muj, en, kazajstán, son, obesa, ,, en, comparación, con, el, ...]</td>\n",
       "    </tr>\n",
       "  </tbody>\n",
       "</table>\n",
       "</div>"
      ],
      "text/plain": [
       "                                                                                                                                                                                                                                                                                                                                                                                                                                                                                                                                                                                                                                                                                                                                                                                                                                                                                                                                                                                                                                                                                                                                                                                                                                            Textos_espanol  \\\n",
       "0                                                                                                                                                                                                                                                                         Por ejemplo, el nÃºmero de consultas externas de especialistas es de 319 por cada mil derechohabientes en el SP, en comparaciÃ³n con 338 y 620 por cada mil derechohabientes en el IMSS y el ISSSTE, respectivamente. Si bien algunas de estas diferencias pueden reflejar una necesidad desigual (como la poblaciÃ³n ligeramente mayor del ISSSTE), otras no pueden justificarse de esta manera. El nÃºmero de recetas que no pudieron ser surtidas en su totalidad por un farmacÃ©utico debido a la falta de existencias es de 33% dentro del SP en comparaciÃ³n con 14% dentro del IMSS segÃºn los datos de la encuesta (aunque las propias cifras de los institutos de la SS sugieren tasas mÃ¡s altas de recetas surtidas). Ambas cifras se encuentran entre las mÃ¡s altas de la OCDE. El gasto de bolsillo no se ha reducido significativamente en la última década, a pesar de los esfuerzos para lograr la cobertura sanitaria universal a través de la reforma del SP.   \n",
       "1                                                                                                                                                                                                                                                                                                                                                                                                                                                                                                                                                                                                                                                                                                                                                             En 2007, el gobierno central financió directamente solo el 0,3% del gasto total en salud, pero realizó transferencias específicas para el gasto en salud que ascendieron a otro 5,6% del gasto total. La mayor parte del gasto presupuestario en salud lo realizan los gobiernos de los condados. Por lo tanto, los condados pobres solo pueden ofrecer un bajo nivel de atención a la población local. El gobierno provincial proporciona subsidios del lado de la oferta a los hospitales.   \n",
       "2  Claramente, hay muchos otros factores en juego, en particular, una variedad de barreras y determinantes sociales. Estos pueden estar relacionados con el género, la clase, la etnia, la casta, el idioma y la religión, y surgen de estructuras, normas y procesos sociales arraigados que aceptan e incluso fomentan distribuciones injustas de la riqueza y los recursos sociales. Por ejemplo, las personas que viven con el VIH y algunas otras enfermedades crónicas enfrentan altos niveles de estigma y discriminación que dificultan su acceso a pruebas médicas, tratamiento, atención y apoyo. Por lo tanto, los gobiernos que buscan mejorar los estándares de salud querrán mejorar la condición de la mujer, brindar servicios de salud reproductiva efectivos, implementar programas integrales de lactancia materna en línea con las recomendaciones actuales y aumentar las presiones comunitarias contra el aborto selectivo por sexo. Las personas pobres, que carecen de educación e información, o de fondos para opciones más saludables, son más vulnerables al impacto de las ENT que los ricos y es probable que mueran antes. Directa e indirectamente, las ENT tendrán impactos de gran alcance en el progreso hacia los ODM.   \n",
       "3                                                                                                                       Por ejemplo, el estado australiano de Victoria creó una agencia de promoción de la salud financiada con los impuestos sobre el tabaco, y varios estados de EE.UU. (California, Massachusetts, Arizona y Oregón) han destinado parte de los ingresos procedentes de los impuestos especiales sobre el tabaco a actividades de educación y control del tabaco, mientras que en Nueva Jersey, Ohio y Texas los ingresos procedentes del alcohol se utilizan para programas de educación y prevención relacionados con el alcohol (Sassi et al., 2004), Los impuestos locales pueden ser una fuente importante de ingresos, sobre todo en los sistemas sanitarios descentralizados (por ejemplo, Dinamarca, Finlandia, Italia y Suecia)17 . Además, el nivel de los impuestos locales puede fijarse en función de las preferencias locales sobre el nivel y la calidad de los servicios médicos. Sin embargo, en ausencia de un mecanismo de transferencia ajustado al riesgo y gestionado centralmente, la descentralización reduce la mancomunación de riesgos y podría dar lugar a mayores disparidades sanitarias interregionales.   \n",
       "4                                                                                                                                                                                                                                                                                                                          El consumo anual de alcohol se estima en 15,7 litros al año para los hombres, más de un 50% por encima de la media de la OCDE (10,4) (Sistema mundial de información sobre alcohol y salud de la OMS), lo que puede ayudar a explicar la alta mortalidad por enfermedad hepática relacionada con el alcohol. Si bien la prevalencia de la obesidad en adultos es relativamente baja en comparación con muchos países de la OCDE, más del 30 % de las mujeres en Kazajstán son obesas, en comparación con el 16 % de los hombres (World Obesity, 2016), lo que coloca la tasa entre las mujeres a la par con algunos de los países más obesos de la OCDE. De hecho, una gran proporción de la brecha en la esperanza de vida se explica por una mayor mortalidad entre los jóvenes kazajos de 15 a 29 años, un grupo de edad en el que las tasas generales de mortalidad son más de tres veces más altas que en la UE de los 15.   \n",
       "\n",
       "   sdg  \\\n",
       "0    3   \n",
       "1    3   \n",
       "2    3   \n",
       "3    3   \n",
       "4    3   \n",
       "\n",
       "                                                                                                                                                                                                                                                                                                                                                                                                                                                                                                                                                                                                                             Textos_Tokenizados  \n",
       "0       [por, ejemplo, ,, el, nãºmero, de, consulta, externa, de, especialista, es, de, 319, por, cad, mil, derechohaby, en, el, sp, ,, en, comparaciã³n, con, 338, y, 620, por, cad, mil, derechohaby, en, el, imss, y, el, issst, ,, respectiva, ., si, bien, alguna, de, esta, diferencia, pued, reflej, un, necesidad, desig, (, como, la, poblaciã³n, ligera, may, del, issst, ), ,, otra, no, pued, justificars, de, est, maner, ., el, nãºmero, de, receta, que, no, pudieron, ser, surtida, en, su, totalidad, por, un, farmacã©utico, debido, a, la, falt, de, existencia, es, de, 33, %, dentro, del, sp, en, comparaciã³n, con, ...]  \n",
       "1    [en, 2007, ,, el, gobierno, cent, financió, directa, solo, el, 0,3, %, del, gasto, tot, en, salud, ,, pero, realizó, transferencia, específica, par, el, gasto, en, salud, que, ascendieron, a, otro, 5,6, %, del, gasto, tot, ., la, may, part, del, gasto, presupuestario, en, salud, lo, real, los, gobierno, de, los, condado, ., por, lo, tanto, ,, los, condado, pobr, solo, pued, ofrec, un, bajo, nivel, de, atención, a, la, población, loc, ., el, gobierno, provint, proporcion, subsidio, del, lado, de, la, ofert, a, los, hospit, ., En, 2007, ,, el, gobierno, central, financió, directamente, solo, el, 0,3, %, del, ...]  \n",
       "2                      [clara, ,, hay, mucho, otro, fact, en, juego, ,, en, particul, ,, un, variedad, de, barrera, y, determin, soc, ., esto, pued, est, relacionado, con, el, género, ,, la, clas, ,, la, etn, ,, la, cast, ,, el, idiom, y, la, religión, ,, y, surg, de, estructura, ,, norma, y, proceso, soc, arraigado, que, aceiv, e, incluso, fom, distribuc, injusta, de, la, riquez, y, los, recurso, soc, ., por, ejemplo, ,, las, persona, que, viv, con, el, vih, y, alguna, otra, enfermedad, crónicas, enfr, alto, nivel, de, estigm, y, discriminación, que, dificult, su, acceso, a, prueba, médicas, ,, tratamiento, ,, ...]  \n",
       "3  [por, ejemplo, ,, el, estado, australiano, de, victor, creó, un, agenc, de, promoción, de, la, salud, financiad, con, los, impuesto, sobr, el, tabaco, ,, y, vario, estado, de, ee.uu, ., (, californ, ,, massachuset, ,, arizon, y, oregón, ), han, destinado, part, de, los, ingreso, proc, de, los, impuesto, espec, sobr, el, tabaco, a, actividad, de, educación, y, control, del, tabaco, ,, mientra, que, en, nuev, jersey, ,, ohio, y, texa, los, ingreso, proc, del, alcohol, se, util, par, programa, de, educación, y, prevención, relacionado, con, el, alcohol, (, sass, et, al., ,, 2004, ), ,, los, impuesto, loc, pued, ...]  \n",
       "4                                                           [el, consumo, an, de, alcohol, se, estim, en, 15,7, litro, al, año, par, los, hombr, ,, más, de, un, 50, %, por, encim, de, la, med, de, la, ocd, (, 10,4, ), (, sistem, mund, de, información, sobr, alcohol, y, salud, de, la, om, ), ,, lo, que, pued, ayud, a, explic, la, alt, mortalidad, por, enfermedad, hepátic, relacionad, con, el, alcohol, ., si, bien, la, prevalenc, de, la, obesidad, en, adulto, es, relativa, baj, en, comparación, con, mucho, país, de, la, ocd, ,, más, del, 30, %, de, las, muj, en, kazajstán, son, obesa, ,, en, comparación, con, el, ...]  "
      ]
     },
     "execution_count": 307,
     "metadata": {},
     "output_type": "execute_result"
    }
   ],
   "source": [
    "def stem_words(words):\n",
    "    \"\"\"Stem words in list of tokenized words\"\"\"\n",
    "    stems = [lancaster_stemmer.stem(word) for word in words]\n",
    "    return stems\n",
    "def lemmatize_verbs(words):\n",
    "    \"\"\"Lemmatize verbs in list of tokenized words\"\"\"\n",
    "    lemmas = [wordnet_lemmatizer.lemmatize(word) for word in words]\n",
    "    return lemmas\n",
    "def stem_and_lemmatize(words):\n",
    "    stems = stem_words(words)\n",
    "    lemmas = lemmatize_verbs(words)\n",
    "    return stems + lemmas\n",
    "\n",
    "df_obj['Textos_Tokenizados'] = df_obj['Textos_Tokenizados'].apply(stem_and_lemmatize)\n",
    "df_obj.head()"
   ]
  },
  {
   "cell_type": "code",
   "execution_count": 308,
   "metadata": {},
   "outputs": [
    {
     "data": {
      "text/html": [
       "<div>\n",
       "<style scoped>\n",
       "    .dataframe tbody tr th:only-of-type {\n",
       "        vertical-align: middle;\n",
       "    }\n",
       "\n",
       "    .dataframe tbody tr th {\n",
       "        vertical-align: top;\n",
       "    }\n",
       "\n",
       "    .dataframe thead th {\n",
       "        text-align: right;\n",
       "    }\n",
       "</style>\n",
       "<table border=\"1\" class=\"dataframe\">\n",
       "  <thead>\n",
       "    <tr style=\"text-align: right;\">\n",
       "      <th></th>\n",
       "      <th>Textos_espanol</th>\n",
       "      <th>sdg</th>\n",
       "      <th>Textos_Tokenizados</th>\n",
       "    </tr>\n",
       "  </thead>\n",
       "  <tbody>\n",
       "    <tr>\n",
       "      <th>0</th>\n",
       "      <td>Por ejemplo, el nÃºmero de consultas externas de especialistas es de 319 por cada mil derechohabientes en el SP, en comparaciÃ³n con 338 y 620 por cada mil derechohabientes en el IMSS y el ISSSTE, respectivamente. Si bien algunas de estas diferencias pueden reflejar una necesidad desigual (como la poblaciÃ³n ligeramente mayor del ISSSTE), otras no pueden justificarse de esta manera. El nÃºmero de recetas que no pudieron ser surtidas en su totalidad por un farmacÃ©utico debido a la falta de existencias es de 33% dentro del SP en comparaciÃ³n con 14% dentro del IMSS segÃºn los datos de la encuesta (aunque las propias cifras de los institutos de la SS sugieren tasas mÃ¡s altas de recetas surtidas). Ambas cifras se encuentran entre las mÃ¡s altas de la OCDE. El gasto de bolsillo no se ha reducido significativamente en la última década, a pesar de los esfuerzos para lograr la cobertura sanitaria universal a través de la reforma del SP.</td>\n",
       "      <td>3</td>\n",
       "      <td>por ejemplo , el nãºmero de consulta externa de especialista es de 319 por cad mil derechohaby en el sp , en comparaciã³n con 338 y 620 por cad mil derechohaby en el imss y el issst , respectiva . si bien alguna de esta diferencia pued reflej un necesidad desig ( como la poblaciã³n ligera may del issst ) , otra no pued justificars de est maner . el nãºmero de receta que no pudieron ser surtida en su totalidad por un farmacã©utico debido a la falt de existencia es de 33 % dentro del sp en comparaciã³n con 14 % dentro del imss segãºn los dato de la encuest ( aunqu las propia cifra de los instituto de la ss sugy tasa mã¡s alta de receta surtida ) . amba cifra se encu ent las mã¡s alta de la ocd . el gasto de bolsillo no se ha reducido significativa en la última década , a pes de los esfuerzo par logr la cobertur sanitar univers a travé de la reform del sp . Por ejemplo , el nÃºmero de consultas externas de especialistas e de 319 por cada mil derechohabientes en el SP , en comparaciÃ³n con 338 y 620 por cada mil derechohabientes en el IMSS y el ISSSTE , respectivamente . Si bien algunas de estas diferencias pueden reflejar una necesidad desigual ( como la poblaciÃ³n ligeramente mayor del ISSSTE ) , otras no pueden justificarse de esta manera . El nÃºmero de recetas que no pudieron ser surtidas en su totalidad por un farmacÃ©utico debido a la falta de existencias e de 33 % dentro del SP en comparaciÃ³n con 14 % dentro del IMSS segÃºn los datos de la encuesta ( aunque la propias cifras de los institutos de la SS sugieren tasas mÃ¡s altas de recetas surtidas ) . Ambas cifras se encuentran entre la mÃ¡s altas de la OCDE . El gasto de bolsillo no se ha reducido significativamente en la última década , a pesar de los esfuerzos para lograr la cobertura sanitarium universal a través de la reforma del SP .</td>\n",
       "    </tr>\n",
       "    <tr>\n",
       "      <th>1</th>\n",
       "      <td>En 2007, el gobierno central financió directamente solo el 0,3% del gasto total en salud, pero realizó transferencias específicas para el gasto en salud que ascendieron a otro 5,6% del gasto total. La mayor parte del gasto presupuestario en salud lo realizan los gobiernos de los condados. Por lo tanto, los condados pobres solo pueden ofrecer un bajo nivel de atención a la población local. El gobierno provincial proporciona subsidios del lado de la oferta a los hospitales.</td>\n",
       "      <td>3</td>\n",
       "      <td>en 2007 , el gobierno cent financió directa solo el 0,3 % del gasto tot en salud , pero realizó transferencia específica par el gasto en salud que ascendieron a otro 5,6 % del gasto tot . la may part del gasto presupuestario en salud lo real los gobierno de los condado . por lo tanto , los condado pobr solo pued ofrec un bajo nivel de atención a la población loc . el gobierno provint proporcion subsidio del lado de la ofert a los hospit . En 2007 , el gobierno central financió directamente solo el 0,3 % del gasto total en salud , pero realizó transferencias específicas para el gasto en salud que ascendieron a otro 5,6 % del gasto total . La mayor parte del gasto presupuestario en salud lo realizan los gobiernos de los condados . Por lo tanto , los condados pobres solo pueden ofrecer un bajo nivel de atención a la población local . El gobierno provincial proporciona subsidios del lado de la oferta a los hospitales .</td>\n",
       "    </tr>\n",
       "    <tr>\n",
       "      <th>2</th>\n",
       "      <td>Claramente, hay muchos otros factores en juego, en particular, una variedad de barreras y determinantes sociales. Estos pueden estar relacionados con el género, la clase, la etnia, la casta, el idioma y la religión, y surgen de estructuras, normas y procesos sociales arraigados que aceptan e incluso fomentan distribuciones injustas de la riqueza y los recursos sociales. Por ejemplo, las personas que viven con el VIH y algunas otras enfermedades crónicas enfrentan altos niveles de estigma y discriminación que dificultan su acceso a pruebas médicas, tratamiento, atención y apoyo. Por lo tanto, los gobiernos que buscan mejorar los estándares de salud querrán mejorar la condición de la mujer, brindar servicios de salud reproductiva efectivos, implementar programas integrales de lactancia materna en línea con las recomendaciones actuales y aumentar las presiones comunitarias contra el aborto selectivo por sexo. Las personas pobres, que carecen de educación e información, o de fondos para opciones más saludables, son más vulnerables al impacto de las ENT que los ricos y es probable que mueran antes. Directa e indirectamente, las ENT tendrán impactos de gran alcance en el progreso hacia los ODM.</td>\n",
       "      <td>3</td>\n",
       "      <td>clara , hay mucho otro fact en juego , en particul , un variedad de barrera y determin soc . esto pued est relacionado con el género , la clas , la etn , la cast , el idiom y la religión , y surg de estructura , norma y proceso soc arraigado que aceiv e incluso fom distribuc injusta de la riquez y los recurso soc . por ejemplo , las persona que viv con el vih y alguna otra enfermedad crónicas enfr alto nivel de estigm y discriminación que dificult su acceso a prueba médicas , tratamiento , atención y apoyo . por lo tanto , los gobierno que busc mejor los estánd de salud querrán mejor la condición de la muj , brind servicio de salud reproductiv efectivo , implement programa integr de lactanc matern en línea con las recomendac act y aument las pres comunitaria contr el aborto selectivo por sexo . las persona pobr , que carec de educación e información , o de fondo par opc más salud , son más vuln al impacto de las ent que los rico y es prob que muer ant . direct e indirecta , las ent tendrán impacto de gran alc en el progreso hac los odm . Claramente , hay muchos otros factores en juego , en particular , una variedad de barreras y determinantes sociales . Estos pueden estar relacionados con el género , la clase , la etnia , la casta , el idioma y la religión , y surgen de estructuras , norma y procesos sociales arraigados que aceptan e incluso fomentan distribuciones injustas de la riqueza y los recursos sociales . Por ejemplo , la persona que viven con el VIH y algunas otras enfermedades crónicas enfrentan alto niveles de estigma y discriminación que dificultan su acceso a pruebas médicas , tratamiento , atención y apoyo . Por lo tanto , los gobiernos que buscan mejorar los estándares de salud querrán mejorar la condición de la mujer , brindar servicios de salud reproductiva efectivos , implementar programas integrales de lactancia materna en línea con la recomendaciones actuales y aumentar la presiones comunitarias contra el aborto selectivo por sexo . Las persona pobres , que carecen de educación e información , o de fondos para opciones más saludables , son más vulnerables al impacto de la ENT que los rico y e probable que mueran ante . Directa e indirectamente , la ENT tendrán impactos de gran alcance en el progreso hacia los ODM .</td>\n",
       "    </tr>\n",
       "    <tr>\n",
       "      <th>3</th>\n",
       "      <td>Por ejemplo, el estado australiano de Victoria creó una agencia de promoción de la salud financiada con los impuestos sobre el tabaco, y varios estados de EE.UU. (California, Massachusetts, Arizona y Oregón) han destinado parte de los ingresos procedentes de los impuestos especiales sobre el tabaco a actividades de educación y control del tabaco, mientras que en Nueva Jersey, Ohio y Texas los ingresos procedentes del alcohol se utilizan para programas de educación y prevención relacionados con el alcohol (Sassi et al., 2004), Los impuestos locales pueden ser una fuente importante de ingresos, sobre todo en los sistemas sanitarios descentralizados (por ejemplo, Dinamarca, Finlandia, Italia y Suecia)17 . Además, el nivel de los impuestos locales puede fijarse en función de las preferencias locales sobre el nivel y la calidad de los servicios médicos. Sin embargo, en ausencia de un mecanismo de transferencia ajustado al riesgo y gestionado centralmente, la descentralización reduce la mancomunación de riesgos y podría dar lugar a mayores disparidades sanitarias interregionales.</td>\n",
       "      <td>3</td>\n",
       "      <td>por ejemplo , el estado australiano de victor creó un agenc de promoción de la salud financiad con los impuesto sobr el tabaco , y vario estado de ee.uu . ( californ , massachuset , arizon y oregón ) han destinado part de los ingreso proc de los impuesto espec sobr el tabaco a actividad de educación y control del tabaco , mientra que en nuev jersey , ohio y texa los ingreso proc del alcohol se util par programa de educación y prevención relacionado con el alcohol ( sass et al. , 2004 ) , los impuesto loc pued ser un fuent import de ingreso , sobr todo en los sistema sanitario descentralizado ( por ejemplo , dinamarc , finland , ital y suec ) 17 . ademá , el nivel de los impuesto loc pued fijars en función de las preferencia loc sobr el nivel y la calidad de los servicio médicos . sin embargo , en ausenc de un mecanismo de transferenc ajustado al riesgo y gestionado cent , la descentralización reduc la mancomunación de riesgo y podrí dar lug a may disparidad sanitaria interreg . Por ejemplo , el estado australiano de Victoria creó una agencia de promoción de la salud financiada con los impuestos sobre el tabaco , y varios estados de EE.UU . ( California , Massachusetts , Arizona y Oregón ) han destinado parte de los ingresos procedentes de los impuestos especiales sobre el tabaco a actividades de educación y control del tabaco , mientras que en Nueva Jersey , Ohio y Texas los ingresos procedentes del alcohol se utilizan para programas de educación y prevención relacionados con el alcohol ( Sassi et al. , 2004 ) , Los impuestos locale pueden ser una fuente importante de ingresos , sobre todo en los sistemas sanitarios descentralizados ( por ejemplo , Dinamarca , Finlandia , Italia y Suecia ) 17 . Además , el nivel de los impuestos locale puede fijarse en función de la preferencias locale sobre el nivel y la calidad de los servicios médicos . Sin embargo , en ausencia de un mecanismo de transferencia ajustado al riesgo y gestionado centralmente , la descentralización reduce la mancomunación de riesgos y podría dar lugar a mayores disparidades sanitarias interregionales .</td>\n",
       "    </tr>\n",
       "    <tr>\n",
       "      <th>4</th>\n",
       "      <td>El consumo anual de alcohol se estima en 15,7 litros al año para los hombres, más de un 50% por encima de la media de la OCDE (10,4) (Sistema mundial de información sobre alcohol y salud de la OMS), lo que puede ayudar a explicar la alta mortalidad por enfermedad hepática relacionada con el alcohol. Si bien la prevalencia de la obesidad en adultos es relativamente baja en comparación con muchos países de la OCDE, más del 30 % de las mujeres en Kazajstán son obesas, en comparación con el 16 % de los hombres (World Obesity, 2016), lo que coloca la tasa entre las mujeres a la par con algunos de los países más obesos de la OCDE. De hecho, una gran proporción de la brecha en la esperanza de vida se explica por una mayor mortalidad entre los jóvenes kazajos de 15 a 29 años, un grupo de edad en el que las tasas generales de mortalidad son más de tres veces más altas que en la UE de los 15.</td>\n",
       "      <td>3</td>\n",
       "      <td>el consumo an de alcohol se estim en 15,7 litro al año par los hombr , más de un 50 % por encim de la med de la ocd ( 10,4 ) ( sistem mund de información sobr alcohol y salud de la om ) , lo que pued ayud a explic la alt mortalidad por enfermedad hepátic relacionad con el alcohol . si bien la prevalenc de la obesidad en adulto es relativa baj en comparación con mucho país de la ocd , más del 30 % de las muj en kazajstán son obesa , en comparación con el 16 % de los hombr ( world obes , 2016 ) , lo que coloc la tas ent las muj a la par con alguno de los país más obeso de la ocd . de hecho , un gran proporción de la brech en la esperanz de vid se explic por un may mortalidad ent los jóvenes kazajo de 15 a 29 año , un grupo de edad en el que las tasa gen de mortalidad son más de tre vec más alta que en la ue de los 15 . El consumo anual de alcohol se estima en 15,7 litros al año para los hombre , más de un 50 % por encima de la medium de la OCDE ( 10,4 ) ( Sistema mundial de información sobre alcohol y salud de la OMS ) , lo que puede ayudar a explicar la alta mortalidad por enfermedad hepática relacionada con el alcohol . Si bien la prevalencia de la obesidad en adultos e relativamente baja en comparación con muchos países de la OCDE , más del 30 % de la mujeres en Kazajstán son obesas , en comparación con el 16 % de los hombre ( World Obesity , 2016 ) , lo que coloca la tasa entre la mujeres a la par con algunos de los países más obesos de la OCDE . De hecho , una gran proporción de la brecha en la esperanza de vida se explica por una mayor mortalidad entre los jóvenes kazajos de 15 a 29 años , un grupo de edad en el que la tasas generales de mortalidad son más de tres veces más altas que en la UE de los 15 .</td>\n",
       "    </tr>\n",
       "    <tr>\n",
       "      <th>...</th>\n",
       "      <td>...</td>\n",
       "      <td>...</td>\n",
       "      <td>...</td>\n",
       "    </tr>\n",
       "    <tr>\n",
       "      <th>2995</th>\n",
       "      <td>Un caucus efectivo se basa en fuertes vínculos con grupos nacionales de mujeres, OSC e institutos de investigación y universidades. El Consejo continúa el trabajo del Consejo Interinstitucional posterior a Beijing y la Oficina de Iniciativas y Alcance de la Mujer de la Casa Blanca. Su objetivo es proporcionar “una respuesta federal coordinada a los desafíos que enfrentan las mujeres y las niñas” y garantizar “que todos los gabinetes y agencias a nivel de gabinete consideren cómo sus políticas y programas responden a las necesidades y necesidades de las mujeres y las niñas”. impactarlos.â€</td>\n",
       "      <td>5</td>\n",
       "      <td>un cauc efectivo se bas en fuert vínculos con grupo nac de muj , osc e instituto de investigación y universidad . el consejo continú el trabajo del consejo interinstituc postery a beid y la oficin de iniciativa y alc de la muj de la cas blanc . su objetivo es proporcion “ un respuest fed coordinad a los desafío que enfr las muj y las niña ” y garantiz “ que todo los gabinet y agencia a nivel de gabinet consid cómo sus política y programa respond a las necesidad y necesidad de las muj y las niña ” . impactarlos.â€ Un caucus efectivo se basa en fuertes vínculos con grupos nacionales de mujeres , OSC e institutos de investigación y universidades . El Consejo continúa el trabajo del Consejo Interinstitucional posterior a Beijing y la Oficina de Iniciativas y Alcance de la Mujer de la Casa Blanca . Su objetivo e proporcionar “ una respuesta federal coordinada a los desafíos que enfrentan la mujeres y la niñas ” y garantizar “ que todos los gabinetes y agencias a nivel de gabinete consideren cómo sus políticas y programas responden a la necesidades y necesidades de la mujeres y la niñas ” . impactarlos.â€</td>\n",
       "    </tr>\n",
       "    <tr>\n",
       "      <th>2996</th>\n",
       "      <td>Por el contrario, el porcentaje de hogares en edad de trabajar con un hombre que trabaja se mantuvo relativamente estable (en el 76%) a lo largo del tiempo en la mayorÃa de los paÃses (panel A). Alemania, sin embargo, fue testigo de un descenso significativo (de unos 15 puntos porcentuales) en la participaciÃ³n de los hombres en el empleo entre los hogares durante este perÃodo. A. Hogares con un trabajador masculino Panel. En EspaÃ±a, por ejemplo, en 1995 sÃ³lo el 22% (25%) de los hogares contaban con una mujer que trabajaba a tiempo completo (todo el aÃ±o), frente al 42% (52%) del aÃ±o anterior a la crisis. Las mujeres neerlandesas trabajan ahora más semanas al año, aunque no más horas por semana.</td>\n",
       "      <td>5</td>\n",
       "      <td>por el contrario , el porcentas de hog en edad de trabaj con un hombr que trabaj se mantuvo relativa est ( en el 76 % ) a lo largo del tiempo en la mayorã de los paãs ( panel a ) . aleman , sin embargo , fue testigo de un descenso significativo ( de uno 15 punto porc ) en la participaciã³n de los hombr en el empleo ent los hog dur est perãodo . a. hog con un trabajad masculino panel . en espaã±a , por ejemplo , en 1995 sã³lo el 22 % ( 25 % ) de los hog contab con un muj que trabajab a tiempo completo ( todo el aã±o ) , frent al 42 % ( 52 % ) del aã±o antery a la cris . las muj neerlandesa trabas ahor más semana al año , aunqu no más hora por seman . Por el contrario , el porcentaje de hogares en edad de trabajar con un hombre que trabaja se mantuvo relativamente estable ( en el 76 % ) a lo largo del tiempo en la mayorÃa de los paÃses ( panel A ) . Alemania , sin embargo , fue testigo de un descenso significativo ( de unos 15 puntos porcentuales ) en la participaciÃ³n de los hombre en el empleo entre los hogares durante este perÃodo . A. Hogares con un trabajador masculino Panel . En EspaÃ±a , por ejemplo , en 1995 sÃ³lo el 22 % ( 25 % ) de los hogares contaban con una mujer que trabajaba a tiempo completo ( todo el aÃ±o ) , frente al 42 % ( 52 % ) del aÃ±o anterior a la crisis . Las mujeres neerlandesas trabajan ahora más semanas al año , aunque no más horas por semana .</td>\n",
       "    </tr>\n",
       "    <tr>\n",
       "      <th>2997</th>\n",
       "      <td>El análisis utilizará una gama de medidas que reflejen las barreras básicas por un lado, y la asistencia por el otro, para la participación de las mujeres como agentes económicos productivos en los países de la Commonwealth. Según el Banco Mundial (Banco Mundial 2018a). Estas restricciones abarcan decisiones que afectan su movimiento, para conseguir un trabajo. Para muchas mujeres, estas decisiones no se pueden tomar sin el permiso de su marido.</td>\n",
       "      <td>5</td>\n",
       "      <td>el anális utilizará un gam de medida que refles las barrera básicas por un lado , y la asistenc por el otro , par la participación de las muj como ag económico productivo en los país de la commonweal . según el banco mund ( banco mund 2018a ) . esta restricc abarc decid que afect su movimiento , par conseguir un trabajo . par mucha muj , esta decid no se pued tom sin el permiso de su marido . El análisis utilizará una gama de medidas que reflejen la barreras básicas por un lado , y la asistencia por el otro , para la participación de la mujeres como agentes económicos productivos en los países de la Commonwealth . Según el Banco Mundial ( Banco Mundial 2018a ) . Estas restricciones abarcan decisiones que afectan su movimiento , para conseguir un trabajo . Para muchas mujeres , estas decisiones no se pueden tomar sin el permiso de su marido .</td>\n",
       "    </tr>\n",
       "    <tr>\n",
       "      <th>2998</th>\n",
       "      <td>La capacitación económica, el apoyo y, a veces, los incentivos que abordan las justificaciones económicas de las familias para casar a sus hijas a una edad temprana brindan alternativas al matrimonio y aumentan el valor de las niñas para sus familias de origen. Un ejemplo es Berhane-Hewan en Etiopía, que proporcionó a las familias una cabra mientras sus hijas permanecieran en el programa y permanecieran solteras hasta los 18 años (Karei y Erulkar, 2010). Otro ejemplo es el programa de transferencia de efectivo Zomba en Malawi, que descubrió que las transferencias de efectivo no condicionadas eran más efectivas para retrasar el matrimonio que las transferencias condicionadas (Baird et al., Al educar y movilizar a los padres y las comunidades—aquellos que deciden cuándo y con quién se casarán las niñas) —para cambiar las normas sociales relacionadas con las expectativas de las niñas y sus perspectivas de matrimonio, estos programas apuntan a retrasar el matrimonio.</td>\n",
       "      <td>5</td>\n",
       "      <td>la capacitación económic , el apoyo y , a vec , los incentivo que abord las justificac económica de las familia par cas a sus hija a un edad tempran brind alternativa al matrimonio y au el val de las niña par sus familia de orig . un ejemplo es berhane-hewan en etiopí , que proporcionó a las familia un cabr mientra sus hija permanecy en el program y permanecy soltera hast los 18 año ( kare y erulk , 2010 ) . otro ejemplo es el program de transferenc de efectivo zomb en malaw , que descubrió que las transferencia de efectivo no condicionada er más efectiva par retras el matrimonio que las transferencia condicionada ( baird et al. , al educ y moviliz a los padr y las comunidades—aquello que decid cuándo y con quién se casarán las niña ) —para cambi las norma soc relacionada con las expectativa de las niña y sus perspectiva de matrimonio , esto programa apunt a retras el matrimonio . La capacitación económica , el apoyo y , a veces , los incentivos que abordan la justificaciones económicas de la familias para casar a sus hijas a una edad temprana brindan alternativas al matrimonio y aumentan el valor de la niñas para sus familias de origen . Un ejemplo e Berhane-Hewan en Etiopía , que proporcionó a la familias una cabra mientras sus hijas permanecieran en el programa y permanecieran solteras hasta los 18 años ( Karei y Erulkar , 2010 ) . Otro ejemplo e el programa de transferencia de efectivo Zomba en Malawi , que descubrió que la transferencias de efectivo no condicionadas eran más efectivas para retrasar el matrimonio que la transferencias condicionadas ( Baird et al. , Al educar y movilizar a los padre y la comunidades—aquellos que deciden cuándo y con quién se casarán la niñas ) —para cambiar la norma sociales relacionadas con la expectativas de la niñas y sus perspectivas de matrimonio , estos programas apuntan a retrasar el matrimonio .</td>\n",
       "    </tr>\n",
       "    <tr>\n",
       "      <th>2999</th>\n",
       "      <td>Esto ha sido reconocido por los comitÃ©s en la atenciÃ³n prestada a la salud reproductiva de la mujer, el aborto, la anticoncepciÃ³n, el matrimonio precoz y el embarazo en la adolescencia. AsÃ, se reconoce que el control sobre su propia reproducciÃ³n es fundamental para que las mujeres puedan participar en igualdad de condiciones en la sociedad. AsÃ, las Directrices para la presentaciÃ³n de informes sobre el artÃculo 6, el derecho a la vida, exigen a los Estados que proporcionen informaciÃ³n sobre las tasas de natalidad y las muertes de mujeres relacionadas con el embarazo y el parto, asÃ como sobre las medidas adoptadas para ayudar a las mujeres a evitar embarazos no deseados y garantizar que no tengan que someterse a abortos clandestinos que pongan en peligro su vida (PIDCP 2012).</td>\n",
       "      <td>5</td>\n",
       "      <td>esto ha sido reconocido por los comitã©s en la atenciã³n prestad a la salud reproductiv de la muj , el aborto , la anticoncepciã³n , el matrimonio precoz y el embarazo en la adolescenc . asã , se reconoc que el control sobr su prop reproducciã³n es funda par que las muj pued particip en igualdad de cond en la sociedad . asã , las direct par la presentaciã³n de inform sobr el artãculo 6 , el derecho a la vid , exig a los estado que proporc informaciã³n sobr las tasa de natalidad y las muert de muj relacionada con el embarazo y el parto , asã como sobr las medida adoptada par ayud a las muj a evit embarazo no deseado y garantiz que no teng que someters a aborto clandestino que pong en peligro su vid ( pidcp 2012 ) . Esto ha sido reconocido por los comitÃ©s en la atenciÃ³n prestada a la salud reproductiva de la mujer , el aborto , la anticoncepciÃ³n , el matrimonio precoz y el embarazo en la adolescencia . AsÃ , se reconoce que el control sobre su propia reproducciÃ³n e fundamental para que la mujeres puedan participar en igualdad de condiciones en la sociedad . AsÃ , la Directrices para la presentaciÃ³n de informes sobre el artÃculo 6 , el derecho a la vida , exigen a los Estados que proporcionen informaciÃ³n sobre la tasas de natalidad y la muertes de mujeres relacionadas con el embarazo y el parto , asÃ como sobre la medidas adoptadas para ayudar a la mujeres a evitar embarazos no deseados y garantizar que no tengan que someterse a abortos clandestinos que pongan en peligro su vida ( PIDCP 2012 ) .</td>\n",
       "    </tr>\n",
       "  </tbody>\n",
       "</table>\n",
       "<p>3000 rows × 3 columns</p>\n",
       "</div>"
      ],
      "text/plain": [
       "                                                                                                                                                                                                                                                                                                                                                                                                                                                                                                                                                                                                                                                                                                                                                                                                                                                                                                                                                                                                                                                                                                                                                                                                                                               Textos_espanol  \\\n",
       "0                                                                                                                                                                                                                                                                            Por ejemplo, el nÃºmero de consultas externas de especialistas es de 319 por cada mil derechohabientes en el SP, en comparaciÃ³n con 338 y 620 por cada mil derechohabientes en el IMSS y el ISSSTE, respectivamente. Si bien algunas de estas diferencias pueden reflejar una necesidad desigual (como la poblaciÃ³n ligeramente mayor del ISSSTE), otras no pueden justificarse de esta manera. El nÃºmero de recetas que no pudieron ser surtidas en su totalidad por un farmacÃ©utico debido a la falta de existencias es de 33% dentro del SP en comparaciÃ³n con 14% dentro del IMSS segÃºn los datos de la encuesta (aunque las propias cifras de los institutos de la SS sugieren tasas mÃ¡s altas de recetas surtidas). Ambas cifras se encuentran entre las mÃ¡s altas de la OCDE. El gasto de bolsillo no se ha reducido significativamente en la última década, a pesar de los esfuerzos para lograr la cobertura sanitaria universal a través de la reforma del SP.   \n",
       "1                                                                                                                                                                                                                                                                                                                                                                                                                                                                                                                                                                                                                                                                                                                                                                En 2007, el gobierno central financió directamente solo el 0,3% del gasto total en salud, pero realizó transferencias específicas para el gasto en salud que ascendieron a otro 5,6% del gasto total. La mayor parte del gasto presupuestario en salud lo realizan los gobiernos de los condados. Por lo tanto, los condados pobres solo pueden ofrecer un bajo nivel de atención a la población local. El gobierno provincial proporciona subsidios del lado de la oferta a los hospitales.   \n",
       "2     Claramente, hay muchos otros factores en juego, en particular, una variedad de barreras y determinantes sociales. Estos pueden estar relacionados con el género, la clase, la etnia, la casta, el idioma y la religión, y surgen de estructuras, normas y procesos sociales arraigados que aceptan e incluso fomentan distribuciones injustas de la riqueza y los recursos sociales. Por ejemplo, las personas que viven con el VIH y algunas otras enfermedades crónicas enfrentan altos niveles de estigma y discriminación que dificultan su acceso a pruebas médicas, tratamiento, atención y apoyo. Por lo tanto, los gobiernos que buscan mejorar los estándares de salud querrán mejorar la condición de la mujer, brindar servicios de salud reproductiva efectivos, implementar programas integrales de lactancia materna en línea con las recomendaciones actuales y aumentar las presiones comunitarias contra el aborto selectivo por sexo. Las personas pobres, que carecen de educación e información, o de fondos para opciones más saludables, son más vulnerables al impacto de las ENT que los ricos y es probable que mueran antes. Directa e indirectamente, las ENT tendrán impactos de gran alcance en el progreso hacia los ODM.   \n",
       "3                                                                                                                          Por ejemplo, el estado australiano de Victoria creó una agencia de promoción de la salud financiada con los impuestos sobre el tabaco, y varios estados de EE.UU. (California, Massachusetts, Arizona y Oregón) han destinado parte de los ingresos procedentes de los impuestos especiales sobre el tabaco a actividades de educación y control del tabaco, mientras que en Nueva Jersey, Ohio y Texas los ingresos procedentes del alcohol se utilizan para programas de educación y prevención relacionados con el alcohol (Sassi et al., 2004), Los impuestos locales pueden ser una fuente importante de ingresos, sobre todo en los sistemas sanitarios descentralizados (por ejemplo, Dinamarca, Finlandia, Italia y Suecia)17 . Además, el nivel de los impuestos locales puede fijarse en función de las preferencias locales sobre el nivel y la calidad de los servicios médicos. Sin embargo, en ausencia de un mecanismo de transferencia ajustado al riesgo y gestionado centralmente, la descentralización reduce la mancomunación de riesgos y podría dar lugar a mayores disparidades sanitarias interregionales.   \n",
       "4                                                                                                                                                                                                                                                                                                                             El consumo anual de alcohol se estima en 15,7 litros al año para los hombres, más de un 50% por encima de la media de la OCDE (10,4) (Sistema mundial de información sobre alcohol y salud de la OMS), lo que puede ayudar a explicar la alta mortalidad por enfermedad hepática relacionada con el alcohol. Si bien la prevalencia de la obesidad en adultos es relativamente baja en comparación con muchos países de la OCDE, más del 30 % de las mujeres en Kazajstán son obesas, en comparación con el 16 % de los hombres (World Obesity, 2016), lo que coloca la tasa entre las mujeres a la par con algunos de los países más obesos de la OCDE. De hecho, una gran proporción de la brecha en la esperanza de vida se explica por una mayor mortalidad entre los jóvenes kazajos de 15 a 29 años, un grupo de edad en el que las tasas generales de mortalidad son más de tres veces más altas que en la UE de los 15.   \n",
       "...                                                                                                                                                                                                                                                                                                                                                                                                                                                                                                                                                                                                                                                                                                                                                                                                                                                                                                                                                                                                                                                                                                                                                                                                                                                       ...   \n",
       "2995                                                                                                                                                                                                                                                                                                                                                                                                                                                                                                                                                                                                                                      Un caucus efectivo se basa en fuertes vínculos con grupos nacionales de mujeres, OSC e institutos de investigación y universidades. El Consejo continúa el trabajo del Consejo Interinstitucional posterior a Beijing y la Oficina de Iniciativas y Alcance de la Mujer de la Casa Blanca. Su objetivo es proporcionar “una respuesta federal coordinada a los desafíos que enfrentan las mujeres y las niñas” y garantizar “que todos los gabinetes y agencias a nivel de gabinete consideren cómo sus políticas y programas responden a las necesidades y necesidades de las mujeres y las niñas”. impactarlos.â€   \n",
       "2996                                                                                                                                                                                                                                                                                                                                                                                                                                                                                                                     Por el contrario, el porcentaje de hogares en edad de trabajar con un hombre que trabaja se mantuvo relativamente estable (en el 76%) a lo largo del tiempo en la mayorÃa de los paÃses (panel A). Alemania, sin embargo, fue testigo de un descenso significativo (de unos 15 puntos porcentuales) en la participaciÃ³n de los hombres en el empleo entre los hogares durante este perÃodo. A. Hogares con un trabajador masculino Panel. En EspaÃ±a, por ejemplo, en 1995 sÃ³lo el 22% (25%) de los hogares contaban con una mujer que trabajaba a tiempo completo (todo el aÃ±o), frente al 42% (52%) del aÃ±o anterior a la crisis. Las mujeres neerlandesas trabajan ahora más semanas al año, aunque no más horas por semana.    \n",
       "2997                                                                                                                                                                                                                                                                                                                                                                                                                                                                                                                                                                                                                                                                                                                                                                                        El análisis utilizará una gama de medidas que reflejen las barreras básicas por un lado, y la asistencia por el otro, para la participación de las mujeres como agentes económicos productivos en los países de la Commonwealth. Según el Banco Mundial (Banco Mundial 2018a). Estas restricciones abarcan decisiones que afectan su movimiento, para conseguir un trabajo. Para muchas mujeres, estas decisiones no se pueden tomar sin el permiso de su marido.   \n",
       "2998                                                                                                                                                                                                                                        La capacitación económica, el apoyo y, a veces, los incentivos que abordan las justificaciones económicas de las familias para casar a sus hijas a una edad temprana brindan alternativas al matrimonio y aumentan el valor de las niñas para sus familias de origen. Un ejemplo es Berhane-Hewan en Etiopía, que proporcionó a las familias una cabra mientras sus hijas permanecieran en el programa y permanecieran solteras hasta los 18 años (Karei y Erulkar, 2010). Otro ejemplo es el programa de transferencia de efectivo Zomba en Malawi, que descubrió que las transferencias de efectivo no condicionadas eran más efectivas para retrasar el matrimonio que las transferencias condicionadas (Baird et al., Al educar y movilizar a los padres y las comunidades—aquellos que deciden cuándo y con quién se casarán las niñas) —para cambiar las normas sociales relacionadas con las expectativas de las niñas y sus perspectivas de matrimonio, estos programas apuntan a retrasar el matrimonio.   \n",
       "2999                                                                                                                                                                                                                                                                                                                                                                                                                               Esto ha sido reconocido por los comitÃ©s en la atenciÃ³n prestada a la salud reproductiva de la mujer, el aborto, la anticoncepciÃ³n, el matrimonio precoz y el embarazo en la adolescencia. AsÃ, se reconoce que el control sobre su propia reproducciÃ³n es fundamental para que las mujeres puedan participar en igualdad de condiciones en la sociedad. AsÃ, las Directrices para la presentaciÃ³n de informes sobre el artÃculo 6, el derecho a la vida, exigen a los Estados que proporcionen informaciÃ³n sobre las tasas de natalidad y las muertes de mujeres relacionadas con el embarazo y el parto, asÃ como sobre las medidas adoptadas para ayudar a las mujeres a evitar embarazos no deseados y garantizar que no tengan que someterse a abortos clandestinos que pongan en peligro su vida (PIDCP 2012).    \n",
       "\n",
       "      sdg  \\\n",
       "0       3   \n",
       "1       3   \n",
       "2       3   \n",
       "3       3   \n",
       "4       3   \n",
       "...   ...   \n",
       "2995    5   \n",
       "2996    5   \n",
       "2997    5   \n",
       "2998    5   \n",
       "2999    5   \n",
       "\n",
       "                                                                                                                                                                                                                                                                                                                                                                                                                                                                                                                                                                                                                                                                                                                                                                                                                                                                                                                                                                                                                                                                                                                                                                                                                                                                                                                                                                                                                                                                                                                                                                                                                                                                                                                                                                                                                                                                                                                                                                                                                                                                                                                                                                                                                                                                                                                                                      Textos_Tokenizados  \n",
       "0                                                                                                                                                                                                                                                                                                                                                                                                                                                                       por ejemplo , el nãºmero de consulta externa de especialista es de 319 por cad mil derechohaby en el sp , en comparaciã³n con 338 y 620 por cad mil derechohaby en el imss y el issst , respectiva . si bien alguna de esta diferencia pued reflej un necesidad desig ( como la poblaciã³n ligera may del issst ) , otra no pued justificars de est maner . el nãºmero de receta que no pudieron ser surtida en su totalidad por un farmacã©utico debido a la falt de existencia es de 33 % dentro del sp en comparaciã³n con 14 % dentro del imss segãºn los dato de la encuest ( aunqu las propia cifra de los instituto de la ss sugy tasa mã¡s alta de receta surtida ) . amba cifra se encu ent las mã¡s alta de la ocd . el gasto de bolsillo no se ha reducido significativa en la última década , a pes de los esfuerzo par logr la cobertur sanitar univers a travé de la reform del sp . Por ejemplo , el nÃºmero de consultas externas de especialistas e de 319 por cada mil derechohabientes en el SP , en comparaciÃ³n con 338 y 620 por cada mil derechohabientes en el IMSS y el ISSSTE , respectivamente . Si bien algunas de estas diferencias pueden reflejar una necesidad desigual ( como la poblaciÃ³n ligeramente mayor del ISSSTE ) , otras no pueden justificarse de esta manera . El nÃºmero de recetas que no pudieron ser surtidas en su totalidad por un farmacÃ©utico debido a la falta de existencias e de 33 % dentro del SP en comparaciÃ³n con 14 % dentro del IMSS segÃºn los datos de la encuesta ( aunque la propias cifras de los institutos de la SS sugieren tasas mÃ¡s altas de recetas surtidas ) . Ambas cifras se encuentran entre la mÃ¡s altas de la OCDE . El gasto de bolsillo no se ha reducido significativamente en la última década , a pesar de los esfuerzos para lograr la cobertura sanitarium universal a través de la reforma del SP .  \n",
       "1                                                                                                                                                                                                                                                                                                                                                                                                                                                                                                                                                                                                                                                                                                                                                                                                                                                                                                                                                                                                                                                                                                                                                                                                                                                                                                                                                                                                       en 2007 , el gobierno cent financió directa solo el 0,3 % del gasto tot en salud , pero realizó transferencia específica par el gasto en salud que ascendieron a otro 5,6 % del gasto tot . la may part del gasto presupuestario en salud lo real los gobierno de los condado . por lo tanto , los condado pobr solo pued ofrec un bajo nivel de atención a la población loc . el gobierno provint proporcion subsidio del lado de la ofert a los hospit . En 2007 , el gobierno central financió directamente solo el 0,3 % del gasto total en salud , pero realizó transferencias específicas para el gasto en salud que ascendieron a otro 5,6 % del gasto total . La mayor parte del gasto presupuestario en salud lo realizan los gobiernos de los condados . Por lo tanto , los condados pobres solo pueden ofrecer un bajo nivel de atención a la población local . El gobierno provincial proporciona subsidios del lado de la oferta a los hospitales .  \n",
       "2     clara , hay mucho otro fact en juego , en particul , un variedad de barrera y determin soc . esto pued est relacionado con el género , la clas , la etn , la cast , el idiom y la religión , y surg de estructura , norma y proceso soc arraigado que aceiv e incluso fom distribuc injusta de la riquez y los recurso soc . por ejemplo , las persona que viv con el vih y alguna otra enfermedad crónicas enfr alto nivel de estigm y discriminación que dificult su acceso a prueba médicas , tratamiento , atención y apoyo . por lo tanto , los gobierno que busc mejor los estánd de salud querrán mejor la condición de la muj , brind servicio de salud reproductiv efectivo , implement programa integr de lactanc matern en línea con las recomendac act y aument las pres comunitaria contr el aborto selectivo por sexo . las persona pobr , que carec de educación e información , o de fondo par opc más salud , son más vuln al impacto de las ent que los rico y es prob que muer ant . direct e indirecta , las ent tendrán impacto de gran alc en el progreso hac los odm . Claramente , hay muchos otros factores en juego , en particular , una variedad de barreras y determinantes sociales . Estos pueden estar relacionados con el género , la clase , la etnia , la casta , el idioma y la religión , y surgen de estructuras , norma y procesos sociales arraigados que aceptan e incluso fomentan distribuciones injustas de la riqueza y los recursos sociales . Por ejemplo , la persona que viven con el VIH y algunas otras enfermedades crónicas enfrentan alto niveles de estigma y discriminación que dificultan su acceso a pruebas médicas , tratamiento , atención y apoyo . Por lo tanto , los gobiernos que buscan mejorar los estándares de salud querrán mejorar la condición de la mujer , brindar servicios de salud reproductiva efectivos , implementar programas integrales de lactancia materna en línea con la recomendaciones actuales y aumentar la presiones comunitarias contra el aborto selectivo por sexo . Las persona pobres , que carecen de educación e información , o de fondos para opciones más saludables , son más vulnerables al impacto de la ENT que los rico y e probable que mueran ante . Directa e indirectamente , la ENT tendrán impactos de gran alcance en el progreso hacia los ODM .  \n",
       "3                                                                                                                                                                               por ejemplo , el estado australiano de victor creó un agenc de promoción de la salud financiad con los impuesto sobr el tabaco , y vario estado de ee.uu . ( californ , massachuset , arizon y oregón ) han destinado part de los ingreso proc de los impuesto espec sobr el tabaco a actividad de educación y control del tabaco , mientra que en nuev jersey , ohio y texa los ingreso proc del alcohol se util par programa de educación y prevención relacionado con el alcohol ( sass et al. , 2004 ) , los impuesto loc pued ser un fuent import de ingreso , sobr todo en los sistema sanitario descentralizado ( por ejemplo , dinamarc , finland , ital y suec ) 17 . ademá , el nivel de los impuesto loc pued fijars en función de las preferencia loc sobr el nivel y la calidad de los servicio médicos . sin embargo , en ausenc de un mecanismo de transferenc ajustado al riesgo y gestionado cent , la descentralización reduc la mancomunación de riesgo y podrí dar lug a may disparidad sanitaria interreg . Por ejemplo , el estado australiano de Victoria creó una agencia de promoción de la salud financiada con los impuestos sobre el tabaco , y varios estados de EE.UU . ( California , Massachusetts , Arizona y Oregón ) han destinado parte de los ingresos procedentes de los impuestos especiales sobre el tabaco a actividades de educación y control del tabaco , mientras que en Nueva Jersey , Ohio y Texas los ingresos procedentes del alcohol se utilizan para programas de educación y prevención relacionados con el alcohol ( Sassi et al. , 2004 ) , Los impuestos locale pueden ser una fuente importante de ingresos , sobre todo en los sistemas sanitarios descentralizados ( por ejemplo , Dinamarca , Finlandia , Italia y Suecia ) 17 . Además , el nivel de los impuestos locale puede fijarse en función de la preferencias locale sobre el nivel y la calidad de los servicios médicos . Sin embargo , en ausencia de un mecanismo de transferencia ajustado al riesgo y gestionado centralmente , la descentralización reduce la mancomunación de riesgos y podría dar lugar a mayores disparidades sanitarias interregionales .  \n",
       "4                                                                                                                                                                                                                                                                                                                                                                                                                                                                                                                                                              el consumo an de alcohol se estim en 15,7 litro al año par los hombr , más de un 50 % por encim de la med de la ocd ( 10,4 ) ( sistem mund de información sobr alcohol y salud de la om ) , lo que pued ayud a explic la alt mortalidad por enfermedad hepátic relacionad con el alcohol . si bien la prevalenc de la obesidad en adulto es relativa baj en comparación con mucho país de la ocd , más del 30 % de las muj en kazajstán son obesa , en comparación con el 16 % de los hombr ( world obes , 2016 ) , lo que coloc la tas ent las muj a la par con alguno de los país más obeso de la ocd . de hecho , un gran proporción de la brech en la esperanz de vid se explic por un may mortalidad ent los jóvenes kazajo de 15 a 29 año , un grupo de edad en el que las tasa gen de mortalidad son más de tre vec más alta que en la ue de los 15 . El consumo anual de alcohol se estima en 15,7 litros al año para los hombre , más de un 50 % por encima de la medium de la OCDE ( 10,4 ) ( Sistema mundial de información sobre alcohol y salud de la OMS ) , lo que puede ayudar a explicar la alta mortalidad por enfermedad hepática relacionada con el alcohol . Si bien la prevalencia de la obesidad en adultos e relativamente baja en comparación con muchos países de la OCDE , más del 30 % de la mujeres en Kazajstán son obesas , en comparación con el 16 % de los hombre ( World Obesity , 2016 ) , lo que coloca la tasa entre la mujeres a la par con algunos de los países más obesos de la OCDE . De hecho , una gran proporción de la brecha en la esperanza de vida se explica por una mayor mortalidad entre los jóvenes kazajos de 15 a 29 años , un grupo de edad en el que la tasas generales de mortalidad son más de tres veces más altas que en la UE de los 15 .  \n",
       "...                                                                                                                                                                                                                                                                                                                                                                                                                                                                                                                                                                                                                                                                                                                                                                                                                                                                                                                                                                                                                                                                                                                                                                                                                                                                                                                                                                                                                                                                                                                                                                                                                                                                                                                                                                                                                                                                                                                                                                                                                                                                                                                                                                                                                                                                                                                                                                  ...  \n",
       "2995                                                                                                                                                                                                                                                                                                                                                                                                                                                                                                                                                                                                                                                                                                                                                                                                                                                                                                                                                                                                                                                                                                                                                                                                        un cauc efectivo se bas en fuert vínculos con grupo nac de muj , osc e instituto de investigación y universidad . el consejo continú el trabajo del consejo interinstituc postery a beid y la oficin de iniciativa y alc de la muj de la cas blanc . su objetivo es proporcion “ un respuest fed coordinad a los desafío que enfr las muj y las niña ” y garantiz “ que todo los gabinet y agencia a nivel de gabinet consid cómo sus política y programa respond a las necesidad y necesidad de las muj y las niña ” . impactarlos.â€ Un caucus efectivo se basa en fuertes vínculos con grupos nacionales de mujeres , OSC e institutos de investigación y universidades . El Consejo continúa el trabajo del Consejo Interinstitucional posterior a Beijing y la Oficina de Iniciativas y Alcance de la Mujer de la Casa Blanca . Su objetivo e proporcionar “ una respuesta federal coordinada a los desafíos que enfrentan la mujeres y la niñas ” y garantizar “ que todos los gabinetes y agencias a nivel de gabinete consideren cómo sus políticas y programas responden a la necesidades y necesidades de la mujeres y la niñas ” . impactarlos.â€  \n",
       "2996                                                                                                                                                                                                                                                                                                                                                                                                                                                                                                                                                                                                                                                                                                                                                                                                                                                                                                                   por el contrario , el porcentas de hog en edad de trabaj con un hombr que trabaj se mantuvo relativa est ( en el 76 % ) a lo largo del tiempo en la mayorã de los paãs ( panel a ) . aleman , sin embargo , fue testigo de un descenso significativo ( de uno 15 punto porc ) en la participaciã³n de los hombr en el empleo ent los hog dur est perãodo . a. hog con un trabajad masculino panel . en espaã±a , por ejemplo , en 1995 sã³lo el 22 % ( 25 % ) de los hog contab con un muj que trabajab a tiempo completo ( todo el aã±o ) , frent al 42 % ( 52 % ) del aã±o antery a la cris . las muj neerlandesa trabas ahor más semana al año , aunqu no más hora por seman . Por el contrario , el porcentaje de hogares en edad de trabajar con un hombre que trabaja se mantuvo relativamente estable ( en el 76 % ) a lo largo del tiempo en la mayorÃa de los paÃses ( panel A ) . Alemania , sin embargo , fue testigo de un descenso significativo ( de unos 15 puntos porcentuales ) en la participaciÃ³n de los hombre en el empleo entre los hogares durante este perÃodo . A. Hogares con un trabajador masculino Panel . En EspaÃ±a , por ejemplo , en 1995 sÃ³lo el 22 % ( 25 % ) de los hogares contaban con una mujer que trabajaba a tiempo completo ( todo el aÃ±o ) , frente al 42 % ( 52 % ) del aÃ±o anterior a la crisis . Las mujeres neerlandesas trabajan ahora más semanas al año , aunque no más horas por semana .  \n",
       "2997                                                                                                                                                                                                                                                                                                                                                                                                                                                                                                                                                                                                                                                                                                                                                                                                                                                                                                                                                                                                                                                                                                                                                                                                                                                                                                                                                                                                                                                                               el anális utilizará un gam de medida que refles las barrera básicas por un lado , y la asistenc por el otro , par la participación de las muj como ag económico productivo en los país de la commonweal . según el banco mund ( banco mund 2018a ) . esta restricc abarc decid que afect su movimiento , par conseguir un trabajo . par mucha muj , esta decid no se pued tom sin el permiso de su marido . El análisis utilizará una gama de medidas que reflejen la barreras básicas por un lado , y la asistencia por el otro , para la participación de la mujeres como agentes económicos productivos en los países de la Commonwealth . Según el Banco Mundial ( Banco Mundial 2018a ) . Estas restricciones abarcan decisiones que afectan su movimiento , para conseguir un trabajo . Para muchas mujeres , estas decisiones no se pueden tomar sin el permiso de su marido .  \n",
       "2998                                                                                                                                                                                                                                                                                                                                                                                                                     la capacitación económic , el apoyo y , a vec , los incentivo que abord las justificac económica de las familia par cas a sus hija a un edad tempran brind alternativa al matrimonio y au el val de las niña par sus familia de orig . un ejemplo es berhane-hewan en etiopí , que proporcionó a las familia un cabr mientra sus hija permanecy en el program y permanecy soltera hast los 18 año ( kare y erulk , 2010 ) . otro ejemplo es el program de transferenc de efectivo zomb en malaw , que descubrió que las transferencia de efectivo no condicionada er más efectiva par retras el matrimonio que las transferencia condicionada ( baird et al. , al educ y moviliz a los padr y las comunidades—aquello que decid cuándo y con quién se casarán las niña ) —para cambi las norma soc relacionada con las expectativa de las niña y sus perspectiva de matrimonio , esto programa apunt a retras el matrimonio . La capacitación económica , el apoyo y , a veces , los incentivos que abordan la justificaciones económicas de la familias para casar a sus hijas a una edad temprana brindan alternativas al matrimonio y aumentan el valor de la niñas para sus familias de origen . Un ejemplo e Berhane-Hewan en Etiopía , que proporcionó a la familias una cabra mientras sus hijas permanecieran en el programa y permanecieran solteras hasta los 18 años ( Karei y Erulkar , 2010 ) . Otro ejemplo e el programa de transferencia de efectivo Zomba en Malawi , que descubrió que la transferencias de efectivo no condicionadas eran más efectivas para retrasar el matrimonio que la transferencias condicionadas ( Baird et al. , Al educar y movilizar a los padre y la comunidades—aquellos que deciden cuándo y con quién se casarán la niñas ) —para cambiar la norma sociales relacionadas con la expectativas de la niñas y sus perspectivas de matrimonio , estos programas apuntan a retrasar el matrimonio .  \n",
       "2999                                                                                                                                                                                                                                                                                                                                                                                                                                                                                                                                                                                                                                                                                                                                                                                 esto ha sido reconocido por los comitã©s en la atenciã³n prestad a la salud reproductiv de la muj , el aborto , la anticoncepciã³n , el matrimonio precoz y el embarazo en la adolescenc . asã , se reconoc que el control sobr su prop reproducciã³n es funda par que las muj pued particip en igualdad de cond en la sociedad . asã , las direct par la presentaciã³n de inform sobr el artãculo 6 , el derecho a la vid , exig a los estado que proporc informaciã³n sobr las tasa de natalidad y las muert de muj relacionada con el embarazo y el parto , asã como sobr las medida adoptada par ayud a las muj a evit embarazo no deseado y garantiz que no teng que someters a aborto clandestino que pong en peligro su vid ( pidcp 2012 ) . Esto ha sido reconocido por los comitÃ©s en la atenciÃ³n prestada a la salud reproductiva de la mujer , el aborto , la anticoncepciÃ³n , el matrimonio precoz y el embarazo en la adolescencia . AsÃ , se reconoce que el control sobre su propia reproducciÃ³n e fundamental para que la mujeres puedan participar en igualdad de condiciones en la sociedad . AsÃ , la Directrices para la presentaciÃ³n de informes sobre el artÃculo 6 , el derecho a la vida , exigen a los Estados que proporcionen informaciÃ³n sobre la tasas de natalidad y la muertes de mujeres relacionadas con el embarazo y el parto , asÃ como sobre la medidas adoptadas para ayudar a la mujeres a evitar embarazos no deseados y garantizar que no tengan que someterse a abortos clandestinos que pongan en peligro su vida ( PIDCP 2012 ) .  \n",
       "\n",
       "[3000 rows x 3 columns]"
      ]
     },
     "execution_count": 308,
     "metadata": {},
     "output_type": "execute_result"
    }
   ],
   "source": [
    "df_obj['Textos_Tokenizados'] = df_obj['Textos_Tokenizados'].apply(lambda x: ' '.join(map(str, x)))\n",
    "df_obj"
   ]
  },
  {
   "cell_type": "code",
   "execution_count": 309,
   "metadata": {},
   "outputs": [
    {
     "data": {
      "text/plain": [
       "0       0\n",
       "1       0\n",
       "2       0\n",
       "3       0\n",
       "4       0\n",
       "       ..\n",
       "2995    0\n",
       "2996    0\n",
       "2997    0\n",
       "2998    0\n",
       "2999    0\n",
       "Name: sdg, Length: 3000, dtype: int32"
      ]
     },
     "execution_count": 309,
     "metadata": {},
     "output_type": "execute_result"
    }
   ],
   "source": [
    "X_data, y_data = df_obj['Textos_Tokenizados'],df_obj['sdg']\n",
    "y_data = (y_data == '5').astype(int)\n",
    "y_data"
   ]
  },
  {
   "cell_type": "code",
   "execution_count": 310,
   "metadata": {},
   "outputs": [
    {
     "data": {
      "text/plain": [
       "sdg\n",
       "0    3000\n",
       "Name: count, dtype: int64"
      ]
     },
     "execution_count": 310,
     "metadata": {},
     "output_type": "execute_result"
    }
   ],
   "source": [
    "y_data.value_counts()"
   ]
  }
 ],
 "metadata": {
  "kernelspec": {
   "display_name": "Python 3",
   "language": "python",
   "name": "python3"
  },
  "language_info": {
   "codemirror_mode": {
    "name": "ipython",
    "version": 3
   },
   "file_extension": ".py",
   "mimetype": "text/x-python",
   "name": "python",
   "nbconvert_exporter": "python",
   "pygments_lexer": "ipython3",
   "version": "3.11.1"
  },
  "orig_nbformat": 4
 },
 "nbformat": 4,
 "nbformat_minor": 2
}
