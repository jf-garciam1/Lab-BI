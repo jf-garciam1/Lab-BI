{
 "cells": [
  {
   "cell_type": "markdown",
   "metadata": {
    "id": "a00Z-GaRWidw",
    "tags": []
   },
   "source": [
    "# Text Classification\n",
    "\n",
    "Course: Business Intelligence  \n",
    "Universidad de los Andes  \n",
    "September, 2023"
   ]
  },
  {
   "cell_type": "code",
   "execution_count": 8,
   "metadata": {},
   "outputs": [
    {
     "name": "stdout",
     "output_type": "stream",
     "text": [
      "Requirement already satisfied: nltk in c:\\users\\pc\\appdata\\local\\programs\\python\\python311\\lib\\site-packages (3.8.1)\n",
      "Requirement already satisfied: click in c:\\users\\pc\\appdata\\local\\programs\\python\\python311\\lib\\site-packages (from nltk) (8.1.7)\n",
      "Requirement already satisfied: joblib in c:\\users\\pc\\appdata\\local\\programs\\python\\python311\\lib\\site-packages (from nltk) (1.1.1)\n",
      "Requirement already satisfied: regex>=2021.8.3 in c:\\users\\pc\\appdata\\local\\programs\\python\\python311\\lib\\site-packages (from nltk) (2023.10.3)\n",
      "Requirement already satisfied: tqdm in c:\\users\\pc\\appdata\\local\\programs\\python\\python311\\lib\\site-packages (from nltk) (4.66.1)\n",
      "Requirement already satisfied: colorama in c:\\users\\pc\\appdata\\roaming\\python\\python311\\site-packages (from click->nltk) (0.4.6)\n",
      "Note: you may need to restart the kernel to use updated packages.\n"
     ]
    },
    {
     "name": "stderr",
     "output_type": "stream",
     "text": [
      "\n",
      "[notice] A new release of pip available: 22.3.1 -> 23.2.1\n",
      "[notice] To update, run: python.exe -m pip install --upgrade pip\n"
     ]
    }
   ],
   "source": [
    "%pip install nltk"
   ]
  },
  {
   "cell_type": "code",
   "execution_count": 9,
   "metadata": {
    "id": "lM_fkbg8Widy"
   },
   "outputs": [],
   "source": [
    "import numpy as np\n",
    "import pandas as pd\n",
    "import nltk\n",
    "\n",
    "\n",
    "from nltk.corpus import stopwords\n",
    "from nltk.tokenize import word_tokenize\n",
    "\n",
    "from sklearn.ensemble import RandomForestClassifier\n",
    "from sklearn.feature_extraction.text import CountVectorizer, TfidfVectorizer\n",
    "from sklearn.metrics import (\n",
    "    ConfusionMatrixDisplay, RocCurveDisplay,\n",
    "    roc_auc_score, precision_score, recall_score, f1_score\n",
    ")\n",
    "from sklearn.model_selection import train_test_split, RandomizedSearchCV\n",
    "from sklearn.pipeline import Pipeline"
   ]
  },
  {
   "cell_type": "code",
   "execution_count": 10,
   "metadata": {
    "id": "326HaIf3bdOF"
   },
   "outputs": [],
   "source": [
    "import warnings\n",
    "warnings.filterwarnings(\"ignore\")"
   ]
  },
  {
   "cell_type": "code",
   "execution_count": 11,
   "metadata": {
    "id": "EaRWWd7_Widy"
   },
   "outputs": [],
   "source": [
    "# Configuring pandas to show all cell content\n",
    "pd.set_option(\"display.max_colwidth\", None)"
   ]
  },
  {
   "cell_type": "code",
   "execution_count": 12,
   "metadata": {
    "colab": {
     "base_uri": "https://localhost:8080/"
    },
    "id": "6bdvE01mWidy",
    "outputId": "ce5933b2-e194-4dff-9236-22e36c351e56"
   },
   "outputs": [
    {
     "name": "stderr",
     "output_type": "stream",
     "text": [
      "[nltk_data] Downloading package punkt to\n",
      "[nltk_data]     C:\\Users\\PC\\AppData\\Roaming\\nltk_data...\n",
      "[nltk_data]   Package punkt is already up-to-date!\n",
      "[nltk_data] Downloading package stopwords to\n",
      "[nltk_data]     C:\\Users\\PC\\AppData\\Roaming\\nltk_data...\n",
      "[nltk_data]   Package stopwords is already up-to-date!\n"
     ]
    }
   ],
   "source": [
    "# Downloading stopwords\n",
    "nltk.download(\"punkt\")\n",
    "nltk.download(\"stopwords\")\n",
    "stop_words = stopwords.words(\"english\")"
   ]
  },
  {
   "cell_type": "code",
   "execution_count": 13,
   "metadata": {
    "colab": {
     "base_uri": "https://localhost:8080/"
    },
    "id": "eQdEPBkDYeXn",
    "outputId": "4f29b8a9-a900-4625-aa08-39f4c5474aa3"
   },
   "outputs": [
    {
     "data": {
      "text/plain": [
       "['i',\n",
       " 'me',\n",
       " 'my',\n",
       " 'myself',\n",
       " 'we',\n",
       " 'our',\n",
       " 'ours',\n",
       " 'ourselves',\n",
       " 'you',\n",
       " \"you're\",\n",
       " \"you've\",\n",
       " \"you'll\",\n",
       " \"you'd\",\n",
       " 'your',\n",
       " 'yours',\n",
       " 'yourself',\n",
       " 'yourselves',\n",
       " 'he',\n",
       " 'him',\n",
       " 'his',\n",
       " 'himself',\n",
       " 'she',\n",
       " \"she's\",\n",
       " 'her',\n",
       " 'hers',\n",
       " 'herself',\n",
       " 'it',\n",
       " \"it's\",\n",
       " 'its',\n",
       " 'itself',\n",
       " 'they',\n",
       " 'them',\n",
       " 'their',\n",
       " 'theirs',\n",
       " 'themselves',\n",
       " 'what',\n",
       " 'which',\n",
       " 'who',\n",
       " 'whom',\n",
       " 'this',\n",
       " 'that',\n",
       " \"that'll\",\n",
       " 'these',\n",
       " 'those',\n",
       " 'am',\n",
       " 'is',\n",
       " 'are',\n",
       " 'was',\n",
       " 'were',\n",
       " 'be',\n",
       " 'been',\n",
       " 'being',\n",
       " 'have',\n",
       " 'has',\n",
       " 'had',\n",
       " 'having',\n",
       " 'do',\n",
       " 'does',\n",
       " 'did',\n",
       " 'doing',\n",
       " 'a',\n",
       " 'an',\n",
       " 'the',\n",
       " 'and',\n",
       " 'but',\n",
       " 'if',\n",
       " 'or',\n",
       " 'because',\n",
       " 'as',\n",
       " 'until',\n",
       " 'while',\n",
       " 'of',\n",
       " 'at',\n",
       " 'by',\n",
       " 'for',\n",
       " 'with',\n",
       " 'about',\n",
       " 'against',\n",
       " 'between',\n",
       " 'into',\n",
       " 'through',\n",
       " 'during',\n",
       " 'before',\n",
       " 'after',\n",
       " 'above',\n",
       " 'below',\n",
       " 'to',\n",
       " 'from',\n",
       " 'up',\n",
       " 'down',\n",
       " 'in',\n",
       " 'out',\n",
       " 'on',\n",
       " 'off',\n",
       " 'over',\n",
       " 'under',\n",
       " 'again',\n",
       " 'further',\n",
       " 'then',\n",
       " 'once',\n",
       " 'here',\n",
       " 'there',\n",
       " 'when',\n",
       " 'where',\n",
       " 'why',\n",
       " 'how',\n",
       " 'all',\n",
       " 'any',\n",
       " 'both',\n",
       " 'each',\n",
       " 'few',\n",
       " 'more',\n",
       " 'most',\n",
       " 'other',\n",
       " 'some',\n",
       " 'such',\n",
       " 'no',\n",
       " 'nor',\n",
       " 'not',\n",
       " 'only',\n",
       " 'own',\n",
       " 'same',\n",
       " 'so',\n",
       " 'than',\n",
       " 'too',\n",
       " 'very',\n",
       " 's',\n",
       " 't',\n",
       " 'can',\n",
       " 'will',\n",
       " 'just',\n",
       " 'don',\n",
       " \"don't\",\n",
       " 'should',\n",
       " \"should've\",\n",
       " 'now',\n",
       " 'd',\n",
       " 'll',\n",
       " 'm',\n",
       " 'o',\n",
       " 're',\n",
       " 've',\n",
       " 'y',\n",
       " 'ain',\n",
       " 'aren',\n",
       " \"aren't\",\n",
       " 'couldn',\n",
       " \"couldn't\",\n",
       " 'didn',\n",
       " \"didn't\",\n",
       " 'doesn',\n",
       " \"doesn't\",\n",
       " 'hadn',\n",
       " \"hadn't\",\n",
       " 'hasn',\n",
       " \"hasn't\",\n",
       " 'haven',\n",
       " \"haven't\",\n",
       " 'isn',\n",
       " \"isn't\",\n",
       " 'ma',\n",
       " 'mightn',\n",
       " \"mightn't\",\n",
       " 'mustn',\n",
       " \"mustn't\",\n",
       " 'needn',\n",
       " \"needn't\",\n",
       " 'shan',\n",
       " \"shan't\",\n",
       " 'shouldn',\n",
       " \"shouldn't\",\n",
       " 'wasn',\n",
       " \"wasn't\",\n",
       " 'weren',\n",
       " \"weren't\",\n",
       " 'won',\n",
       " \"won't\",\n",
       " 'wouldn',\n",
       " \"wouldn't\"]"
      ]
     },
     "execution_count": 13,
     "metadata": {},
     "output_type": "execute_result"
    }
   ],
   "source": [
    "stop_words"
   ]
  },
  {
   "cell_type": "markdown",
   "metadata": {
    "id": "-e5VDRZVWidz"
   },
   "source": [
    "## Data loading and preparation"
   ]
  },
  {
   "cell_type": "code",
   "execution_count": 14,
   "metadata": {
    "id": "qN5gB4xXWidz"
   },
   "outputs": [],
   "source": [
    "fakes_df = pd.read_csv(\"./data/fake-news-unbalanced.csv\")"
   ]
  },
  {
   "cell_type": "code",
   "execution_count": 15,
   "metadata": {
    "colab": {
     "base_uri": "https://localhost:8080/"
    },
    "id": "1c4mDg3yWidz",
    "outputId": "a62581cc-fbf6-4016-89ea-c2b94f7669e5"
   },
   "outputs": [
    {
     "data": {
      "text/plain": [
       "(12990, 5)"
      ]
     },
     "execution_count": 15,
     "metadata": {},
     "output_type": "execute_result"
    }
   ],
   "source": [
    "fakes_df.shape"
   ]
  },
  {
   "cell_type": "code",
   "execution_count": 16,
   "metadata": {
    "colab": {
     "base_uri": "https://localhost:8080/",
     "height": 1000
    },
    "id": "fQw8Ma8yWidz",
    "outputId": "7512d8a9-f973-4049-f1a0-7278d51fc2ad"
   },
   "outputs": [
    {
     "data": {
      "text/html": [
       "<div>\n",
       "<style scoped>\n",
       "    .dataframe tbody tr th:only-of-type {\n",
       "        vertical-align: middle;\n",
       "    }\n",
       "\n",
       "    .dataframe tbody tr th {\n",
       "        vertical-align: top;\n",
       "    }\n",
       "\n",
       "    .dataframe thead th {\n",
       "        text-align: right;\n",
       "    }\n",
       "</style>\n",
       "<table border=\"1\" class=\"dataframe\">\n",
       "  <thead>\n",
       "    <tr style=\"text-align: right;\">\n",
       "      <th></th>\n",
       "      <th>id</th>\n",
       "      <th>title</th>\n",
       "      <th>author</th>\n",
       "      <th>text</th>\n",
       "      <th>label</th>\n",
       "    </tr>\n",
       "  </thead>\n",
       "  <tbody>\n",
       "    <tr>\n",
       "      <th>360</th>\n",
       "      <td>15010</td>\n",
       "      <td>Donald J. Trump’s 10 Point Plan to Put America First: A Response</td>\n",
       "      <td>Anonymous</td>\n",
       "      <td>Tweet Widget by Tanya Golash-Boza \\nHow will Donald Trump’s rhetoric on removing what he calls “illegal aliens” be put into actual policy? One thing is certain: It will take a lot more than even a tripling of the current ICE force of 5,000 to surpass President Obama’s record-breaking deportations. “ICE would still rely on local law enforcement to do the bulk of arrests.” Congress would also have to revise existing immigration laws. Donald J. Trump’s 10 Point Plan to Put America First: A Response by Tanya Golash-Boza \\n\"It will be difficult for a Trump administration to exceed the 2011 levels and it will take time to rebuild this deportation machine.\" \\nWith the election of Donald J. Trump to the Presidency of the United States, many undocumented immigrants and their family members are concerned about their future in this country. How much worse will the United States get with a Trump Presidency? Although politicians do not always live up to their campaign promises, it is worth taking a look at Trump’s proposals to see how likely and/or feasible they are. \\n1. “Begin working on an impenetrable physical wall on the southern border, on day one. Mexico will pay for the wall. ” \\nThere is already a 700-mile wall along the border. Much of the remaining area where there is not a wall is impassable. Building more walls or fencing along the border will require Congressional appropriations. Congress may balk at the extraordinary cost, especially given the fact that border crossings are at a historic low . Whatever money ends up being spent will be a colossal waste of funds. \\n2. “End catch-and-release. Under a Trump administration, anyone who illegally crosses the border will be detained until they are removed out of our country.” \\nDetention centers are currently at full capacity, both at the border and in the interior. Detaining more immigrants would require building more facilities or finding places to detain people. This is possible, but will be costly. Stock in the two major private prison companies (CCA and GEO group) shot up with the announcement of Trump’s win. These companies likely are willing to sell additional detention capacity to the Department of Homeland Security, but there are limits to how much capacity they can provide immediately. It is also possible for the Trump administration to use tent camps in the borderlands deserts to enhance capacity. If it were up to Trump alone, this is not inconceivable. It is incumbent upon us to ensure that the United States does not go back down that shameful route. \\n3. “Move criminal aliens out day one, in joint operations with local, state, and federal law enforcement. We will terminate the Obama administration’s deadly, non-enforcement policies that allow thousands of criminal aliens to freely roam our streets.” \\nThe Obama administration will have deported three million people by the time he leaves office, far more than any previous administration. Here, Trump is referring to the deportation of people with criminal convictions who live in the United States. These are called interior removals, and these reached a historic high in 2011, largely due to cooperation between local police and immigration law enforcement agencies. Returning to these high levels of interior removals would require cooperation with local law enforcement, who may not be on board. It will be difficult for a Trump administration to exceed the 2011 levels and it will take time to rebuild this deportation machine. \\n4. “End sanctuary cities.” \\nTrump could threaten to take away federal funding from sanctuary cities, which would likely lead to massive protest. \\n5. “Immediately terminate President Obama’s two illegal executive amnesties. All immigration laws will be enforced - we will triple the number of ICE agents. Anyone who enters the U.S. illegally is subject to deportation. That is what it means to have laws and to have a country.” \\nTrump can (and likely will) end the Deferred Action to Childhood Arrivals (DACA) program, which has provided employment permits and relief from deportation for undocumented youth. The most likely scenario is that the Trump administration will not renew these permits and they will gradually expire. \\nThere are currently about 5,000 ICE agents in the United States. Trump could triple that number to 15,000. That still would not be enough agents for ICE to engage in very many direct arrests, which require a lot of manpower. ICE would still rely on local law enforcement to do the bulk of arrests. \\n6. “Suspend the issuance of visas to any place where adequate screening cannot occur, until proven and effective vetting mechanisms can be put into place.” \\nThis is likely a plan to try and exclude people from certain national origins from entering the United States as all places where visas are issued have extensive screening. Trump likely could do this relatively easily. \\n7. “Ensure that other countries take their people back when we order them deported.” \\nThe countries he may be referring to here are Cuba, China, Vietnam, and Cambodia. These account for a relatively small number of deportees. \\n8. “Ensure that a biometric entry-exit visa tracking system is fully implemented at all land, air, and sea ports.” \\nA biometric entry system is largely in place. A biometric exit system would be much more complicated and costly to implement. It’s not impossible, but would require a lot of Congressional appropriations. \\n9. “Turn off the jobs and benefits magnet. Many immigrants come to the U.S. illegally in search of jobs, even though federal law prohibits the employment of illegal immigrants.” \\nTrump could expand e-verify , which is already in effect at many places of employment. DACA recipients who are employed may lose their jobs. This strategy would push undocumented immigrants to work under the table or to commit identity fraud. It would not make them leave. \\n10. “Reform legal immigration to serve the best interests of America and its workers, keeping immigration levels within historic norms.” \\nIt is up to Congress to pass laws regarding immigration flows. A Republican-controlled Congress could re-haul immigration policy to reduce the number of visas that we issue annually, or change the nature of those visas from family-based to skills-based visas. Immigration reform has been stalled in Congress for the entirety of the Obama administration. \\nIt is very unlikely that Trump will live up to his promise to deport all 11 million undocumented migrants. President Obama deported about three million people during his administration and it will be challenging for Trump to exceed those numbers. If Trump does exceed those numbers, he will do so by building on the massive deportation machine that President Obama has built. This effort will require a massive expansion in the number of ICE agents, the number of detention beds, and the number of immigration judges – an extremely costly endeavor. Tanya Golash-Boza is a Professor of Sociology at the University of California, Merced. Her most recent book is Deported: Immigrant Policing, Disposable Labor and Global Capitalism (New York University Press, 2015)</td>\n",
       "      <td>1</td>\n",
       "    </tr>\n",
       "    <tr>\n",
       "      <th>3852</th>\n",
       "      <td>2541</td>\n",
       "      <td>Sleep Is the New Status Symbol - The New York Times</td>\n",
       "      <td>Penelope Green</td>\n",
       "      <td>At M. I. T. ’s Media Lab, the digital futurist playground, David Rose is investigating swaddling, bedtime stories and hammocks, as well as lavender oil and cocoons. Mr. Rose, a researcher, an   and the author of “Enchanted Objects: Design, Human Desire and the Internet of Things,” and his colleagues have been   weighted blankets to induce a swaddling sensation and listening to recordings of Icelandic fairy tales  —   all research into an ideal sleep environment that may culminate in a nap pod, or, as he said, “some new furniture form. ” “For me, it’s a swinging bed on a screened porch in northwestern Wisconsin,” he said. “You can hear the loons and the wind through the fir trees, and there’s the weight of 10 blankets on top of me because it’s a cold night. We’re trying a bunch of interventions. ” Meanwhile, at the University of California, Berkeley, Matthew P. Walker, a professor of neuroscience and psychology and the director of the Sleep and Neuroimaging Laboratory there, is working on direct current stimulation as a cure for sleeplessness in the aging brain. Dr. Walker is also sifting through the millions of hours of human sleep data he has received from Sense, a delicately lovely polycarbonate globe designed to look like the National Stadium in Beijing that measures air quality and other intangibles in your bedroom, then suggests tweaks to help you sleep better. “I’ve got a mission,” he said. “I want to reunite humanity with the sleep it is so bereft of. ” Sense is the first product made by Hello Inc. a technology company started by James Proud, a British entrepreneur, for which Dr. Walker is the chief scientist. In Paris, Hugo Mercier, a computer science engineer, has invested in sound waves. He has raised over $10 million to create a headband that uses them to induce sleep. The product, called Dreem, has been   on 500 people (out of a pool of 6, 500 applicants, Mr. Mercier said) and will be ready for sale this summer. That is when Ben Olsen, an Australian entrepreneur, hopes to introduce Thim, a gadget you wear on your finger that uses sound to startle you awake every three minutes for an hour, just before you go to sleep. Sleep disruptions, apparently, can cure sleep disruption (and Mr. Olsen, like all good sleep entrepreneurs, has the research to prove it). It is his second sleep contraption. His first, the   a pair of goggles fitted with tiny   lights that shine back into your eyes, aims to reset your body’s clock. He said that since 2012, he had sold 30, 000 pairs in 40 countries. For years, studies upon studies have shown how bad sleep weakens the immune system, impairs learning and memory, contributes to depression and other mood and mental disorders, as well as obesity, diabetes, cancer and an early death. (Sedated sleep  —   hello Ambien  —   has been shown to be as deleterious as poor sleep.) The federal Centers for Disease Control and Prevention calls sleeplessness a public health concern. Good sleep helps brain plasticity, studies in mice have shown poor sleep will make you fat and sad, and then will kill you. It is also expensive: Last year, the RAND Corporation published a study that calculated the business loss of poor sleep in the United States at $411 billion  —   a gross domestic product loss of 2. 28 percent. Companies now fight “presenteeism,” a neologism that describes the lackluster performance of     employees, with sleep programs like Sleepio, an online sleep coach, and sleep fairs, like the one hosted last month in Manhattan by Nancy H. Rothstein, director of Circadian Corporate Sleep Programs and otherwise known as the Sleep Ambassador, for LinkedIn. For the last few years, Ms. Rothstein has been designing sleep education and training programs for a number of Fortune 500 companies. At the LinkedIn sleep fair, she taught attendees how to make a bed (use hospital corners, please) and gave out analog alarm clocks. (It was her former husband’s snoring, she said, that led her to a career as a sleep evangelist.) If sleep used to be the new sex, as Marian Salzman, a trend spotter and chief executive of Havas PR North America, proclaimed 10 years ago, today it is a measure of success  —   a skill to be cultivated and nourished  —   as a “human potential enhancer,” as one West Coast entrepreneur told me, and life extender. “Sleep is the single most effective thing you can do to reset your brain and body,” Dr. Walker of U. C. Berkeley said. “We have a saying in medicine: What gets measured, gets managed. ” Sleep entrepreneurs from Silicon Valley and beyond have poured into the sleep space, as branders like to say  —   a $32 billion market in 2012  —   formerly inhabited by   mattress and pharmaceutical companies. “I can see sleep being another weapon in competitive parenting and ” Ms. Salzman said. “If you want your child to succeed, do you have to buy them these sleep devices? Sleep is personal, it’s class, not mass, and now the sleep industry is based on technical services, customized for me. It’s a bizarre marriage of high tech and low tech. Chamomile tea is going to have a resurgence, as the antithesis to the whole pharma thing. ” The familiar paradigm of success used to center on the narrative of the short sleeper: Corporate titans and world leaders  —   like Martha Stewart and our last two presidents  —   counted abbreviated rest as proof of their prowess. It turns out that short sleepers, as they are known, may have a genetic mutation, as Arianna Huffington pointed out in her 2016 book, “The Sleep Revolution: Transforming Your Life One Night at a Time. ” (It’s worth noting that George W. Bush, formerly a sleep outlier among his presidential peers for clocking in around nine hours of nightly   along with a daily nap, is newly popular.) The Army has proclaimed sleep a pillar of peak soldier performance. Jeff Bezos, the chief executive of Amazon, who used to take a sleeping bag to work when he was a lowly computer programmer, has said that his eight hours of sleep each night were good for his stockholders. Ms. Huffington’s new company, Thrive Global, whose   investors include the internet entrepreneur Sean Parker and the venture capital firm Greycroft Partners, is working with Accenture, JP Morgan Chase and Uber, among other companies, on antiburnout programming, which educates their employees on the importance of sleep. Aetna, the health care company, is paying its workers up to $500 a year if they can prove they have slept for seven hours or more for 20 days in a row. But the growing pile of apps, gizmos and gurus  —   some from unlikely corners  —   has led to “pandemonium in the bedroom,” Ms. Rothstein said. In 2015, the actor Jeff Bridges made a   album, “Dreaming With Jeff,” a project for Squarespace, that reached No. 2 on Billboard’s New Age chart and raised $280, 000 for the No Kid Hungry campaign, for which he is the national spokesman. He collaborated with Keefus Ciancia, the composer and music producer, on a truly weird collection of   stories, musings about death and also a humming song, with Mr. Bridges’s familiar gruff voice and all manner of ambient sounds that many listeners found more alarming than  . “I don’t know where this is leading,” Mr. Bridges said the other day, “but I’m steeping myself in the subject. We’re working on something called Sleep Club, which will be sort of a hub for all things sleep related. ” “Dreaming With Jeff” made me anxious, as did “Sleep With Me,” a podcast by Drew Ackerman, a gravelly voiced librarian in San Francisco, whose “boring bedtime stories” are designed to cure insomnia and are downloaded at a rate of 1. 3 million a month, as The New Yorker reported last year. I’m more drawn to the thousands of “songs” in Spotify’s Sleep Sound Library, particularly “full gutters” and “office ” and I have a white noise machine. But recently, desperately, I craved a more substantial intervention, perhaps a cure for the 3 a. m. fretting that has plagued me for years. Mr. Mercier sent me his Dreem headset, a weighty crown of rubber and wire that he warned would be a tad uncomfortable. The finished product, about $400, he said, will be much lighter and slimmer. But it wasn’t the heft of the thing that had me pulling it off each night. It skeeved me out that it was reading  —   and interfering with  —   my brain waves, a process I would rather not outsource. I was just as wary of the   goggles, $299, which make for a   selfie in a darkened room. My eye sockets glowed a deep fluorescent green, and terrified the cat. The Ghost Pillow, $85, has “    technology” designed to keep your head cool. It is wildly comfy, but when I read what it is made from, a polyurethane foam, I lost sleep. I bought a Good Night Light LED Sleep bulb, $28, which comes with its own “patented technology” to support your body’s melatonin production. I can’t tell if that’s what happened, but since the bulb is too dim for my   eyes, I struggled to read my   sleep aid, a worn copy of “The Pursuit of Love,” by Nancy Mitford, and knocked off a good   earlier than usual. I was up again at 3 a. m. however, as my new Sense pod alerted me the next day, through an app on my phone. And again at 5 a. m. when the cat swatted the pod off the night stand and it glowed red in protest. “There was a noise disturbance,” the app explained. My   sleep summary, as provided by Sense, was both compelling and  . Why is my air quality “not ideal”? And how comfortable am I sharing my sleep habits with a Silicon Valley  ? Ms. Rothstein, the sleep ambassador, is less bothered by privacy concerns than by the temptation to wakefulness that phone interfaces pose. And nearly every gizmo seemed to have one. “I’d like to have a survey done to show how many people are also reading their texts while they’re tracking their sleep,” Ms. Rothstein said. “If you want to improve your sleep, you have to make some changes. Your Fitbit and your Apple Watch are not going to do it for you. We’ve lost the simplicity of sleep. All this writing, all these websites, all this stuff. I’m thinking, Just sleep. I want to say: ‘Shh. Make it dark, quiet and cool. Take a bath. ’” Ms. Rothstein taught me her relaxation recipe, a practice that mixed gratitude with body awareness and breathing. Start with your toes, she said, and thank your body parts for their hard work. (My favorite: “Knees, I know it’s not always easy for you. You can rest now. ”) Still, the best sleep I’ve had in weeks cost $22, and lasted 33 minutes. It was a Deep Rest “class” at Inscape, a meditation studio in the Chelsea neighborhood of Manhattan designed by Winka Dubbeldam, the   Dutch architect, to evoke the temple at Burning Man, and other esoteric spaces, and created by Khajak Keledjian, a founder, with his brother, Haro, of Intermix, which they sold to the Gap for $130 million in 2013. Mr. Keledjian, a meditator, aims to make the practice both secular and modern: a “mindful luxury,” he said. Though there are human “facilitators” in each class, who gently touch the feet of snoring attendees if they get too loud, the practice is guided by a recording made by an Australian female member of Mr. Keledjian’s company. “We call her ‘Skye,’” he said. It was lunchtime on a rainy Tuesday, and I settled onto a soft mat outfitted with a bolster, a pillow and a cozy fleece blanket. “Skye” urged me to stay awake, and then delivered a script like Ms. Rothstein’s, in mellifluous antipodean tones. I drifted once or twice, and from the muffled snorts of the other attendees, they did too. That night, I slept until dawn.</td>\n",
       "      <td>0</td>\n",
       "    </tr>\n",
       "    <tr>\n",
       "      <th>4047</th>\n",
       "      <td>2929</td>\n",
       "      <td>Capitol Hill Source: Intel Chair Nunes Temporarily Vacated Russia Probe to Keep Focus on Russia</td>\n",
       "      <td>Neil W. McCabe</td>\n",
       "      <td>A Capitol Hill source familiar with the chairman of the House Permanent Select Committee on Intelligence, Rep. Devin Nunes ( ) told Breitbart News that Nunes stepped away from the committee’s investigation into Russia’s participation in the 2016 election cycle as a result of a coordinated political attack by the Left. [Nunes’ announcement came as the House Ethics Committee released a statement disclosing that the committee was investigating public allegations that Nunes made unauthorized disclosure of classified documents.  “This was a coordinated attack by   groups against Nunes,” the source said. “As the Ethics Committee does its inquiry, he could not have other Republican committee members constantly having to defend him instead of focusing on the Russia investigation and particularly the abuse of intelligence through the improper unmasking of Americans’ names for political purposes. ” Nunes was not pushed by House Republican leadership to recuse himself, but it was not helpful to have other Republicans, notably Sen. John McCain ( ) and Sen. Lindsey Graham ( ) join Democrats in questioning his motives and competence. Sunday, McCain told Martha Raddatz on ABC’s “This Week with George Stephanopoulos” Nunes was hindering congressional efforts to determine how the Russians interfered in the 2016 election cycle, when he communicated with the White House about information he gathered from a whistle blower with informing Democrats on his committee. “If we’re really going to get to the bottom of these things, it’s got to be done in a bipartisan fashion. And as far as I could tell, Congressman Nunes killed that. ” The Los Angeles Times reported March 22 that Rep. Adam Schiff ( ) top Democrat on the the Intel Committee told the paper: Schiff said he raised his concerns directly with Nunes after the Republican disclosed new information publicly and then to the White House. He stopped short of saying whether Nunes was improperly making classified information public, saying instead that his actions were “beyond irregular. ” Nunes’ actions further demonstrated the need for an independent inquiry into Russia’s actions during the campaign, Schiff said. “We’re the only investigation there is. If we don’t do it, no one is going to do it,” Schiff said. “Now, perhaps the White House would like it that way. But the American people, I think, want there to be a credible investigation. And if we’re not going to conduct it, then we need to have an independent commission do it. ” The recusal is temporary and as soon as possible, the chairman intends to resume full control of the committee as soon as the House Ethics Committee resolves the charges made by   groups, the source said. The source said Nunes hopes the Ethics Committee will work on his case during the Easter recess so the investigation can be wrapped up as soon as possible. Capitol Hill conservatives are now watching to see if Nunes will also recuse himself from the probe into former national security adviser Susan Rice.</td>\n",
       "      <td>0</td>\n",
       "    </tr>\n",
       "    <tr>\n",
       "      <th>6509</th>\n",
       "      <td>7797</td>\n",
       "      <td>Trump: ’Sometimes You Have to Fuel the Well’ - Military ’More Important’ Than a Balanced Budget, ’We’ll Get There’ - Breitbart</td>\n",
       "      <td>Ian Hanchett</td>\n",
       "      <td>During an interview aired on Thursday’s “Hannity,” on the Fox News Channel, President Donald Trump said, “a balanced budget is fine, but sometimes you have to fuel the well in order to really get the economy going. And we have to take care of our military. Our military is more important to me than a balanced budget, because we’ll get there with a balanced budget. ”  Trump was asked [relevant exchange begins around 7:00] how important a balanced budget is to him. He answered, “So, a balanced budget is fine, but sometimes you have to fuel the well in order to really get the economy going. And we have to take care of our military. Our military is more important to me than a balanced budget, because we’ll get there with a balanced budget. But we have a military that’s really depleted. And I’m negotiating the price of airplanes, can you believe this? I cut off hundreds of millions of dollars off one particular plane, hundreds of millions of dollars, in a short period of time. ” He added, “I want a balanced budget eventually, but I want to have a strong military. To me, that’s much more important than anything. ” Follow Ian Hanchett on Twitter @IanHanchett</td>\n",
       "      <td>0</td>\n",
       "    </tr>\n",
       "    <tr>\n",
       "      <th>5701</th>\n",
       "      <td>6192</td>\n",
       "      <td>Russian Official Apologizes for Doping Problem but Says Athletes Shouldn’t Be Barred - The New York Times</td>\n",
       "      <td>Mike McPhate</td>\n",
       "      <td>Russia, facing deepening scrutiny over accusations that it orchestrated a doping campaign during the Sochi Olympics in 2014, on Sunday made a public plea for its track and field athletes to be allowed to compete in this summer’s Games in Rio de Janeiro. Writing in The Sunday Times, a British newspaper, the Russian sports minister said Russian officials, coaches and athletes made “serious mistakes,” but he stopped short of specifying them or admitting to any state role. “We are very sorry that athletes who tried to deceive us, and the world, were not caught sooner,” wrote the sports minister, Vitaly Mutko. “We are very sorry because Russia is committed to upholding the highest standards in sport and is opposed to anything that threatens the Olympic values. ” But he added: “It cannot be right that clean athletes should suffer for the behavior of others. In no other walk of life would this happen. ” The accusations of an elaborate drug operation at the 2014 Winter Olympics, published last week in The New York Times, have led to growing calls to bar Russia and its powerhouse track and field team from the Rio Games, which are set to open in August. Craig Reedie, the president of the World   Agency, told the BBC on Saturday that it was “highly unlikely” that Russia’s antidoping agency would be declared compliant with world sports rules in time for the Games. Russia was provisionally suspended from international track and field competition by the International Association of Athletics Federations in November after WADA issued a   report that outlined a pervasive culture of doping among the country’s sports programs. The I. A. A. F. is expected to decide next month whether the country has done enough to fix the problems and have its eligibility reinstated. In the New York Times report, Grigory Rodchenkov, a former director of Russia’s antidoping laboratory, detailed how a doping program that involved dozens of athletes unfolded at the Sochi Games. Dr. Rodchenkov said state antidoping experts and members of the intelligence service covertly replaced tainted urine samples with clean ones collected from the athletes months earlier, before they started doping. Russia has reacted to the accusations with statements both deploring the use of   drugs by its athletes and vigorously rejecting contentions that it was involved. On Thursday, the Russian sports ministry acknowledged in a statement that doping problems existed among its athletes while expressing “shock” over Dr. Rodchenkov’s disclosures. Speaking to reporters the next day, a spokesman for President Vladimir V. Putin said, “All this simply looks like slander by a turncoat. ” The deputy sports minister, Yuri Nagornykh, said Russia and the athletes named in the Times article were considering whether to file a defamation lawsuit. On Sunday, Mr. Mutko struck a much more conciliatory tone. He said Russian officials were doing all they could to stamp out doping by the country’s athletes. He also said that aspiring Olympians would be subjected to additional tests and that two “international experts” were now based in Moscow to supervise the country’s antidoping agency. “We have done everything that has been asked of us by the I. A. A. F. in order to be reinstated,” Mr. Mutko wrote in The Sunday Times. However, he added, the scourge of doping extends worldwide. To single out Russia would be unfair, he said. “The Olympic Games should be a cause of unity,” he said. “Barring Russia’s athletes from competing in Rio would risk tearing this unity apart. ” Peter Donnelly, the director of the Centre for Sport Policy Studies at the University of Toronto, said on Sunday that Mr. Mutko had touched on a legitimate problem with how doping violations are handled by sports governing bodies. The International Olympic Committee and world sport federations need to find ways to target punishments at those who are complicit in an athlete’s doping, Dr. Donnelly said, adding, “It’s difficult for me to see how punishing all pending Russian Olympic track and field athletes can be considered as justice. ”</td>\n",
       "      <td>0</td>\n",
       "    </tr>\n",
       "  </tbody>\n",
       "</table>\n",
       "</div>"
      ],
      "text/plain": [
       "         id  \\\n",
       "360   15010   \n",
       "3852   2541   \n",
       "4047   2929   \n",
       "6509   7797   \n",
       "5701   6192   \n",
       "\n",
       "                                                                                                                               title  \\\n",
       "360                                                                 Donald J. Trump’s 10 Point Plan to Put America First: A Response   \n",
       "3852                                                                             Sleep Is the New Status Symbol - The New York Times   \n",
       "4047                                 Capitol Hill Source: Intel Chair Nunes Temporarily Vacated Russia Probe to Keep Focus on Russia   \n",
       "6509  Trump: ’Sometimes You Have to Fuel the Well’ - Military ’More Important’ Than a Balanced Budget, ’We’ll Get There’ - Breitbart   \n",
       "5701                       Russian Official Apologizes for Doping Problem but Says Athletes Shouldn’t Be Barred - The New York Times   \n",
       "\n",
       "              author  \\\n",
       "360        Anonymous   \n",
       "3852  Penelope Green   \n",
       "4047  Neil W. McCabe   \n",
       "6509    Ian Hanchett   \n",
       "5701    Mike McPhate   \n",
       "\n",
       "                                                                                                                                                                                                                                                                                                                                                                                                                                                                                                                                                                                                                                                                                                                                                                                                                                                                                                                                                                                                                                                                                                                                                                                                                                                                                                                                                                                                                                                                                                                                                                                                                                                                                                                                                                                                                                                                                                                                                                                                                                                                                                                                                                                                                                                                                                                                                                                                                                                                                                                                                                                                                                                                                                                                                                                                                                                                                                                                                                                                                                                                                                                                                                                                                                                                                                                                                                                                                                                                                                                                                                                                                                                                                                                                                                                                                                                                                                                                                                                                                                                                                                                                                                                                                                                                                                                                                                                                                                                                                                                                                                                                                                                                                                                                                                                                                                                                                                                                                                                                                                                                                                                                                                                                                                                                                                                                                                                                                                                                                                                                                                                                                                                                                                                                                                                                                                                                                                                                                                                                                                                                                                                                                                                                                                                                                                                                                                                                                                                                                                                                                                                                                                                                                                                                                                                                                                                                                                                                                                                                                                                                                                                                                                                                                                                                                                                                                                                                                                                                                                                                                                                                                                                                                                                                                                                                                                                                                                                                                                                                                                                                                                                                                                                                                                                                                                                                                                                                                                                                                                                                                                                                                                                                                                                                                                                                                                                                                                                                                                                                                                                                                                                                                                                                                                                                                                                                                                                                                                                                                                                                                                                                                                                                                                                                                                                                                                                                                                                                                                                                                                                                                                                                                                                                                                                                                                                                                                                                                                                                                                                                                                                                                                                                                                                                                                                                                                                                                                                                                                                                                                                                                                                                                                                                                                                                                                                                                                                                                                                                                                                                                                                                                                                                                                                                                                                                                                                                                                                                                                                                                                                text  \\\n",
       "360                                                                                                                                                                                                                                                                                                                                                                                                                                                                                                                                                                                                                                                                                                                                                                                                                                                                                                                                                                                                                                                                                                                                                                                                                                                                                                                                                                                                                                                                                                                                                                                                                                                                                                                                                                                                                                                                                                                                                                                                                                                                                                                                                                                                                                                                                                                                                                                                                                                                                                                                                                                                                                                                                                                                                                                                                                                                                                                                                                                                                                                                                                                                                                                                                                                                                                                                                                                                                                                                                                                                                                                                                                                                                                                                                                                                                                                                                                                                                                                                                                                                                                                                                                                                                                                                                                                                                                                                                                                                                                                                                                                Tweet Widget by Tanya Golash-Boza \\nHow will Donald Trump’s rhetoric on removing what he calls “illegal aliens” be put into actual policy? One thing is certain: It will take a lot more than even a tripling of the current ICE force of 5,000 to surpass President Obama’s record-breaking deportations. “ICE would still rely on local law enforcement to do the bulk of arrests.” Congress would also have to revise existing immigration laws. Donald J. Trump’s 10 Point Plan to Put America First: A Response by Tanya Golash-Boza \\n\"It will be difficult for a Trump administration to exceed the 2011 levels and it will take time to rebuild this deportation machine.\" \\nWith the election of Donald J. Trump to the Presidency of the United States, many undocumented immigrants and their family members are concerned about their future in this country. How much worse will the United States get with a Trump Presidency? Although politicians do not always live up to their campaign promises, it is worth taking a look at Trump’s proposals to see how likely and/or feasible they are. \\n1. “Begin working on an impenetrable physical wall on the southern border, on day one. Mexico will pay for the wall. ” \\nThere is already a 700-mile wall along the border. Much of the remaining area where there is not a wall is impassable. Building more walls or fencing along the border will require Congressional appropriations. Congress may balk at the extraordinary cost, especially given the fact that border crossings are at a historic low . Whatever money ends up being spent will be a colossal waste of funds. \\n2. “End catch-and-release. Under a Trump administration, anyone who illegally crosses the border will be detained until they are removed out of our country.” \\nDetention centers are currently at full capacity, both at the border and in the interior. Detaining more immigrants would require building more facilities or finding places to detain people. This is possible, but will be costly. Stock in the two major private prison companies (CCA and GEO group) shot up with the announcement of Trump’s win. These companies likely are willing to sell additional detention capacity to the Department of Homeland Security, but there are limits to how much capacity they can provide immediately. It is also possible for the Trump administration to use tent camps in the borderlands deserts to enhance capacity. If it were up to Trump alone, this is not inconceivable. It is incumbent upon us to ensure that the United States does not go back down that shameful route. \\n3. “Move criminal aliens out day one, in joint operations with local, state, and federal law enforcement. We will terminate the Obama administration’s deadly, non-enforcement policies that allow thousands of criminal aliens to freely roam our streets.” \\nThe Obama administration will have deported three million people by the time he leaves office, far more than any previous administration. Here, Trump is referring to the deportation of people with criminal convictions who live in the United States. These are called interior removals, and these reached a historic high in 2011, largely due to cooperation between local police and immigration law enforcement agencies. Returning to these high levels of interior removals would require cooperation with local law enforcement, who may not be on board. It will be difficult for a Trump administration to exceed the 2011 levels and it will take time to rebuild this deportation machine. \\n4. “End sanctuary cities.” \\nTrump could threaten to take away federal funding from sanctuary cities, which would likely lead to massive protest. \\n5. “Immediately terminate President Obama’s two illegal executive amnesties. All immigration laws will be enforced - we will triple the number of ICE agents. Anyone who enters the U.S. illegally is subject to deportation. That is what it means to have laws and to have a country.” \\nTrump can (and likely will) end the Deferred Action to Childhood Arrivals (DACA) program, which has provided employment permits and relief from deportation for undocumented youth. The most likely scenario is that the Trump administration will not renew these permits and they will gradually expire. \\nThere are currently about 5,000 ICE agents in the United States. Trump could triple that number to 15,000. That still would not be enough agents for ICE to engage in very many direct arrests, which require a lot of manpower. ICE would still rely on local law enforcement to do the bulk of arrests. \\n6. “Suspend the issuance of visas to any place where adequate screening cannot occur, until proven and effective vetting mechanisms can be put into place.” \\nThis is likely a plan to try and exclude people from certain national origins from entering the United States as all places where visas are issued have extensive screening. Trump likely could do this relatively easily. \\n7. “Ensure that other countries take their people back when we order them deported.” \\nThe countries he may be referring to here are Cuba, China, Vietnam, and Cambodia. These account for a relatively small number of deportees. \\n8. “Ensure that a biometric entry-exit visa tracking system is fully implemented at all land, air, and sea ports.” \\nA biometric entry system is largely in place. A biometric exit system would be much more complicated and costly to implement. It’s not impossible, but would require a lot of Congressional appropriations. \\n9. “Turn off the jobs and benefits magnet. Many immigrants come to the U.S. illegally in search of jobs, even though federal law prohibits the employment of illegal immigrants.” \\nTrump could expand e-verify , which is already in effect at many places of employment. DACA recipients who are employed may lose their jobs. This strategy would push undocumented immigrants to work under the table or to commit identity fraud. It would not make them leave. \\n10. “Reform legal immigration to serve the best interests of America and its workers, keeping immigration levels within historic norms.” \\nIt is up to Congress to pass laws regarding immigration flows. A Republican-controlled Congress could re-haul immigration policy to reduce the number of visas that we issue annually, or change the nature of those visas from family-based to skills-based visas. Immigration reform has been stalled in Congress for the entirety of the Obama administration. \\nIt is very unlikely that Trump will live up to his promise to deport all 11 million undocumented migrants. President Obama deported about three million people during his administration and it will be challenging for Trump to exceed those numbers. If Trump does exceed those numbers, he will do so by building on the massive deportation machine that President Obama has built. This effort will require a massive expansion in the number of ICE agents, the number of detention beds, and the number of immigration judges – an extremely costly endeavor. Tanya Golash-Boza is a Professor of Sociology at the University of California, Merced. Her most recent book is Deported: Immigrant Policing, Disposable Labor and Global Capitalism (New York University Press, 2015)   \n",
       "3852  At M. I. T. ’s Media Lab, the digital futurist playground, David Rose is investigating swaddling, bedtime stories and hammocks, as well as lavender oil and cocoons. Mr. Rose, a researcher, an   and the author of “Enchanted Objects: Design, Human Desire and the Internet of Things,” and his colleagues have been   weighted blankets to induce a swaddling sensation and listening to recordings of Icelandic fairy tales  —   all research into an ideal sleep environment that may culminate in a nap pod, or, as he said, “some new furniture form. ” “For me, it’s a swinging bed on a screened porch in northwestern Wisconsin,” he said. “You can hear the loons and the wind through the fir trees, and there’s the weight of 10 blankets on top of me because it’s a cold night. We’re trying a bunch of interventions. ” Meanwhile, at the University of California, Berkeley, Matthew P. Walker, a professor of neuroscience and psychology and the director of the Sleep and Neuroimaging Laboratory there, is working on direct current stimulation as a cure for sleeplessness in the aging brain. Dr. Walker is also sifting through the millions of hours of human sleep data he has received from Sense, a delicately lovely polycarbonate globe designed to look like the National Stadium in Beijing that measures air quality and other intangibles in your bedroom, then suggests tweaks to help you sleep better. “I’ve got a mission,” he said. “I want to reunite humanity with the sleep it is so bereft of. ” Sense is the first product made by Hello Inc. a technology company started by James Proud, a British entrepreneur, for which Dr. Walker is the chief scientist. In Paris, Hugo Mercier, a computer science engineer, has invested in sound waves. He has raised over $10 million to create a headband that uses them to induce sleep. The product, called Dreem, has been   on 500 people (out of a pool of 6, 500 applicants, Mr. Mercier said) and will be ready for sale this summer. That is when Ben Olsen, an Australian entrepreneur, hopes to introduce Thim, a gadget you wear on your finger that uses sound to startle you awake every three minutes for an hour, just before you go to sleep. Sleep disruptions, apparently, can cure sleep disruption (and Mr. Olsen, like all good sleep entrepreneurs, has the research to prove it). It is his second sleep contraption. His first, the   a pair of goggles fitted with tiny   lights that shine back into your eyes, aims to reset your body’s clock. He said that since 2012, he had sold 30, 000 pairs in 40 countries. For years, studies upon studies have shown how bad sleep weakens the immune system, impairs learning and memory, contributes to depression and other mood and mental disorders, as well as obesity, diabetes, cancer and an early death. (Sedated sleep  —   hello Ambien  —   has been shown to be as deleterious as poor sleep.) The federal Centers for Disease Control and Prevention calls sleeplessness a public health concern. Good sleep helps brain plasticity, studies in mice have shown poor sleep will make you fat and sad, and then will kill you. It is also expensive: Last year, the RAND Corporation published a study that calculated the business loss of poor sleep in the United States at $411 billion  —   a gross domestic product loss of 2. 28 percent. Companies now fight “presenteeism,” a neologism that describes the lackluster performance of     employees, with sleep programs like Sleepio, an online sleep coach, and sleep fairs, like the one hosted last month in Manhattan by Nancy H. Rothstein, director of Circadian Corporate Sleep Programs and otherwise known as the Sleep Ambassador, for LinkedIn. For the last few years, Ms. Rothstein has been designing sleep education and training programs for a number of Fortune 500 companies. At the LinkedIn sleep fair, she taught attendees how to make a bed (use hospital corners, please) and gave out analog alarm clocks. (It was her former husband’s snoring, she said, that led her to a career as a sleep evangelist.) If sleep used to be the new sex, as Marian Salzman, a trend spotter and chief executive of Havas PR North America, proclaimed 10 years ago, today it is a measure of success  —   a skill to be cultivated and nourished  —   as a “human potential enhancer,” as one West Coast entrepreneur told me, and life extender. “Sleep is the single most effective thing you can do to reset your brain and body,” Dr. Walker of U. C. Berkeley said. “We have a saying in medicine: What gets measured, gets managed. ” Sleep entrepreneurs from Silicon Valley and beyond have poured into the sleep space, as branders like to say  —   a $32 billion market in 2012  —   formerly inhabited by   mattress and pharmaceutical companies. “I can see sleep being another weapon in competitive parenting and ” Ms. Salzman said. “If you want your child to succeed, do you have to buy them these sleep devices? Sleep is personal, it’s class, not mass, and now the sleep industry is based on technical services, customized for me. It’s a bizarre marriage of high tech and low tech. Chamomile tea is going to have a resurgence, as the antithesis to the whole pharma thing. ” The familiar paradigm of success used to center on the narrative of the short sleeper: Corporate titans and world leaders  —   like Martha Stewart and our last two presidents  —   counted abbreviated rest as proof of their prowess. It turns out that short sleepers, as they are known, may have a genetic mutation, as Arianna Huffington pointed out in her 2016 book, “The Sleep Revolution: Transforming Your Life One Night at a Time. ” (It’s worth noting that George W. Bush, formerly a sleep outlier among his presidential peers for clocking in around nine hours of nightly   along with a daily nap, is newly popular.) The Army has proclaimed sleep a pillar of peak soldier performance. Jeff Bezos, the chief executive of Amazon, who used to take a sleeping bag to work when he was a lowly computer programmer, has said that his eight hours of sleep each night were good for his stockholders. Ms. Huffington’s new company, Thrive Global, whose   investors include the internet entrepreneur Sean Parker and the venture capital firm Greycroft Partners, is working with Accenture, JP Morgan Chase and Uber, among other companies, on antiburnout programming, which educates their employees on the importance of sleep. Aetna, the health care company, is paying its workers up to $500 a year if they can prove they have slept for seven hours or more for 20 days in a row. But the growing pile of apps, gizmos and gurus  —   some from unlikely corners  —   has led to “pandemonium in the bedroom,” Ms. Rothstein said. In 2015, the actor Jeff Bridges made a   album, “Dreaming With Jeff,” a project for Squarespace, that reached No. 2 on Billboard’s New Age chart and raised $280, 000 for the No Kid Hungry campaign, for which he is the national spokesman. He collaborated with Keefus Ciancia, the composer and music producer, on a truly weird collection of   stories, musings about death and also a humming song, with Mr. Bridges’s familiar gruff voice and all manner of ambient sounds that many listeners found more alarming than  . “I don’t know where this is leading,” Mr. Bridges said the other day, “but I’m steeping myself in the subject. We’re working on something called Sleep Club, which will be sort of a hub for all things sleep related. ” “Dreaming With Jeff” made me anxious, as did “Sleep With Me,” a podcast by Drew Ackerman, a gravelly voiced librarian in San Francisco, whose “boring bedtime stories” are designed to cure insomnia and are downloaded at a rate of 1. 3 million a month, as The New Yorker reported last year. I’m more drawn to the thousands of “songs” in Spotify’s Sleep Sound Library, particularly “full gutters” and “office ” and I have a white noise machine. But recently, desperately, I craved a more substantial intervention, perhaps a cure for the 3 a. m. fretting that has plagued me for years. Mr. Mercier sent me his Dreem headset, a weighty crown of rubber and wire that he warned would be a tad uncomfortable. The finished product, about $400, he said, will be much lighter and slimmer. But it wasn’t the heft of the thing that had me pulling it off each night. It skeeved me out that it was reading  —   and interfering with  —   my brain waves, a process I would rather not outsource. I was just as wary of the   goggles, $299, which make for a   selfie in a darkened room. My eye sockets glowed a deep fluorescent green, and terrified the cat. The Ghost Pillow, $85, has “    technology” designed to keep your head cool. It is wildly comfy, but when I read what it is made from, a polyurethane foam, I lost sleep. I bought a Good Night Light LED Sleep bulb, $28, which comes with its own “patented technology” to support your body’s melatonin production. I can’t tell if that’s what happened, but since the bulb is too dim for my   eyes, I struggled to read my   sleep aid, a worn copy of “The Pursuit of Love,” by Nancy Mitford, and knocked off a good   earlier than usual. I was up again at 3 a. m. however, as my new Sense pod alerted me the next day, through an app on my phone. And again at 5 a. m. when the cat swatted the pod off the night stand and it glowed red in protest. “There was a noise disturbance,” the app explained. My   sleep summary, as provided by Sense, was both compelling and  . Why is my air quality “not ideal”? And how comfortable am I sharing my sleep habits with a Silicon Valley  ? Ms. Rothstein, the sleep ambassador, is less bothered by privacy concerns than by the temptation to wakefulness that phone interfaces pose. And nearly every gizmo seemed to have one. “I’d like to have a survey done to show how many people are also reading their texts while they’re tracking their sleep,” Ms. Rothstein said. “If you want to improve your sleep, you have to make some changes. Your Fitbit and your Apple Watch are not going to do it for you. We’ve lost the simplicity of sleep. All this writing, all these websites, all this stuff. I’m thinking, Just sleep. I want to say: ‘Shh. Make it dark, quiet and cool. Take a bath. ’” Ms. Rothstein taught me her relaxation recipe, a practice that mixed gratitude with body awareness and breathing. Start with your toes, she said, and thank your body parts for their hard work. (My favorite: “Knees, I know it’s not always easy for you. You can rest now. ”) Still, the best sleep I’ve had in weeks cost $22, and lasted 33 minutes. It was a Deep Rest “class” at Inscape, a meditation studio in the Chelsea neighborhood of Manhattan designed by Winka Dubbeldam, the   Dutch architect, to evoke the temple at Burning Man, and other esoteric spaces, and created by Khajak Keledjian, a founder, with his brother, Haro, of Intermix, which they sold to the Gap for $130 million in 2013. Mr. Keledjian, a meditator, aims to make the practice both secular and modern: a “mindful luxury,” he said. Though there are human “facilitators” in each class, who gently touch the feet of snoring attendees if they get too loud, the practice is guided by a recording made by an Australian female member of Mr. Keledjian’s company. “We call her ‘Skye,’” he said. It was lunchtime on a rainy Tuesday, and I settled onto a soft mat outfitted with a bolster, a pillow and a cozy fleece blanket. “Skye” urged me to stay awake, and then delivered a script like Ms. Rothstein’s, in mellifluous antipodean tones. I drifted once or twice, and from the muffled snorts of the other attendees, they did too. That night, I slept until dawn.   \n",
       "4047                                                                                                                                                                                                                                                                                                                                                                                                                                                                                                                                                                                                                                                                                                                                                                                                                                                                                                                                                                                                                                                                                                                                                                                                                                                                                                                                                                                                                                                                                                                                                                                                                                                                                                                                                                                                                                                                                                                                                                                                                                                                                                                                                                                                                                                                                                                                                                                                                                                                                                                                                                                                                                                                                                                                                                                                                                                                                                                                                                                                                                                                                                                                                                                                                                                                                                                                                                                                                                                                                                                                                                                                                                                                                                                                                                                                                                                                                                                                                                                                                                                                                                                                                                                                                                                                                                                                                                                                                                                                                                                                                                                                                                                                                                                                                                                                                                                                                                                                                                                                                                                                                                                                                                                                                                                                                                                                                                                                                                                                                                                                                                                                                                                                                                                                                                                                                                                                                                                                                                                                                                                                                                                                                                                                                                                                                                                                                                                                                                                                                                                                                                                                                                                                                                                                                                                                                                                                                                                                                                                                                                                                                                                                                                                                                                                                                                                                                                                                                                                                                                                                                                                                                                                                                                                                                                                                                                                                                                                                                                                                                                                                                                                                                                                                                                                                                                                                                                                                                                                                                                                                                                                                                                                                                                                                                                                                                                                                                                            A Capitol Hill source familiar with the chairman of the House Permanent Select Committee on Intelligence, Rep. Devin Nunes ( ) told Breitbart News that Nunes stepped away from the committee’s investigation into Russia’s participation in the 2016 election cycle as a result of a coordinated political attack by the Left. [Nunes’ announcement came as the House Ethics Committee released a statement disclosing that the committee was investigating public allegations that Nunes made unauthorized disclosure of classified documents.  “This was a coordinated attack by   groups against Nunes,” the source said. “As the Ethics Committee does its inquiry, he could not have other Republican committee members constantly having to defend him instead of focusing on the Russia investigation and particularly the abuse of intelligence through the improper unmasking of Americans’ names for political purposes. ” Nunes was not pushed by House Republican leadership to recuse himself, but it was not helpful to have other Republicans, notably Sen. John McCain ( ) and Sen. Lindsey Graham ( ) join Democrats in questioning his motives and competence. Sunday, McCain told Martha Raddatz on ABC’s “This Week with George Stephanopoulos” Nunes was hindering congressional efforts to determine how the Russians interfered in the 2016 election cycle, when he communicated with the White House about information he gathered from a whistle blower with informing Democrats on his committee. “If we’re really going to get to the bottom of these things, it’s got to be done in a bipartisan fashion. And as far as I could tell, Congressman Nunes killed that. ” The Los Angeles Times reported March 22 that Rep. Adam Schiff ( ) top Democrat on the the Intel Committee told the paper: Schiff said he raised his concerns directly with Nunes after the Republican disclosed new information publicly and then to the White House. He stopped short of saying whether Nunes was improperly making classified information public, saying instead that his actions were “beyond irregular. ” Nunes’ actions further demonstrated the need for an independent inquiry into Russia’s actions during the campaign, Schiff said. “We’re the only investigation there is. If we don’t do it, no one is going to do it,” Schiff said. “Now, perhaps the White House would like it that way. But the American people, I think, want there to be a credible investigation. And if we’re not going to conduct it, then we need to have an independent commission do it. ” The recusal is temporary and as soon as possible, the chairman intends to resume full control of the committee as soon as the House Ethics Committee resolves the charges made by   groups, the source said. The source said Nunes hopes the Ethics Committee will work on his case during the Easter recess so the investigation can be wrapped up as soon as possible. Capitol Hill conservatives are now watching to see if Nunes will also recuse himself from the probe into former national security adviser Susan Rice.   \n",
       "6509                                                                                                                                                                                                                                                                                                                                                                                                                                                                                                                                                                                                                                                                                                                                                                                                                                                                                                                                                                                                                                                                                                                                                                                                                                                                                                                                                                                                                                                                                                                                                                                                                                                                                                                                                                                                                                                                                                                                                                                                                                                                                                                                                                                                                                                                                                                                                                                                                                                                                                                                                                                                                                                                                                                                                                                                                                                                                                                                                                                                                                                                                                                                                                                                                                                                                                                                                                                                                                                                                                                                                                                                                                                                                                                                                                                                                                                                                                                                                                                                                                                                                                                                                                                                                                                                                                                                                                                                                                                                                                                                                                                                                                                                                                                                                                                                                                                                                                                                                                                                                                                                                                                                                                                                                                                                                                                                                                                                                                                                                                                                                                                                                                                                                                                                                                                                                                                                                                                                                                                                                                                                                                                                                                                                                                                                                                                                                                                                                                                                                                                                                                                                                                                                                                                                                                                                                                                                                                                                                                                                                                                                                                                                                                                                                                                                                                                                                                                                                                                                                                                                                                                                                                                                                                                                                                                                                                                                                                                                                                                                                                                                                                                                                                                                                                                                                                                                                                                                                                                                                                                                                                                                                                                                                                                                                                                                                                                                                                                                                                                                                                                                                                                                                                                                                                                                                                                                                                                                                                                                                                                                                                                                                                                                                                                                                                                                                                                                                                                                                                                                                                                                                                                                                                                                                                                                                                                                                                                                                                                                                                                                                                                                                                                                                                                                                                                                                                During an interview aired on Thursday’s “Hannity,” on the Fox News Channel, President Donald Trump said, “a balanced budget is fine, but sometimes you have to fuel the well in order to really get the economy going. And we have to take care of our military. Our military is more important to me than a balanced budget, because we’ll get there with a balanced budget. ”  Trump was asked [relevant exchange begins around 7:00] how important a balanced budget is to him. He answered, “So, a balanced budget is fine, but sometimes you have to fuel the well in order to really get the economy going. And we have to take care of our military. Our military is more important to me than a balanced budget, because we’ll get there with a balanced budget. But we have a military that’s really depleted. And I’m negotiating the price of airplanes, can you believe this? I cut off hundreds of millions of dollars off one particular plane, hundreds of millions of dollars, in a short period of time. ” He added, “I want a balanced budget eventually, but I want to have a strong military. To me, that’s much more important than anything. ” Follow Ian Hanchett on Twitter @IanHanchett   \n",
       "5701                                                                                                                                                                                                                                                                                                                                                                                                                                                                                                                                                                                                                                                                                                                                                                                                                                                                                                                                                                                                                                                                                                                                                                                                                                                                                                                                                                                                                                                                                                                                                                                                                                                                                                                                                                                                                                                                                                                                                                                                                                                                                                                                                                                                                                                                                                                                                                                                                                                                                                                                                                                                                                                                                                                                                                                                                                                                                                                                                                                                                                                                                                                                                                                                                                                                                                                                                                                                                                                                                                                                                                                                                                                                                                                                                                                                                                                                                                                                                                                                                                                                                                                                                                                                                                                                                                                                                                                                                                                                                                                                                                                                                                                                                                                                                                                                                                                                                                                                                                                                                                                                                                                                                                                                                                                                                                                                                                                                                                                                                                                                                                                                                                                                                                                                                                                                                                                                                                                                                                                                                                                                                                                                                                                                                                                                                                                                                                                                                                                                                                                                                                                                                                                                                                                                                                                                                                                                                                                                                                                                                                                                                                                                                                                                                                                                                                                                                                                                                                                                                                                                                                                                                                                                                                                                                                                     Russia, facing deepening scrutiny over accusations that it orchestrated a doping campaign during the Sochi Olympics in 2014, on Sunday made a public plea for its track and field athletes to be allowed to compete in this summer’s Games in Rio de Janeiro. Writing in The Sunday Times, a British newspaper, the Russian sports minister said Russian officials, coaches and athletes made “serious mistakes,” but he stopped short of specifying them or admitting to any state role. “We are very sorry that athletes who tried to deceive us, and the world, were not caught sooner,” wrote the sports minister, Vitaly Mutko. “We are very sorry because Russia is committed to upholding the highest standards in sport and is opposed to anything that threatens the Olympic values. ” But he added: “It cannot be right that clean athletes should suffer for the behavior of others. In no other walk of life would this happen. ” The accusations of an elaborate drug operation at the 2014 Winter Olympics, published last week in The New York Times, have led to growing calls to bar Russia and its powerhouse track and field team from the Rio Games, which are set to open in August. Craig Reedie, the president of the World   Agency, told the BBC on Saturday that it was “highly unlikely” that Russia’s antidoping agency would be declared compliant with world sports rules in time for the Games. Russia was provisionally suspended from international track and field competition by the International Association of Athletics Federations in November after WADA issued a   report that outlined a pervasive culture of doping among the country’s sports programs. The I. A. A. F. is expected to decide next month whether the country has done enough to fix the problems and have its eligibility reinstated. In the New York Times report, Grigory Rodchenkov, a former director of Russia’s antidoping laboratory, detailed how a doping program that involved dozens of athletes unfolded at the Sochi Games. Dr. Rodchenkov said state antidoping experts and members of the intelligence service covertly replaced tainted urine samples with clean ones collected from the athletes months earlier, before they started doping. Russia has reacted to the accusations with statements both deploring the use of   drugs by its athletes and vigorously rejecting contentions that it was involved. On Thursday, the Russian sports ministry acknowledged in a statement that doping problems existed among its athletes while expressing “shock” over Dr. Rodchenkov’s disclosures. Speaking to reporters the next day, a spokesman for President Vladimir V. Putin said, “All this simply looks like slander by a turncoat. ” The deputy sports minister, Yuri Nagornykh, said Russia and the athletes named in the Times article were considering whether to file a defamation lawsuit. On Sunday, Mr. Mutko struck a much more conciliatory tone. He said Russian officials were doing all they could to stamp out doping by the country’s athletes. He also said that aspiring Olympians would be subjected to additional tests and that two “international experts” were now based in Moscow to supervise the country’s antidoping agency. “We have done everything that has been asked of us by the I. A. A. F. in order to be reinstated,” Mr. Mutko wrote in The Sunday Times. However, he added, the scourge of doping extends worldwide. To single out Russia would be unfair, he said. “The Olympic Games should be a cause of unity,” he said. “Barring Russia’s athletes from competing in Rio would risk tearing this unity apart. ” Peter Donnelly, the director of the Centre for Sport Policy Studies at the University of Toronto, said on Sunday that Mr. Mutko had touched on a legitimate problem with how doping violations are handled by sports governing bodies. The International Olympic Committee and world sport federations need to find ways to target punishments at those who are complicit in an athlete’s doping, Dr. Donnelly said, adding, “It’s difficult for me to see how punishing all pending Russian Olympic track and field athletes can be considered as justice. ”   \n",
       "\n",
       "      label  \n",
       "360       1  \n",
       "3852      0  \n",
       "4047      0  \n",
       "6509      0  \n",
       "5701      0  "
      ]
     },
     "execution_count": 16,
     "metadata": {},
     "output_type": "execute_result"
    }
   ],
   "source": [
    "fakes_df.sample(5)"
   ]
  },
  {
   "cell_type": "code",
   "execution_count": 17,
   "metadata": {
    "colab": {
     "base_uri": "https://localhost:8080/"
    },
    "id": "U_0PiiepWid0",
    "outputId": "9604e687-a728-464e-c6e1-c4206b91876e"
   },
   "outputs": [
    {
     "data": {
      "text/plain": [
       "label\n",
       "0    0.799615\n",
       "1    0.200385\n",
       "Name: proportion, dtype: float64"
      ]
     },
     "execution_count": 17,
     "metadata": {},
     "output_type": "execute_result"
    }
   ],
   "source": [
    "fakes_df[\"label\"].value_counts(dropna=False, normalize=True)"
   ]
  },
  {
   "cell_type": "code",
   "execution_count": 18,
   "metadata": {
    "id": "f8DK8bu2Wid0"
   },
   "outputs": [],
   "source": [
    "fakes_df[\"title\"] = fakes_df[\"title\"].astype(str)\n",
    "fakes_df[\"text\"] = fakes_df[\"text\"].astype(str)"
   ]
  },
  {
   "cell_type": "markdown",
   "metadata": {
    "id": "O-c7nAWZWid0"
   },
   "source": [
    "## Data splitting"
   ]
  },
  {
   "cell_type": "code",
   "execution_count": 19,
   "metadata": {
    "id": "X1_jRBaAWid0"
   },
   "outputs": [],
   "source": [
    "# The param 'stratify' is useful to guarantee label proportions on train and test sets\n",
    "X_train, X_test, y_train, y_test = train_test_split(fakes_df[[\"title\", \"text\"]], fakes_df[\"label\"], test_size=0.3, stratify=fakes_df[\"label\"], random_state=1)"
   ]
  },
  {
   "cell_type": "markdown",
   "metadata": {
    "id": "EXZDbc7MWid0"
   },
   "source": [
    "<span style=\"color: red;\">Why is useful to set a `random_state` value?</span>"
   ]
  },
  {
   "cell_type": "code",
   "execution_count": 20,
   "metadata": {
    "colab": {
     "base_uri": "https://localhost:8080/"
    },
    "id": "347y_v4YWid0",
    "outputId": "84c3b129-beb7-4958-e861-c604dca9ed79"
   },
   "outputs": [
    {
     "data": {
      "text/plain": [
       "((9093, 2), (3897, 2))"
      ]
     },
     "execution_count": 20,
     "metadata": {},
     "output_type": "execute_result"
    }
   ],
   "source": [
    "X_train.shape, X_test.shape"
   ]
  },
  {
   "cell_type": "code",
   "execution_count": 21,
   "metadata": {
    "colab": {
     "base_uri": "https://localhost:8080/"
    },
    "id": "F7GDLYtqWid1",
    "outputId": "b4e07c0a-9358-422b-b769-9c4bef2d8419"
   },
   "outputs": [
    {
     "data": {
      "text/plain": [
       "label\n",
       "0    0.799626\n",
       "1    0.200374\n",
       "Name: proportion, dtype: float64"
      ]
     },
     "execution_count": 21,
     "metadata": {},
     "output_type": "execute_result"
    }
   ],
   "source": [
    "pd.Series(y_train).value_counts(normalize=True)"
   ]
  },
  {
   "cell_type": "code",
   "execution_count": 22,
   "metadata": {
    "colab": {
     "base_uri": "https://localhost:8080/"
    },
    "id": "Dij_2V3YWid1",
    "outputId": "b1a573c2-ef09-4b2c-ea67-3951cc3eaa3d"
   },
   "outputs": [
    {
     "data": {
      "text/plain": [
       "label\n",
       "0    0.799589\n",
       "1    0.200411\n",
       "Name: proportion, dtype: float64"
      ]
     },
     "execution_count": 22,
     "metadata": {},
     "output_type": "execute_result"
    }
   ],
   "source": [
    "pd.Series(y_test).value_counts(normalize=True)"
   ]
  },
  {
   "cell_type": "markdown",
   "metadata": {
    "id": "VoCuQNajWid1"
   },
   "source": [
    "## Text vectorization\n",
    "\n",
    "Let's explore the most common techniques for doing text vectorization. Despite these are classical approaches, yet continue having competitive performance for relatively simple tasks like classification.  \n",
    "\n",
    "The main disadvantage of these techniques are the high-dimensionality of the resulting vectors and the loss of context among tokens represented by each feature."
   ]
  },
  {
   "cell_type": "markdown",
   "metadata": {
    "id": "3NQSxibvWid1"
   },
   "source": [
    "<table>\n",
    "    <tbody>\n",
    "        <tr>\n",
    "            <td>\n",
    "                <h4>Bag of Words</h4>\n",
    "                <img src=\"https://miro.medium.com/v2/resize:fit:880/1*hLvya7MXjsSc3NS2SoLMEg.png\" style=\"height: 280px;\">\n",
    "            </td>\n",
    "            <td>\n",
    "                <h4>TF-IDF</h4>\n",
    "                <img src=\"https://miro.medium.com/v2/resize:fit:1400/1*qQgnyPLDIkUmeZKN2_ZWbQ.png\" style=\"height: 350px;\">\n",
    "            </td>\n",
    "        </tr>\n",
    "    </tbody>\n",
    "</table>"
   ]
  },
  {
   "cell_type": "markdown",
   "metadata": {
    "id": "FLAT7cW5Wid1"
   },
   "source": [
    "<span style=\"color: red;\">Will both techniques generate vectors of the same dimensionality?</span>"
   ]
  },
  {
   "cell_type": "code",
   "execution_count": 23,
   "metadata": {
    "id": "F0EnzBOAWid1"
   },
   "outputs": [],
   "source": [
    "bow = CountVectorizer(tokenizer=word_tokenize, stop_words=stop_words, lowercase=True)"
   ]
  },
  {
   "cell_type": "code",
   "execution_count": 24,
   "metadata": {
    "colab": {
     "base_uri": "https://localhost:8080/"
    },
    "id": "TaI1ueg3Wid1",
    "outputId": "f40e575f-39cd-43cf-a333-9202a4c8ba76"
   },
   "outputs": [],
   "source": [
    "X_bow = bow.fit_transform(X_train[\"title\"])"
   ]
  },
  {
   "cell_type": "code",
   "execution_count": 25,
   "metadata": {
    "colab": {
     "base_uri": "https://localhost:8080/"
    },
    "id": "cKHhG21UWid1",
    "outputId": "6e24db90-ba2f-4217-9abf-116efc7ba4a2"
   },
   "outputs": [
    {
     "name": "stdout",
     "output_type": "stream",
     "text": [
      "Vocabulary size: 15149\n"
     ]
    }
   ],
   "source": [
    "print(\"Vocabulary size:\", len(bow.vocabulary_))"
   ]
  },
  {
   "cell_type": "code",
   "execution_count": 26,
   "metadata": {
    "id": "E6hXbmQDWid1"
   },
   "outputs": [],
   "source": [
    "tfidf = TfidfVectorizer(tokenizer=word_tokenize, stop_words=stop_words, lowercase=True)"
   ]
  },
  {
   "cell_type": "code",
   "execution_count": 27,
   "metadata": {
    "id": "w_lIGu9ZWid1"
   },
   "outputs": [],
   "source": [
    "X_tfidf = tfidf.fit_transform(X_train[\"title\"])"
   ]
  },
  {
   "cell_type": "code",
   "execution_count": 28,
   "metadata": {
    "colab": {
     "base_uri": "https://localhost:8080/"
    },
    "id": "GgFyD_mnWid2",
    "outputId": "0b8719ad-d95b-48a0-cdd6-f3fd95b9ce48"
   },
   "outputs": [
    {
     "name": "stdout",
     "output_type": "stream",
     "text": [
      "Vocabulary size: 15149\n"
     ]
    }
   ],
   "source": [
    "print(\"Vocabulary size:\", len(tfidf.vocabulary_))"
   ]
  },
  {
   "cell_type": "markdown",
   "metadata": {
    "id": "u5c197TlWid2"
   },
   "source": [
    "## Training a model with BoW"
   ]
  },
  {
   "cell_type": "code",
   "execution_count": 29,
   "metadata": {
    "id": "8vaZCCNHWid2"
   },
   "outputs": [],
   "source": [
    "bow_model = RandomForestClassifier(random_state=2)"
   ]
  },
  {
   "cell_type": "code",
   "execution_count": 30,
   "metadata": {
    "colab": {
     "base_uri": "https://localhost:8080/",
     "height": 75
    },
    "id": "E6QnzqgLWid2",
    "outputId": "5ebb5287-c52e-4a04-b77b-985f8f7bf338"
   },
   "outputs": [
    {
     "data": {
      "text/html": [
       "<style>#sk-container-id-1 {color: black;}#sk-container-id-1 pre{padding: 0;}#sk-container-id-1 div.sk-toggleable {background-color: white;}#sk-container-id-1 label.sk-toggleable__label {cursor: pointer;display: block;width: 100%;margin-bottom: 0;padding: 0.3em;box-sizing: border-box;text-align: center;}#sk-container-id-1 label.sk-toggleable__label-arrow:before {content: \"▸\";float: left;margin-right: 0.25em;color: #696969;}#sk-container-id-1 label.sk-toggleable__label-arrow:hover:before {color: black;}#sk-container-id-1 div.sk-estimator:hover label.sk-toggleable__label-arrow:before {color: black;}#sk-container-id-1 div.sk-toggleable__content {max-height: 0;max-width: 0;overflow: hidden;text-align: left;background-color: #f0f8ff;}#sk-container-id-1 div.sk-toggleable__content pre {margin: 0.2em;color: black;border-radius: 0.25em;background-color: #f0f8ff;}#sk-container-id-1 input.sk-toggleable__control:checked~div.sk-toggleable__content {max-height: 200px;max-width: 100%;overflow: auto;}#sk-container-id-1 input.sk-toggleable__control:checked~label.sk-toggleable__label-arrow:before {content: \"▾\";}#sk-container-id-1 div.sk-estimator input.sk-toggleable__control:checked~label.sk-toggleable__label {background-color: #d4ebff;}#sk-container-id-1 div.sk-label input.sk-toggleable__control:checked~label.sk-toggleable__label {background-color: #d4ebff;}#sk-container-id-1 input.sk-hidden--visually {border: 0;clip: rect(1px 1px 1px 1px);clip: rect(1px, 1px, 1px, 1px);height: 1px;margin: -1px;overflow: hidden;padding: 0;position: absolute;width: 1px;}#sk-container-id-1 div.sk-estimator {font-family: monospace;background-color: #f0f8ff;border: 1px dotted black;border-radius: 0.25em;box-sizing: border-box;margin-bottom: 0.5em;}#sk-container-id-1 div.sk-estimator:hover {background-color: #d4ebff;}#sk-container-id-1 div.sk-parallel-item::after {content: \"\";width: 100%;border-bottom: 1px solid gray;flex-grow: 1;}#sk-container-id-1 div.sk-label:hover label.sk-toggleable__label {background-color: #d4ebff;}#sk-container-id-1 div.sk-serial::before {content: \"\";position: absolute;border-left: 1px solid gray;box-sizing: border-box;top: 0;bottom: 0;left: 50%;z-index: 0;}#sk-container-id-1 div.sk-serial {display: flex;flex-direction: column;align-items: center;background-color: white;padding-right: 0.2em;padding-left: 0.2em;position: relative;}#sk-container-id-1 div.sk-item {position: relative;z-index: 1;}#sk-container-id-1 div.sk-parallel {display: flex;align-items: stretch;justify-content: center;background-color: white;position: relative;}#sk-container-id-1 div.sk-item::before, #sk-container-id-1 div.sk-parallel-item::before {content: \"\";position: absolute;border-left: 1px solid gray;box-sizing: border-box;top: 0;bottom: 0;left: 50%;z-index: -1;}#sk-container-id-1 div.sk-parallel-item {display: flex;flex-direction: column;z-index: 1;position: relative;background-color: white;}#sk-container-id-1 div.sk-parallel-item:first-child::after {align-self: flex-end;width: 50%;}#sk-container-id-1 div.sk-parallel-item:last-child::after {align-self: flex-start;width: 50%;}#sk-container-id-1 div.sk-parallel-item:only-child::after {width: 0;}#sk-container-id-1 div.sk-dashed-wrapped {border: 1px dashed gray;margin: 0 0.4em 0.5em 0.4em;box-sizing: border-box;padding-bottom: 0.4em;background-color: white;}#sk-container-id-1 div.sk-label label {font-family: monospace;font-weight: bold;display: inline-block;line-height: 1.2em;}#sk-container-id-1 div.sk-label-container {text-align: center;}#sk-container-id-1 div.sk-container {/* jupyter's `normalize.less` sets `[hidden] { display: none; }` but bootstrap.min.css set `[hidden] { display: none !important; }` so we also need the `!important` here to be able to override the default hidden behavior on the sphinx rendered scikit-learn.org. See: https://github.com/scikit-learn/scikit-learn/issues/21755 */display: inline-block !important;position: relative;}#sk-container-id-1 div.sk-text-repr-fallback {display: none;}</style><div id=\"sk-container-id-1\" class=\"sk-top-container\"><div class=\"sk-text-repr-fallback\"><pre>RandomForestClassifier(random_state=2)</pre><b>In a Jupyter environment, please rerun this cell to show the HTML representation or trust the notebook. <br />On GitHub, the HTML representation is unable to render, please try loading this page with nbviewer.org.</b></div><div class=\"sk-container\" hidden><div class=\"sk-item\"><div class=\"sk-estimator sk-toggleable\"><input class=\"sk-toggleable__control sk-hidden--visually\" id=\"sk-estimator-id-1\" type=\"checkbox\" checked><label for=\"sk-estimator-id-1\" class=\"sk-toggleable__label sk-toggleable__label-arrow\">RandomForestClassifier</label><div class=\"sk-toggleable__content\"><pre>RandomForestClassifier(random_state=2)</pre></div></div></div></div></div>"
      ],
      "text/plain": [
       "RandomForestClassifier(random_state=2)"
      ]
     },
     "execution_count": 30,
     "metadata": {},
     "output_type": "execute_result"
    }
   ],
   "source": [
    "bow_model.fit(X_bow, y_train)"
   ]
  },
  {
   "cell_type": "code",
   "execution_count": 31,
   "metadata": {
    "colab": {
     "base_uri": "https://localhost:8080/",
     "height": 848
    },
    "id": "E0-uWV2XWid2",
    "outputId": "32aa9f21-b6c6-4e76-b0dc-14d2f78e6c42"
   },
   "outputs": [
    {
     "data": {
      "text/plain": [
       "<Axes: >"
      ]
     },
     "execution_count": 31,
     "metadata": {},
     "output_type": "execute_result"
    },
    {
     "data": {
      "image/png": "[encoded data removed]",
      "text/plain": [
       "<Figure size 1500x1000 with 1 Axes>"
      ]
     },
     "metadata": {},
     "output_type": "display_data"
    }
   ],
   "source": [
    "# Feature importance in tree models is an indicator on how relevant is a feature for taking the decision by the model\n",
    "pd.Series(bow_model.feature_importances_, index=bow.vocabulary_).sort_values().tail(20).plot.barh(figsize=(15, 10))"
   ]
  },
  {
   "cell_type": "code",
   "execution_count": 32,
   "metadata": {
    "colab": {
     "base_uri": "https://localhost:8080/"
    },
    "id": "T1g7vyqtWid2",
    "outputId": "d6fc0579-9a77-4434-c3bc-d33c7c545bda"
   },
   "outputs": [
    {
     "name": "stdout",
     "output_type": "stream",
     "text": [
      "Number of trees: 100\n",
      "Trees depth (mean): 311.61\n"
     ]
    }
   ],
   "source": [
    "bow_estimators = bow_model.estimators_\n",
    "print(\"Number of trees:\", len(bow_estimators))\n",
    "print(\"Trees depth (mean):\", np.mean([tree.get_depth() for tree in bow_estimators]))"
   ]
  },
  {
   "cell_type": "code",
   "execution_count": 33,
   "metadata": {
    "id": "VdVZsn8wWid2"
   },
   "outputs": [],
   "source": [
    "y_train_bow_predict = bow_model.predict(X_bow)\n",
    "y_test_bow_predict = bow_model.predict(bow.transform(X_test[\"title\"]))"
   ]
  },
  {
   "cell_type": "markdown",
   "metadata": {
    "id": "gubpvA2gZynt"
   },
   "source": [
    "<img src=\"https://miro.medium.com/v2/resize:fit:1334/format:webp/1*3yGLac6F4mTENnj5dBNvNQ.jpeg\" height=\"500\" />"
   ]
  },
  {
   "cell_type": "code",
   "execution_count": 34,
   "metadata": {
    "colab": {
     "base_uri": "https://localhost:8080/",
     "height": 467
    },
    "id": "LtOPJ9A4Wid2",
    "outputId": "7e455622-75fd-4670-c0f2-cab93757fc75"
   },
   "outputs": [
    {
     "data": {
      "text/plain": [
       "<sklearn.metrics._plot.confusion_matrix.ConfusionMatrixDisplay at 0x1b23dd26890>"
      ]
     },
     "execution_count": 34,
     "metadata": {},
     "output_type": "execute_result"
    },
    {
     "data": {
      "image/png": "[encoded data removed]",
      "text/plain": [
       "<Figure size 640x480 with 2 Axes>"
      ]
     },
     "metadata": {},
     "output_type": "display_data"
    }
   ],
   "source": [
    "ConfusionMatrixDisplay.from_predictions(y_train, y_train_bow_predict)"
   ]
  },
  {
   "cell_type": "code",
   "execution_count": 35,
   "metadata": {
    "colab": {
     "base_uri": "https://localhost:8080/",
     "height": 467
    },
    "id": "1W8usUWbWid2",
    "outputId": "78ce4881-9f6e-41ab-f7f2-9d2ca552a988"
   },
   "outputs": [
    {
     "data": {
      "text/plain": [
       "<sklearn.metrics._plot.confusion_matrix.ConfusionMatrixDisplay at 0x1b23dcb6f10>"
      ]
     },
     "execution_count": 35,
     "metadata": {},
     "output_type": "execute_result"
    },
    {
     "data": {
      "image/png": "[encoded data removed]",
      "text/plain": [
       "<Figure size 640x480 with 2 Axes>"
      ]
     },
     "metadata": {},
     "output_type": "display_data"
    }
   ],
   "source": [
    "ConfusionMatrixDisplay.from_predictions(y_test, y_test_bow_predict)"
   ]
  },
  {
   "cell_type": "markdown",
   "metadata": {
    "id": "8hP1yNXOaWN2"
   },
   "source": [
    "<img src=\"https://static.packt-cdn.com/products/9781785282287/graphics/B04223_10_02.jpg\" height=\"250\" />"
   ]
  },
  {
   "cell_type": "code",
   "execution_count": 36,
   "metadata": {
    "colab": {
     "base_uri": "https://localhost:8080/"
    },
    "id": "9Xi8ZrjeWid2",
    "outputId": "5a61c84b-d461-4335-8825-e0beae7edd2c"
   },
   "outputs": [
    {
     "name": "stdout",
     "output_type": "stream",
     "text": [
      "Precision: 1.0\n",
      "Recall: 1.0\n",
      "F1: 1.0\n"
     ]
    }
   ],
   "source": [
    "print(\"Precision:\", precision_score(y_train, y_train_bow_predict))\n",
    "print(\"Recall:\", recall_score(y_train, y_train_bow_predict))\n",
    "print(\"F1:\", f1_score(y_train, y_train_bow_predict))"
   ]
  },
  {
   "cell_type": "code",
   "execution_count": 37,
   "metadata": {
    "colab": {
     "base_uri": "https://localhost:8080/"
    },
    "id": "aNvS_RXJWid2",
    "outputId": "7e83ae30-46f8-4ed1-aed2-8a2750d8a559",
    "tags": []
   },
   "outputs": [
    {
     "name": "stdout",
     "output_type": "stream",
     "text": [
      "Precision: 0.8409356725146199\n",
      "Recall: 0.9206145966709347\n",
      "F1: 0.8789731051344744\n"
     ]
    }
   ],
   "source": [
    "print(\"Precision:\", precision_score(y_test, y_test_bow_predict))\n",
    "print(\"Recall:\", recall_score(y_test, y_test_bow_predict))\n",
    "print(\"F1:\", f1_score(y_test, y_test_bow_predict))"
   ]
  },
  {
   "cell_type": "markdown",
   "metadata": {
    "id": "s67TkwMwWid3"
   },
   "source": [
    "## Training a model with TF-IDF"
   ]
  },
  {
   "cell_type": "code",
   "execution_count": 38,
   "metadata": {
    "id": "lpAhf35GWid3"
   },
   "outputs": [],
   "source": [
    "tfidf_model = RandomForestClassifier(random_state=3)"
   ]
  },
  {
   "cell_type": "code",
   "execution_count": 39,
   "metadata": {
    "colab": {
     "base_uri": "https://localhost:8080/",
     "height": 75
    },
    "id": "lscqDhygWid3",
    "outputId": "0db56a80-307e-41b4-a4ea-955c908252c4"
   },
   "outputs": [
    {
     "data": {
      "text/html": [
       "<style>#sk-container-id-2 {color: black;}#sk-container-id-2 pre{padding: 0;}#sk-container-id-2 div.sk-toggleable {background-color: white;}#sk-container-id-2 label.sk-toggleable__label {cursor: pointer;display: block;width: 100%;margin-bottom: 0;padding: 0.3em;box-sizing: border-box;text-align: center;}#sk-container-id-2 label.sk-toggleable__label-arrow:before {content: \"▸\";float: left;margin-right: 0.25em;color: #696969;}#sk-container-id-2 label.sk-toggleable__label-arrow:hover:before {color: black;}#sk-container-id-2 div.sk-estimator:hover label.sk-toggleable__label-arrow:before {color: black;}#sk-container-id-2 div.sk-toggleable__content {max-height: 0;max-width: 0;overflow: hidden;text-align: left;background-color: #f0f8ff;}#sk-container-id-2 div.sk-toggleable__content pre {margin: 0.2em;color: black;border-radius: 0.25em;background-color: #f0f8ff;}#sk-container-id-2 input.sk-toggleable__control:checked~div.sk-toggleable__content {max-height: 200px;max-width: 100%;overflow: auto;}#sk-container-id-2 input.sk-toggleable__control:checked~label.sk-toggleable__label-arrow:before {content: \"▾\";}#sk-container-id-2 div.sk-estimator input.sk-toggleable__control:checked~label.sk-toggleable__label {background-color: #d4ebff;}#sk-container-id-2 div.sk-label input.sk-toggleable__control:checked~label.sk-toggleable__label {background-color: #d4ebff;}#sk-container-id-2 input.sk-hidden--visually {border: 0;clip: rect(1px 1px 1px 1px);clip: rect(1px, 1px, 1px, 1px);height: 1px;margin: -1px;overflow: hidden;padding: 0;position: absolute;width: 1px;}#sk-container-id-2 div.sk-estimator {font-family: monospace;background-color: #f0f8ff;border: 1px dotted black;border-radius: 0.25em;box-sizing: border-box;margin-bottom: 0.5em;}#sk-container-id-2 div.sk-estimator:hover {background-color: #d4ebff;}#sk-container-id-2 div.sk-parallel-item::after {content: \"\";width: 100%;border-bottom: 1px solid gray;flex-grow: 1;}#sk-container-id-2 div.sk-label:hover label.sk-toggleable__label {background-color: #d4ebff;}#sk-container-id-2 div.sk-serial::before {content: \"\";position: absolute;border-left: 1px solid gray;box-sizing: border-box;top: 0;bottom: 0;left: 50%;z-index: 0;}#sk-container-id-2 div.sk-serial {display: flex;flex-direction: column;align-items: center;background-color: white;padding-right: 0.2em;padding-left: 0.2em;position: relative;}#sk-container-id-2 div.sk-item {position: relative;z-index: 1;}#sk-container-id-2 div.sk-parallel {display: flex;align-items: stretch;justify-content: center;background-color: white;position: relative;}#sk-container-id-2 div.sk-item::before, #sk-container-id-2 div.sk-parallel-item::before {content: \"\";position: absolute;border-left: 1px solid gray;box-sizing: border-box;top: 0;bottom: 0;left: 50%;z-index: -1;}#sk-container-id-2 div.sk-parallel-item {display: flex;flex-direction: column;z-index: 1;position: relative;background-color: white;}#sk-container-id-2 div.sk-parallel-item:first-child::after {align-self: flex-end;width: 50%;}#sk-container-id-2 div.sk-parallel-item:last-child::after {align-self: flex-start;width: 50%;}#sk-container-id-2 div.sk-parallel-item:only-child::after {width: 0;}#sk-container-id-2 div.sk-dashed-wrapped {border: 1px dashed gray;margin: 0 0.4em 0.5em 0.4em;box-sizing: border-box;padding-bottom: 0.4em;background-color: white;}#sk-container-id-2 div.sk-label label {font-family: monospace;font-weight: bold;display: inline-block;line-height: 1.2em;}#sk-container-id-2 div.sk-label-container {text-align: center;}#sk-container-id-2 div.sk-container {/* jupyter's `normalize.less` sets `[hidden] { display: none; }` but bootstrap.min.css set `[hidden] { display: none !important; }` so we also need the `!important` here to be able to override the default hidden behavior on the sphinx rendered scikit-learn.org. See: https://github.com/scikit-learn/scikit-learn/issues/21755 */display: inline-block !important;position: relative;}#sk-container-id-2 div.sk-text-repr-fallback {display: none;}</style><div id=\"sk-container-id-2\" class=\"sk-top-container\"><div class=\"sk-text-repr-fallback\"><pre>RandomForestClassifier(random_state=3)</pre><b>In a Jupyter environment, please rerun this cell to show the HTML representation or trust the notebook. <br />On GitHub, the HTML representation is unable to render, please try loading this page with nbviewer.org.</b></div><div class=\"sk-container\" hidden><div class=\"sk-item\"><div class=\"sk-estimator sk-toggleable\"><input class=\"sk-toggleable__control sk-hidden--visually\" id=\"sk-estimator-id-2\" type=\"checkbox\" checked><label for=\"sk-estimator-id-2\" class=\"sk-toggleable__label sk-toggleable__label-arrow\">RandomForestClassifier</label><div class=\"sk-toggleable__content\"><pre>RandomForestClassifier(random_state=3)</pre></div></div></div></div></div>"
      ],
      "text/plain": [
       "RandomForestClassifier(random_state=3)"
      ]
     },
     "execution_count": 39,
     "metadata": {},
     "output_type": "execute_result"
    }
   ],
   "source": [
    "tfidf_model.fit(X_tfidf, y_train)"
   ]
  },
  {
   "cell_type": "code",
   "execution_count": 40,
   "metadata": {
    "colab": {
     "base_uri": "https://localhost:8080/",
     "height": 848
    },
    "id": "79NTt-sMWid3",
    "outputId": "e9afbc93-1ff8-4325-99f3-f4a7c236238f"
   },
   "outputs": [
    {
     "data": {
      "text/plain": [
       "<Axes: >"
      ]
     },
     "execution_count": 40,
     "metadata": {},
     "output_type": "execute_result"
    },
    {
     "data": {
      "image/png": "[encoded data removed]",
      "text/plain": [
       "<Figure size 1500x1000 with 1 Axes>"
      ]
     },
     "metadata": {},
     "output_type": "display_data"
    }
   ],
   "source": [
    "pd.Series(tfidf_model.feature_importances_, index=tfidf.vocabulary_).sort_values().tail(20).plot.barh(figsize=(15, 10))"
   ]
  },
  {
   "cell_type": "code",
   "execution_count": 41,
   "metadata": {
    "colab": {
     "base_uri": "https://localhost:8080/"
    },
    "id": "IORqTQ_nWid4",
    "outputId": "26dde565-d547-4e95-c719-6c702769884d"
   },
   "outputs": [
    {
     "name": "stdout",
     "output_type": "stream",
     "text": [
      "Number of trees: 100\n",
      "Trees depth (mean): 316.69\n"
     ]
    }
   ],
   "source": [
    "tfidf_estimators = tfidf_model.estimators_\n",
    "print(\"Number of trees:\", len(tfidf_estimators))\n",
    "print(\"Trees depth (mean):\", np.mean([tree.get_depth() for tree in tfidf_estimators]))"
   ]
  },
  {
   "cell_type": "code",
   "execution_count": 42,
   "metadata": {
    "id": "FiCqW7T4Wid4"
   },
   "outputs": [],
   "source": [
    "y_train_tfidf_predict = tfidf_model.predict(X_tfidf)\n",
    "y_test_tfidf_predict = tfidf_model.predict(tfidf.transform(X_test[\"title\"]))"
   ]
  },
  {
   "cell_type": "code",
   "execution_count": 43,
   "metadata": {
    "colab": {
     "base_uri": "https://localhost:8080/",
     "height": 467
    },
    "id": "2unKZ3OkWid4",
    "outputId": "06457a83-c755-4dd5-d279-0952f358d22f"
   },
   "outputs": [
    {
     "data": {
      "text/plain": [
       "<sklearn.metrics._plot.confusion_matrix.ConfusionMatrixDisplay at 0x1b23fe10e50>"
      ]
     },
     "execution_count": 43,
     "metadata": {},
     "output_type": "execute_result"
    },
    {
     "data": {
      "image/png": "[encoded data removed]",
      "text/plain": [
       "<Figure size 640x480 with 2 Axes>"
      ]
     },
     "metadata": {},
     "output_type": "display_data"
    }
   ],
   "source": [
    "ConfusionMatrixDisplay.from_predictions(y_train, y_train_tfidf_predict)"
   ]
  },
  {
   "cell_type": "code",
   "execution_count": 44,
   "metadata": {
    "colab": {
     "base_uri": "https://localhost:8080/",
     "height": 467
    },
    "id": "2sl2h1xnWid4",
    "outputId": "c95d1477-0e36-461f-a63e-e0f258820459"
   },
   "outputs": [
    {
     "data": {
      "text/plain": [
       "<sklearn.metrics._plot.confusion_matrix.ConfusionMatrixDisplay at 0x1b23dd24d90>"
      ]
     },
     "execution_count": 44,
     "metadata": {},
     "output_type": "execute_result"
    },
    {
     "data": {
      "image/png": "[encoded data removed]",
      "text/plain": [
       "<Figure size 640x480 with 2 Axes>"
      ]
     },
     "metadata": {},
     "output_type": "display_data"
    }
   ],
   "source": [
    "ConfusionMatrixDisplay.from_predictions(y_test, y_test_tfidf_predict)"
   ]
  },
  {
   "cell_type": "code",
   "execution_count": 45,
   "metadata": {
    "colab": {
     "base_uri": "https://localhost:8080/"
    },
    "id": "GtvdtlkMWid4",
    "outputId": "d9d296f0-5230-414b-89da-b89d135968b4"
   },
   "outputs": [
    {
     "name": "stdout",
     "output_type": "stream",
     "text": [
      "Precision: 1.0\n",
      "Recall: 1.0\n",
      "F1: 1.0\n"
     ]
    }
   ],
   "source": [
    "print(\"Precision:\", precision_score(y_train, y_train_tfidf_predict))\n",
    "print(\"Recall:\", recall_score(y_train, y_train_tfidf_predict))\n",
    "print(\"F1:\", f1_score(y_train, y_train_tfidf_predict))"
   ]
  },
  {
   "cell_type": "code",
   "execution_count": 46,
   "metadata": {
    "colab": {
     "base_uri": "https://localhost:8080/"
    },
    "id": "PhgoBL9UWid4",
    "outputId": "67b4d542-2dc1-487e-8c50-381941e7f320"
   },
   "outputs": [
    {
     "name": "stdout",
     "output_type": "stream",
     "text": [
      "Precision: 0.8482252141982864\n",
      "Recall: 0.8873239436619719\n",
      "F1: 0.867334167709637\n"
     ]
    }
   ],
   "source": [
    "print(\"Precision:\", precision_score(y_test, y_test_tfidf_predict))\n",
    "print(\"Recall:\", recall_score(y_test, y_test_tfidf_predict))\n",
    "print(\"F1:\", f1_score(y_test, y_test_tfidf_predict))"
   ]
  },
  {
   "cell_type": "markdown",
   "metadata": {
    "id": "vQy_aw8mWid4"
   },
   "source": [
    "### Model selection"
   ]
  },
  {
   "cell_type": "code",
   "execution_count": 47,
   "metadata": {
    "id": "YZSpWOK7Wid4"
   },
   "outputs": [],
   "source": [
    "pipeline = Pipeline(steps = [\n",
    "    (\"vectorizer\", CountVectorizer(tokenizer=word_tokenize, stop_words=stop_words, lowercase=True)),\n",
    "    (\"classifier\", RandomForestClassifier(random_state=4))\n",
    "])"
   ]
  },
  {
   "cell_type": "code",
   "execution_count": 48,
   "metadata": {
    "id": "elV_Lg45Wid4"
   },
   "outputs": [],
   "source": [
    "param_grid = {\n",
    "    \"vectorizer\": [CountVectorizer(tokenizer=word_tokenize, stop_words=stop_words), TfidfVectorizer(tokenizer=word_tokenize, stop_words=stop_words)],\n",
    "    \"vectorizer__lowercase\": [True, False],\n",
    "    \"classifier__n_estimators\": [50, 100],\n",
    "    \"classifier__criterion\": ['gini', 'entropy'],\n",
    "    \"classifier__max_depth\": [25, 50, 75, 100]\n",
    "}"
   ]
  },
  {
   "cell_type": "code",
   "execution_count": 49,
   "metadata": {
    "id": "B7BtjTMAWid4"
   },
   "outputs": [],
   "source": [
    "search = RandomizedSearchCV(pipeline, param_grid, n_iter=10, scoring=[\"precision\", \"recall\", \"f1\"], refit=\"f1\", cv=10, return_train_score=True, verbose=1, random_state=5)"
   ]
  },
  {
   "cell_type": "code",
   "execution_count": 50,
   "metadata": {
    "colab": {
     "base_uri": "https://localhost:8080/",
     "height": 170
    },
    "id": "ADkriBY2Wid5",
    "outputId": "2c3bd5de-26d5-4034-c53c-1bddbc7e96ac",
    "tags": []
   },
   "outputs": [
    {
     "name": "stdout",
     "output_type": "stream",
     "text": [
      "Fitting 10 folds for each of 10 candidates, totalling 100 fits\n"
     ]
    },
    {
     "data": {
      "text/html": [
       "<style>#sk-container-id-3 {color: black;}#sk-container-id-3 pre{padding: 0;}#sk-container-id-3 div.sk-toggleable {background-color: white;}#sk-container-id-3 label.sk-toggleable__label {cursor: pointer;display: block;width: 100%;margin-bottom: 0;padding: 0.3em;box-sizing: border-box;text-align: center;}#sk-container-id-3 label.sk-toggleable__label-arrow:before {content: \"▸\";float: left;margin-right: 0.25em;color: #696969;}#sk-container-id-3 label.sk-toggleable__label-arrow:hover:before {color: black;}#sk-container-id-3 div.sk-estimator:hover label.sk-toggleable__label-arrow:before {color: black;}#sk-container-id-3 div.sk-toggleable__content {max-height: 0;max-width: 0;overflow: hidden;text-align: left;background-color: #f0f8ff;}#sk-container-id-3 div.sk-toggleable__content pre {margin: 0.2em;color: black;border-radius: 0.25em;background-color: #f0f8ff;}#sk-container-id-3 input.sk-toggleable__control:checked~div.sk-toggleable__content {max-height: 200px;max-width: 100%;overflow: auto;}#sk-container-id-3 input.sk-toggleable__control:checked~label.sk-toggleable__label-arrow:before {content: \"▾\";}#sk-container-id-3 div.sk-estimator input.sk-toggleable__control:checked~label.sk-toggleable__label {background-color: #d4ebff;}#sk-container-id-3 div.sk-label input.sk-toggleable__control:checked~label.sk-toggleable__label {background-color: #d4ebff;}#sk-container-id-3 input.sk-hidden--visually {border: 0;clip: rect(1px 1px 1px 1px);clip: rect(1px, 1px, 1px, 1px);height: 1px;margin: -1px;overflow: hidden;padding: 0;position: absolute;width: 1px;}#sk-container-id-3 div.sk-estimator {font-family: monospace;background-color: #f0f8ff;border: 1px dotted black;border-radius: 0.25em;box-sizing: border-box;margin-bottom: 0.5em;}#sk-container-id-3 div.sk-estimator:hover {background-color: #d4ebff;}#sk-container-id-3 div.sk-parallel-item::after {content: \"\";width: 100%;border-bottom: 1px solid gray;flex-grow: 1;}#sk-container-id-3 div.sk-label:hover label.sk-toggleable__label {background-color: #d4ebff;}#sk-container-id-3 div.sk-serial::before {content: \"\";position: absolute;border-left: 1px solid gray;box-sizing: border-box;top: 0;bottom: 0;left: 50%;z-index: 0;}#sk-container-id-3 div.sk-serial {display: flex;flex-direction: column;align-items: center;background-color: white;padding-right: 0.2em;padding-left: 0.2em;position: relative;}#sk-container-id-3 div.sk-item {position: relative;z-index: 1;}#sk-container-id-3 div.sk-parallel {display: flex;align-items: stretch;justify-content: center;background-color: white;position: relative;}#sk-container-id-3 div.sk-item::before, #sk-container-id-3 div.sk-parallel-item::before {content: \"\";position: absolute;border-left: 1px solid gray;box-sizing: border-box;top: 0;bottom: 0;left: 50%;z-index: -1;}#sk-container-id-3 div.sk-parallel-item {display: flex;flex-direction: column;z-index: 1;position: relative;background-color: white;}#sk-container-id-3 div.sk-parallel-item:first-child::after {align-self: flex-end;width: 50%;}#sk-container-id-3 div.sk-parallel-item:last-child::after {align-self: flex-start;width: 50%;}#sk-container-id-3 div.sk-parallel-item:only-child::after {width: 0;}#sk-container-id-3 div.sk-dashed-wrapped {border: 1px dashed gray;margin: 0 0.4em 0.5em 0.4em;box-sizing: border-box;padding-bottom: 0.4em;background-color: white;}#sk-container-id-3 div.sk-label label {font-family: monospace;font-weight: bold;display: inline-block;line-height: 1.2em;}#sk-container-id-3 div.sk-label-container {text-align: center;}#sk-container-id-3 div.sk-container {/* jupyter's `normalize.less` sets `[hidden] { display: none; }` but bootstrap.min.css set `[hidden] { display: none !important; }` so we also need the `!important` here to be able to override the default hidden behavior on the sphinx rendered scikit-learn.org. See: https://github.com/scikit-learn/scikit-learn/issues/21755 */display: inline-block !important;position: relative;}#sk-container-id-3 div.sk-text-repr-fallback {display: none;}</style><div id=\"sk-container-id-3\" class=\"sk-top-container\"><div class=\"sk-text-repr-fallback\"><pre>RandomizedSearchCV(cv=10,\n",
       "                   estimator=Pipeline(steps=[(&#x27;vectorizer&#x27;,\n",
       "                                              CountVectorizer(stop_words=[&#x27;i&#x27;,\n",
       "                                                                          &#x27;me&#x27;,\n",
       "                                                                          &#x27;my&#x27;,\n",
       "                                                                          &#x27;myself&#x27;,\n",
       "                                                                          &#x27;we&#x27;,\n",
       "                                                                          &#x27;our&#x27;,\n",
       "                                                                          &#x27;ours&#x27;,\n",
       "                                                                          &#x27;ourselves&#x27;,\n",
       "                                                                          &#x27;you&#x27;,\n",
       "                                                                          &quot;you&#x27;re&quot;,\n",
       "                                                                          &quot;you&#x27;ve&quot;,\n",
       "                                                                          &quot;you&#x27;ll&quot;,\n",
       "                                                                          &quot;you&#x27;d&quot;,\n",
       "                                                                          &#x27;your&#x27;,\n",
       "                                                                          &#x27;yours&#x27;,\n",
       "                                                                          &#x27;yourself&#x27;,\n",
       "                                                                          &#x27;yourselves&#x27;,\n",
       "                                                                          &#x27;he&#x27;,\n",
       "                                                                          &#x27;him&#x27;,\n",
       "                                                                          &#x27;his&#x27;,\n",
       "                                                                          &#x27;himself&#x27;,\n",
       "                                                                          &#x27;she&#x27;,\n",
       "                                                                          &quot;she&#x27;s&quot;,\n",
       "                                                                          &#x27;her&#x27;,\n",
       "                                                                          &#x27;hers&#x27;,\n",
       "                                                                          &#x27;herself&#x27;,\n",
       "                                                                          &#x27;it&#x27;,\n",
       "                                                                          &quot;it&#x27;s&quot;,\n",
       "                                                                          &#x27;its&#x27;,\n",
       "                                                                          &#x27;itself&#x27;, ...],\n",
       "                                                              tokenizer=&lt;function word_toke...\n",
       "                                                                                   &quot;you&#x27;ve&quot;,\n",
       "                                                                                   &quot;you&#x27;ll&quot;,\n",
       "                                                                                   &quot;you&#x27;d&quot;,\n",
       "                                                                                   &#x27;your&#x27;,\n",
       "                                                                                   &#x27;yours&#x27;,\n",
       "                                                                                   &#x27;yourself&#x27;,\n",
       "                                                                                   &#x27;yourselves&#x27;,\n",
       "                                                                                   &#x27;he&#x27;,\n",
       "                                                                                   &#x27;him&#x27;,\n",
       "                                                                                   &#x27;his&#x27;,\n",
       "                                                                                   &#x27;himself&#x27;,\n",
       "                                                                                   &#x27;she&#x27;,\n",
       "                                                                                   &quot;she&#x27;s&quot;,\n",
       "                                                                                   &#x27;her&#x27;,\n",
       "                                                                                   &#x27;hers&#x27;,\n",
       "                                                                                   &#x27;herself&#x27;,\n",
       "                                                                                   &#x27;it&#x27;,\n",
       "                                                                                   &quot;it&#x27;s&quot;,\n",
       "                                                                                   &#x27;its&#x27;,\n",
       "                                                                                   &#x27;itself&#x27;, ...],\n",
       "                                                                       tokenizer=&lt;function word_tokenize at 0x000001B22FFD2660&gt;)],\n",
       "                                        &#x27;vectorizer__lowercase&#x27;: [True, False]},\n",
       "                   random_state=5, refit=&#x27;f1&#x27;, return_train_score=True,\n",
       "                   scoring=[&#x27;precision&#x27;, &#x27;recall&#x27;, &#x27;f1&#x27;], verbose=1)</pre><b>In a Jupyter environment, please rerun this cell to show the HTML representation or trust the notebook. <br />On GitHub, the HTML representation is unable to render, please try loading this page with nbviewer.org.</b></div><div class=\"sk-container\" hidden><div class=\"sk-item sk-dashed-wrapped\"><div class=\"sk-label-container\"><div class=\"sk-label sk-toggleable\"><input class=\"sk-toggleable__control sk-hidden--visually\" id=\"sk-estimator-id-3\" type=\"checkbox\" ><label for=\"sk-estimator-id-3\" class=\"sk-toggleable__label sk-toggleable__label-arrow\">RandomizedSearchCV</label><div class=\"sk-toggleable__content\"><pre>RandomizedSearchCV(cv=10,\n",
       "                   estimator=Pipeline(steps=[(&#x27;vectorizer&#x27;,\n",
       "                                              CountVectorizer(stop_words=[&#x27;i&#x27;,\n",
       "                                                                          &#x27;me&#x27;,\n",
       "                                                                          &#x27;my&#x27;,\n",
       "                                                                          &#x27;myself&#x27;,\n",
       "                                                                          &#x27;we&#x27;,\n",
       "                                                                          &#x27;our&#x27;,\n",
       "                                                                          &#x27;ours&#x27;,\n",
       "                                                                          &#x27;ourselves&#x27;,\n",
       "                                                                          &#x27;you&#x27;,\n",
       "                                                                          &quot;you&#x27;re&quot;,\n",
       "                                                                          &quot;you&#x27;ve&quot;,\n",
       "                                                                          &quot;you&#x27;ll&quot;,\n",
       "                                                                          &quot;you&#x27;d&quot;,\n",
       "                                                                          &#x27;your&#x27;,\n",
       "                                                                          &#x27;yours&#x27;,\n",
       "                                                                          &#x27;yourself&#x27;,\n",
       "                                                                          &#x27;yourselves&#x27;,\n",
       "                                                                          &#x27;he&#x27;,\n",
       "                                                                          &#x27;him&#x27;,\n",
       "                                                                          &#x27;his&#x27;,\n",
       "                                                                          &#x27;himself&#x27;,\n",
       "                                                                          &#x27;she&#x27;,\n",
       "                                                                          &quot;she&#x27;s&quot;,\n",
       "                                                                          &#x27;her&#x27;,\n",
       "                                                                          &#x27;hers&#x27;,\n",
       "                                                                          &#x27;herself&#x27;,\n",
       "                                                                          &#x27;it&#x27;,\n",
       "                                                                          &quot;it&#x27;s&quot;,\n",
       "                                                                          &#x27;its&#x27;,\n",
       "                                                                          &#x27;itself&#x27;, ...],\n",
       "                                                              tokenizer=&lt;function word_toke...\n",
       "                                                                                   &quot;you&#x27;ve&quot;,\n",
       "                                                                                   &quot;you&#x27;ll&quot;,\n",
       "                                                                                   &quot;you&#x27;d&quot;,\n",
       "                                                                                   &#x27;your&#x27;,\n",
       "                                                                                   &#x27;yours&#x27;,\n",
       "                                                                                   &#x27;yourself&#x27;,\n",
       "                                                                                   &#x27;yourselves&#x27;,\n",
       "                                                                                   &#x27;he&#x27;,\n",
       "                                                                                   &#x27;him&#x27;,\n",
       "                                                                                   &#x27;his&#x27;,\n",
       "                                                                                   &#x27;himself&#x27;,\n",
       "                                                                                   &#x27;she&#x27;,\n",
       "                                                                                   &quot;she&#x27;s&quot;,\n",
       "                                                                                   &#x27;her&#x27;,\n",
       "                                                                                   &#x27;hers&#x27;,\n",
       "                                                                                   &#x27;herself&#x27;,\n",
       "                                                                                   &#x27;it&#x27;,\n",
       "                                                                                   &quot;it&#x27;s&quot;,\n",
       "                                                                                   &#x27;its&#x27;,\n",
       "                                                                                   &#x27;itself&#x27;, ...],\n",
       "                                                                       tokenizer=&lt;function word_tokenize at 0x000001B22FFD2660&gt;)],\n",
       "                                        &#x27;vectorizer__lowercase&#x27;: [True, False]},\n",
       "                   random_state=5, refit=&#x27;f1&#x27;, return_train_score=True,\n",
       "                   scoring=[&#x27;precision&#x27;, &#x27;recall&#x27;, &#x27;f1&#x27;], verbose=1)</pre></div></div></div><div class=\"sk-parallel\"><div class=\"sk-parallel-item\"><div class=\"sk-item\"><div class=\"sk-label-container\"><div class=\"sk-label sk-toggleable\"><input class=\"sk-toggleable__control sk-hidden--visually\" id=\"sk-estimator-id-4\" type=\"checkbox\" ><label for=\"sk-estimator-id-4\" class=\"sk-toggleable__label sk-toggleable__label-arrow\">estimator: Pipeline</label><div class=\"sk-toggleable__content\"><pre>Pipeline(steps=[(&#x27;vectorizer&#x27;,\n",
       "                 CountVectorizer(stop_words=[&#x27;i&#x27;, &#x27;me&#x27;, &#x27;my&#x27;, &#x27;myself&#x27;, &#x27;we&#x27;,\n",
       "                                             &#x27;our&#x27;, &#x27;ours&#x27;, &#x27;ourselves&#x27;, &#x27;you&#x27;,\n",
       "                                             &quot;you&#x27;re&quot;, &quot;you&#x27;ve&quot;, &quot;you&#x27;ll&quot;,\n",
       "                                             &quot;you&#x27;d&quot;, &#x27;your&#x27;, &#x27;yours&#x27;,\n",
       "                                             &#x27;yourself&#x27;, &#x27;yourselves&#x27;, &#x27;he&#x27;,\n",
       "                                             &#x27;him&#x27;, &#x27;his&#x27;, &#x27;himself&#x27;, &#x27;she&#x27;,\n",
       "                                             &quot;she&#x27;s&quot;, &#x27;her&#x27;, &#x27;hers&#x27;, &#x27;herself&#x27;,\n",
       "                                             &#x27;it&#x27;, &quot;it&#x27;s&quot;, &#x27;its&#x27;, &#x27;itself&#x27;, ...],\n",
       "                                 tokenizer=&lt;function word_tokenize at 0x000001B22FFD2660&gt;)),\n",
       "                (&#x27;classifier&#x27;, RandomForestClassifier(random_state=4))])</pre></div></div></div><div class=\"sk-serial\"><div class=\"sk-item\"><div class=\"sk-serial\"><div class=\"sk-item\"><div class=\"sk-estimator sk-toggleable\"><input class=\"sk-toggleable__control sk-hidden--visually\" id=\"sk-estimator-id-5\" type=\"checkbox\" ><label for=\"sk-estimator-id-5\" class=\"sk-toggleable__label sk-toggleable__label-arrow\">CountVectorizer</label><div class=\"sk-toggleable__content\"><pre>CountVectorizer(stop_words=[&#x27;i&#x27;, &#x27;me&#x27;, &#x27;my&#x27;, &#x27;myself&#x27;, &#x27;we&#x27;, &#x27;our&#x27;, &#x27;ours&#x27;,\n",
       "                            &#x27;ourselves&#x27;, &#x27;you&#x27;, &quot;you&#x27;re&quot;, &quot;you&#x27;ve&quot;, &quot;you&#x27;ll&quot;,\n",
       "                            &quot;you&#x27;d&quot;, &#x27;your&#x27;, &#x27;yours&#x27;, &#x27;yourself&#x27;, &#x27;yourselves&#x27;,\n",
       "                            &#x27;he&#x27;, &#x27;him&#x27;, &#x27;his&#x27;, &#x27;himself&#x27;, &#x27;she&#x27;, &quot;she&#x27;s&quot;,\n",
       "                            &#x27;her&#x27;, &#x27;hers&#x27;, &#x27;herself&#x27;, &#x27;it&#x27;, &quot;it&#x27;s&quot;, &#x27;its&#x27;,\n",
       "                            &#x27;itself&#x27;, ...],\n",
       "                tokenizer=&lt;function word_tokenize at 0x000001B22FFD2660&gt;)</pre></div></div></div><div class=\"sk-item\"><div class=\"sk-estimator sk-toggleable\"><input class=\"sk-toggleable__control sk-hidden--visually\" id=\"sk-estimator-id-6\" type=\"checkbox\" ><label for=\"sk-estimator-id-6\" class=\"sk-toggleable__label sk-toggleable__label-arrow\">RandomForestClassifier</label><div class=\"sk-toggleable__content\"><pre>RandomForestClassifier(random_state=4)</pre></div></div></div></div></div></div></div></div></div></div></div></div>"
      ],
      "text/plain": [
       "RandomizedSearchCV(cv=10,\n",
       "                   estimator=Pipeline(steps=[('vectorizer',\n",
       "                                              CountVectorizer(stop_words=['i',\n",
       "                                                                          'me',\n",
       "                                                                          'my',\n",
       "                                                                          'myself',\n",
       "                                                                          'we',\n",
       "                                                                          'our',\n",
       "                                                                          'ours',\n",
       "                                                                          'ourselves',\n",
       "                                                                          'you',\n",
       "                                                                          \"you're\",\n",
       "                                                                          \"you've\",\n",
       "                                                                          \"you'll\",\n",
       "                                                                          \"you'd\",\n",
       "                                                                          'your',\n",
       "                                                                          'yours',\n",
       "                                                                          'yourself',\n",
       "                                                                          'yourselves',\n",
       "                                                                          'he',\n",
       "                                                                          'him',\n",
       "                                                                          'his',\n",
       "                                                                          'himself',\n",
       "                                                                          'she',\n",
       "                                                                          \"she's\",\n",
       "                                                                          'her',\n",
       "                                                                          'hers',\n",
       "                                                                          'herself',\n",
       "                                                                          'it',\n",
       "                                                                          \"it's\",\n",
       "                                                                          'its',\n",
       "                                                                          'itself', ...],\n",
       "                                                              tokenizer=<function word_toke...\n",
       "                                                                                   \"you've\",\n",
       "                                                                                   \"you'll\",\n",
       "                                                                                   \"you'd\",\n",
       "                                                                                   'your',\n",
       "                                                                                   'yours',\n",
       "                                                                                   'yourself',\n",
       "                                                                                   'yourselves',\n",
       "                                                                                   'he',\n",
       "                                                                                   'him',\n",
       "                                                                                   'his',\n",
       "                                                                                   'himself',\n",
       "                                                                                   'she',\n",
       "                                                                                   \"she's\",\n",
       "                                                                                   'her',\n",
       "                                                                                   'hers',\n",
       "                                                                                   'herself',\n",
       "                                                                                   'it',\n",
       "                                                                                   \"it's\",\n",
       "                                                                                   'its',\n",
       "                                                                                   'itself', ...],\n",
       "                                                                       tokenizer=<function word_tokenize at 0x000001B22FFD2660>)],\n",
       "                                        'vectorizer__lowercase': [True, False]},\n",
       "                   random_state=5, refit='f1', return_train_score=True,\n",
       "                   scoring=['precision', 'recall', 'f1'], verbose=1)"
      ]
     },
     "execution_count": 50,
     "metadata": {},
     "output_type": "execute_result"
    }
   ],
   "source": [
    "search.fit(X_train[\"title\"], y_train)"
   ]
  },
  {
   "cell_type": "code",
   "execution_count": 51,
   "metadata": {
    "colab": {
     "base_uri": "https://localhost:8080/"
    },
    "id": "rPywF-_oWid5",
    "outputId": "4a1e268d-afaa-4503-add4-c1effe1424df"
   },
   "outputs": [
    {
     "data": {
      "text/plain": [
       "{'vectorizer__lowercase': False,\n",
       " 'vectorizer': CountVectorizer(lowercase=False,\n",
       "                 stop_words=['i', 'me', 'my', 'myself', 'we', 'our', 'ours',\n",
       "                             'ourselves', 'you', \"you're\", \"you've\", \"you'll\",\n",
       "                             \"you'd\", 'your', 'yours', 'yourself', 'yourselves',\n",
       "                             'he', 'him', 'his', 'himself', 'she', \"she's\",\n",
       "                             'her', 'hers', 'herself', 'it', \"it's\", 'its',\n",
       "                             'itself', ...],\n",
       "                 tokenizer=<function word_tokenize at 0x000001B22FFD2660>),\n",
       " 'classifier__n_estimators': 100,\n",
       " 'classifier__max_depth': 100,\n",
       " 'classifier__criterion': 'entropy'}"
      ]
     },
     "execution_count": 51,
     "metadata": {},
     "output_type": "execute_result"
    }
   ],
   "source": [
    "search.best_params_"
   ]
  },
  {
   "cell_type": "code",
   "execution_count": 52,
   "metadata": {
    "colab": {
     "base_uri": "https://localhost:8080/"
    },
    "id": "Dd07oqilWid5",
    "outputId": "e3f5a598-99d8-41b8-e380-5b96ab99af9e"
   },
   "outputs": [
    {
     "data": {
      "text/plain": [
       "0.8809494888296348"
      ]
     },
     "execution_count": 52,
     "metadata": {},
     "output_type": "execute_result"
    }
   ],
   "source": [
    "search.best_score_"
   ]
  },
  {
   "cell_type": "code",
   "execution_count": 53,
   "metadata": {
    "id": "o751twkUWid5"
   },
   "outputs": [],
   "source": [
    "y_train_search_predict = search.best_estimator_.predict(X_train[\"title\"])\n",
    "y_test_search_predict = search.best_estimator_.predict(X_test[\"title\"])"
   ]
  },
  {
   "cell_type": "code",
   "execution_count": 54,
   "metadata": {
    "colab": {
     "base_uri": "https://localhost:8080/"
    },
    "id": "XiDJSUZbb3OV",
    "outputId": "a7e77ae7-14a9-4eba-bed1-09246898e145"
   },
   "outputs": [
    {
     "name": "stdout",
     "output_type": "stream",
     "text": [
      "Precision: 0.9789075175770687\n",
      "Recall: 0.9934138309549945\n",
      "F1: 0.986107327703623\n"
     ]
    }
   ],
   "source": [
    "print(\"Precision:\", precision_score(y_train, y_train_search_predict))\n",
    "print(\"Recall:\", recall_score(y_train, y_train_search_predict))\n",
    "print(\"F1:\", f1_score(y_train, y_train_search_predict))"
   ]
  },
  {
   "cell_type": "code",
   "execution_count": 55,
   "metadata": {
    "colab": {
     "base_uri": "https://localhost:8080/"
    },
    "id": "cQx6G3WOWid5",
    "outputId": "d4ba6965-3298-4811-9672-b03aee0e0b4e"
   },
   "outputs": [
    {
     "name": "stdout",
     "output_type": "stream",
     "text": [
      "Precision: 0.900523560209424\n",
      "Recall: 0.8809218950064021\n",
      "F1: 0.8906148867313916\n"
     ]
    }
   ],
   "source": [
    "print(\"Precision:\", precision_score(y_test, y_test_search_predict))\n",
    "print(\"Recall:\", recall_score(y_test, y_test_search_predict))\n",
    "print(\"F1:\", f1_score(y_test, y_test_search_predict))"
   ]
  },
  {
   "cell_type": "code",
   "execution_count": null,
   "metadata": {
    "id": "tRudUpaAWid5"
   },
   "outputs": [],
   "source": []
  }
 ],
 "metadata": {
  "colab": {
   "provenance": []
  },
  "kernelspec": {
   "display_name": "Python 3 (ipykernel)",
   "language": "python",
   "name": "python3"
  },
  "language_info": {
   "codemirror_mode": {
    "name": "ipython",
    "version": 3
   },
   "file_extension": ".py",
   "mimetype": "text/x-python",
   "name": "python",
   "nbconvert_exporter": "python",
   "pygments_lexer": "ipython3",
   "version": "3.11.1"
  }
 },
 "nbformat": 4,
 "nbformat_minor": 4
}
